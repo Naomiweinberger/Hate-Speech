{
  "nbformat": 4,
  "nbformat_minor": 0,
  "metadata": {
    "colab": {
      "name": "Spacy_twitter .ipynb",
      "provenance": [],
      "collapsed_sections": [],
      "authorship_tag": "ABX9TyNN5fDLAnsmCzN3qOK0m7iD",
      "include_colab_link": true
    },
    "kernelspec": {
      "display_name": "Python 3",
      "name": "python3"
    },
    "language_info": {
      "name": "python"
    }
  },
  "cells": [
    {
      "cell_type": "markdown",
      "metadata": {
        "id": "view-in-github",
        "colab_type": "text"
      },
      "source": [
        "<a href=\"https://colab.research.google.com/github/Naomiweinberger/Hate-Speech/blob/main/Spacy_twitter_.ipynb\" target=\"_parent\"><img src=\"https://colab.research.google.com/assets/colab-badge.svg\" alt=\"Open In Colab\"/></a>"
      ]
    },
    {
      "cell_type": "markdown",
      "metadata": {
        "id": "kkhn3PfS-nVP"
      },
      "source": [
        "**Import libraries** "
      ]
    },
    {
      "cell_type": "code",
      "metadata": {
        "colab": {
          "base_uri": "https://localhost:8080/"
        },
        "id": "66zd6G8AoKp9",
        "outputId": "899419d1-5b73-4099-e863-779cb4a7f43d"
      },
      "source": [
        "import numpy as np\n",
        "import matplotlib.pyplot as plt\n",
        "import pandas as pd\n",
        "import seaborn as sns\n",
        "import re\n",
        "import nltk\n",
        "nltk.download('stopwords')\n",
        "from nltk.corpus import stopwords\n",
        "from nltk.stem.porter import PorterStemmer\n",
        "stemmer = nltk.SnowballStemmer(\"english\")\n",
        "from nltk.corpus import stopwords\n",
        "import string\n",
        "stopword=set(stopwords.words('english'))\n",
        "from wordcloud import WordCloud, STOPWORDS\n",
        "from sklearn.feature_extraction.text import CountVectorizer\n",
        "from nltk import word_tokenize, FreqDist\n",
        "from sklearn.feature_extraction.text import TfidfVectorizer\n",
        "from sklearn.metrics import accuracy_score\n",
        "from sklearn.ensemble import RandomForestClassifier\n",
        "from sklearn.naive_bayes import MultinomialNB\n",
        "np.random.seed(0)\n",
        "from nltk.tokenize import TweetTokenizer\n",
        "from nltk.stem import WordNetLemmatizer\n",
        "nltk.download('wordnet')\n",
        "from sklearn.metrics import accuracy_score\n",
        "from sklearn.naive_bayes import GaussianNB\n",
        "from sklearn.metrics import roc_curve, auc\n",
        "from sklearn.metrics import precision_score, recall_score, accuracy_score, f1_score\n",
        "from sklearn.metrics import confusion_matrix\n",
        "from sklearn.metrics import plot_confusion_matrix\n",
        "from sklearn.metrics import classification_report\n",
        "from sklearn.neighbors import KNeighborsClassifier\n",
        "from sklearn.tree import DecisionTreeClassifier\n",
        "from sklearn.ensemble import RandomForestClassifier\n",
        "from sklearn.linear_model import LogisticRegression\n",
        "from sklearn.naive_bayes import GaussianNB\n",
        "from xgboost import XGBClassifier as xgb\n",
        "\n",
        "from sklearn.model_selection import train_test_split, GridSearchCV\n",
        "from sklearn.preprocessing import StandardScaler, PolynomialFeatures\n",
        "from imblearn.pipeline import Pipeline as IMBPipeline\n",
        "\n",
        "from imblearn.over_sampling import SMOTE\n",
        "import warnings\n",
        "warnings.filterwarnings(\"ignore\")"
      ],
      "execution_count": null,
      "outputs": [
        {
          "output_type": "stream",
          "name": "stdout",
          "text": [
            "[nltk_data] Downloading package stopwords to /root/nltk_data...\n",
            "[nltk_data]   Unzipping corpora/stopwords.zip.\n",
            "[nltk_data] Downloading package wordnet to /root/nltk_data...\n",
            "[nltk_data]   Unzipping corpora/wordnet.zip.\n"
          ]
        },
        {
          "output_type": "stream",
          "name": "stderr",
          "text": [
            "/usr/local/lib/python3.7/dist-packages/sklearn/externals/six.py:31: FutureWarning: The module is deprecated in version 0.21 and will be removed in version 0.23 since we've dropped support for Python 2.7. Please rely on the official version of six (https://pypi.org/project/six/).\n",
            "  \"(https://pypi.org/project/six/).\", FutureWarning)\n",
            "/usr/local/lib/python3.7/dist-packages/sklearn/utils/deprecation.py:144: FutureWarning: The sklearn.neighbors.base module is  deprecated in version 0.22 and will be removed in version 0.24. The corresponding classes / functions should instead be imported from sklearn.neighbors. Anything that cannot be imported from sklearn.neighbors is now part of the private API.\n",
            "  warnings.warn(message, FutureWarning)\n"
          ]
        }
      ]
    },
    {
      "cell_type": "markdown",
      "metadata": {
        "id": "3b96xV3Z_3B5"
      },
      "source": [
        "**Model Function **"
      ]
    },
    {
      "cell_type": "code",
      "metadata": {
        "id": "hbYj8MOI_1YP"
      },
      "source": [
        "def run_model(model, X_train, X_test, y_train, y_test):\n",
        "    model.fit(X_train, y_train)\n",
        "\n",
        "    y_pred_train = model.predict(X_train)\n",
        "    y_pred_test = model.predict(X_test)    \n",
        "    cnf_matrix_test = confusion_matrix(y_test,  y_pred_test)\n",
        "    cnf_matrix_train = confusion_matrix(y_train,  y_pred_train)\n",
        "    print('Confusion Matrix for Train Set:\\n', cnf_matrix_train) \n",
        "    print('Confusion Matrix for Test Set:\\n', cnf_matrix_test)\n",
        " \n",
        "    cnf_matrix_train = confusion_matrix(y_train,  y_pred_train)\n",
        "  \n",
        "    print('Classification Report for Train Set:\\n',classification_report(y_train, y_pred_train))\n",
        "    print('Classification Report for Test Set:\\n',classification_report(y_test , y_pred_test))\n",
        " \n",
        "    \n",
        "    plot_confusion_matrix(model, X_test, y_test,\n",
        "                     cmap=plt.cm.Blues)\n",
        "    plot_confusion_matrix(model, X_train, y_train,\n",
        "                     cmap=plt.cm.Blues)\n",
        "    \n",
        "   \n",
        "    return model"
      ],
      "execution_count": null,
      "outputs": []
    },
    {
      "cell_type": "markdown",
      "metadata": {
        "id": "qvWAhX-M-QVF"
      },
      "source": [
        "**Data**"
      ]
    },
    {
      "cell_type": "code",
      "metadata": {
        "colab": {
          "base_uri": "https://localhost:8080/"
        },
        "id": "I9AHRuXVzUiC",
        "outputId": "872aff5c-4a97-45b8-a8b5-da88c71d3068"
      },
      "source": [
        "import spacy\n",
        "from tqdm import tqdm\n",
        "tqdm.pandas()\n",
        "!python3 -m spacy download en_core_web_md"
      ],
      "execution_count": null,
      "outputs": [
        {
          "output_type": "stream",
          "name": "stdout",
          "text": [
            "Collecting en_core_web_md==2.2.5\n",
            "  Downloading https://github.com/explosion/spacy-models/releases/download/en_core_web_md-2.2.5/en_core_web_md-2.2.5.tar.gz (96.4 MB)\n",
            "\u001b[K     |████████████████████████████████| 96.4 MB 1.3 MB/s \n",
            "\u001b[?25hRequirement already satisfied: spacy>=2.2.2 in /usr/local/lib/python3.7/dist-packages (from en_core_web_md==2.2.5) (2.2.4)\n",
            "Requirement already satisfied: wasabi<1.1.0,>=0.4.0 in /usr/local/lib/python3.7/dist-packages (from spacy>=2.2.2->en_core_web_md==2.2.5) (0.8.2)\n",
            "Requirement already satisfied: plac<1.2.0,>=0.9.6 in /usr/local/lib/python3.7/dist-packages (from spacy>=2.2.2->en_core_web_md==2.2.5) (1.1.3)\n",
            "Requirement already satisfied: requests<3.0.0,>=2.13.0 in /usr/local/lib/python3.7/dist-packages (from spacy>=2.2.2->en_core_web_md==2.2.5) (2.23.0)\n",
            "Requirement already satisfied: numpy>=1.15.0 in /usr/local/lib/python3.7/dist-packages (from spacy>=2.2.2->en_core_web_md==2.2.5) (1.19.5)\n",
            "Requirement already satisfied: cymem<2.1.0,>=2.0.2 in /usr/local/lib/python3.7/dist-packages (from spacy>=2.2.2->en_core_web_md==2.2.5) (2.0.5)\n",
            "Requirement already satisfied: catalogue<1.1.0,>=0.0.7 in /usr/local/lib/python3.7/dist-packages (from spacy>=2.2.2->en_core_web_md==2.2.5) (1.0.0)\n",
            "Requirement already satisfied: tqdm<5.0.0,>=4.38.0 in /usr/local/lib/python3.7/dist-packages (from spacy>=2.2.2->en_core_web_md==2.2.5) (4.62.3)\n",
            "Requirement already satisfied: preshed<3.1.0,>=3.0.2 in /usr/local/lib/python3.7/dist-packages (from spacy>=2.2.2->en_core_web_md==2.2.5) (3.0.5)\n",
            "Requirement already satisfied: srsly<1.1.0,>=1.0.2 in /usr/local/lib/python3.7/dist-packages (from spacy>=2.2.2->en_core_web_md==2.2.5) (1.0.5)\n",
            "Requirement already satisfied: blis<0.5.0,>=0.4.0 in /usr/local/lib/python3.7/dist-packages (from spacy>=2.2.2->en_core_web_md==2.2.5) (0.4.1)\n",
            "Requirement already satisfied: setuptools in /usr/local/lib/python3.7/dist-packages (from spacy>=2.2.2->en_core_web_md==2.2.5) (57.4.0)\n",
            "Requirement already satisfied: thinc==7.4.0 in /usr/local/lib/python3.7/dist-packages (from spacy>=2.2.2->en_core_web_md==2.2.5) (7.4.0)\n",
            "Requirement already satisfied: murmurhash<1.1.0,>=0.28.0 in /usr/local/lib/python3.7/dist-packages (from spacy>=2.2.2->en_core_web_md==2.2.5) (1.0.5)\n",
            "Requirement already satisfied: importlib-metadata>=0.20 in /usr/local/lib/python3.7/dist-packages (from catalogue<1.1.0,>=0.0.7->spacy>=2.2.2->en_core_web_md==2.2.5) (4.8.1)\n",
            "Requirement already satisfied: zipp>=0.5 in /usr/local/lib/python3.7/dist-packages (from importlib-metadata>=0.20->catalogue<1.1.0,>=0.0.7->spacy>=2.2.2->en_core_web_md==2.2.5) (3.6.0)\n",
            "Requirement already satisfied: typing-extensions>=3.6.4 in /usr/local/lib/python3.7/dist-packages (from importlib-metadata>=0.20->catalogue<1.1.0,>=0.0.7->spacy>=2.2.2->en_core_web_md==2.2.5) (3.7.4.3)\n",
            "Requirement already satisfied: urllib3!=1.25.0,!=1.25.1,<1.26,>=1.21.1 in /usr/local/lib/python3.7/dist-packages (from requests<3.0.0,>=2.13.0->spacy>=2.2.2->en_core_web_md==2.2.5) (1.24.3)\n",
            "Requirement already satisfied: certifi>=2017.4.17 in /usr/local/lib/python3.7/dist-packages (from requests<3.0.0,>=2.13.0->spacy>=2.2.2->en_core_web_md==2.2.5) (2021.5.30)\n",
            "Requirement already satisfied: idna<3,>=2.5 in /usr/local/lib/python3.7/dist-packages (from requests<3.0.0,>=2.13.0->spacy>=2.2.2->en_core_web_md==2.2.5) (2.10)\n",
            "Requirement already satisfied: chardet<4,>=3.0.2 in /usr/local/lib/python3.7/dist-packages (from requests<3.0.0,>=2.13.0->spacy>=2.2.2->en_core_web_md==2.2.5) (3.0.4)\n",
            "Building wheels for collected packages: en-core-web-md\n",
            "  Building wheel for en-core-web-md (setup.py) ... \u001b[?25l\u001b[?25hdone\n",
            "  Created wheel for en-core-web-md: filename=en_core_web_md-2.2.5-py3-none-any.whl size=98051302 sha256=e9b47d4674149457e65480aa2dae59506a6a7c8e8a4be970e2134f4c1d88344d\n",
            "  Stored in directory: /tmp/pip-ephem-wheel-cache-2vzmo5l8/wheels/69/c5/b8/4f1c029d89238734311b3269762ab2ee325a42da2ce8edb997\n",
            "Successfully built en-core-web-md\n",
            "Installing collected packages: en-core-web-md\n",
            "Successfully installed en-core-web-md-2.2.5\n",
            "\u001b[38;5;2m✔ Download and installation successful\u001b[0m\n",
            "You can now load the model via spacy.load('en_core_web_md')\n"
          ]
        }
      ]
    },
    {
      "cell_type": "code",
      "metadata": {
        "colab": {
          "base_uri": "https://localhost:8080/",
          "height": 204
        },
        "id": "s-58KK63wg1C",
        "outputId": "c3591204-3d73-4275-df0a-4460008a2dd7"
      },
      "source": [
        "hatespeech_df = pd.read_csv(\"/content/labeled_data.csv\")\n",
        "hatespeech_df.head()"
      ],
      "execution_count": null,
      "outputs": [
        {
          "output_type": "execute_result",
          "data": {
            "text/html": [
              "<div>\n",
              "<style scoped>\n",
              "    .dataframe tbody tr th:only-of-type {\n",
              "        vertical-align: middle;\n",
              "    }\n",
              "\n",
              "    .dataframe tbody tr th {\n",
              "        vertical-align: top;\n",
              "    }\n",
              "\n",
              "    .dataframe thead th {\n",
              "        text-align: right;\n",
              "    }\n",
              "</style>\n",
              "<table border=\"1\" class=\"dataframe\">\n",
              "  <thead>\n",
              "    <tr style=\"text-align: right;\">\n",
              "      <th></th>\n",
              "      <th>Unnamed: 0</th>\n",
              "      <th>count</th>\n",
              "      <th>hate_speech</th>\n",
              "      <th>offensive_language</th>\n",
              "      <th>neither</th>\n",
              "      <th>class</th>\n",
              "      <th>tweet</th>\n",
              "    </tr>\n",
              "  </thead>\n",
              "  <tbody>\n",
              "    <tr>\n",
              "      <th>0</th>\n",
              "      <td>0</td>\n",
              "      <td>3</td>\n",
              "      <td>0</td>\n",
              "      <td>0</td>\n",
              "      <td>3</td>\n",
              "      <td>2</td>\n",
              "      <td>!!! RT @mayasolovely: As a woman you shouldn't...</td>\n",
              "    </tr>\n",
              "    <tr>\n",
              "      <th>1</th>\n",
              "      <td>1</td>\n",
              "      <td>3</td>\n",
              "      <td>0</td>\n",
              "      <td>3</td>\n",
              "      <td>0</td>\n",
              "      <td>1</td>\n",
              "      <td>!!!!! RT @mleew17: boy dats cold...tyga dwn ba...</td>\n",
              "    </tr>\n",
              "    <tr>\n",
              "      <th>2</th>\n",
              "      <td>2</td>\n",
              "      <td>3</td>\n",
              "      <td>0</td>\n",
              "      <td>3</td>\n",
              "      <td>0</td>\n",
              "      <td>1</td>\n",
              "      <td>!!!!!!! RT @UrKindOfBrand Dawg!!!! RT @80sbaby...</td>\n",
              "    </tr>\n",
              "    <tr>\n",
              "      <th>3</th>\n",
              "      <td>3</td>\n",
              "      <td>3</td>\n",
              "      <td>0</td>\n",
              "      <td>2</td>\n",
              "      <td>1</td>\n",
              "      <td>1</td>\n",
              "      <td>!!!!!!!!! RT @C_G_Anderson: @viva_based she lo...</td>\n",
              "    </tr>\n",
              "    <tr>\n",
              "      <th>4</th>\n",
              "      <td>4</td>\n",
              "      <td>6</td>\n",
              "      <td>0</td>\n",
              "      <td>6</td>\n",
              "      <td>0</td>\n",
              "      <td>1</td>\n",
              "      <td>!!!!!!!!!!!!! RT @ShenikaRoberts: The shit you...</td>\n",
              "    </tr>\n",
              "  </tbody>\n",
              "</table>\n",
              "</div>"
            ],
            "text/plain": [
              "   Unnamed: 0  count  ...  class                                              tweet\n",
              "0           0      3  ...      2  !!! RT @mayasolovely: As a woman you shouldn't...\n",
              "1           1      3  ...      1  !!!!! RT @mleew17: boy dats cold...tyga dwn ba...\n",
              "2           2      3  ...      1  !!!!!!! RT @UrKindOfBrand Dawg!!!! RT @80sbaby...\n",
              "3           3      3  ...      1  !!!!!!!!! RT @C_G_Anderson: @viva_based she lo...\n",
              "4           4      6  ...      1  !!!!!!!!!!!!! RT @ShenikaRoberts: The shit you...\n",
              "\n",
              "[5 rows x 7 columns]"
            ]
          },
          "metadata": {},
          "execution_count": 6
        }
      ]
    },
    {
      "cell_type": "code",
      "metadata": {
        "colab": {
          "base_uri": "https://localhost:8080/",
          "height": 204
        },
        "id": "uWDZBdnhwGlq",
        "outputId": "36006066-e3f1-48db-8bd3-8387d307f96b"
      },
      "source": [
        "hatespeech_df_2 = pd.read_csv(\"/content/train_E6oV3lV.csv\")\n",
        "hatespeech_df_2.head()"
      ],
      "execution_count": null,
      "outputs": [
        {
          "output_type": "execute_result",
          "data": {
            "text/html": [
              "<div>\n",
              "<style scoped>\n",
              "    .dataframe tbody tr th:only-of-type {\n",
              "        vertical-align: middle;\n",
              "    }\n",
              "\n",
              "    .dataframe tbody tr th {\n",
              "        vertical-align: top;\n",
              "    }\n",
              "\n",
              "    .dataframe thead th {\n",
              "        text-align: right;\n",
              "    }\n",
              "</style>\n",
              "<table border=\"1\" class=\"dataframe\">\n",
              "  <thead>\n",
              "    <tr style=\"text-align: right;\">\n",
              "      <th></th>\n",
              "      <th>id</th>\n",
              "      <th>label</th>\n",
              "      <th>tweet</th>\n",
              "    </tr>\n",
              "  </thead>\n",
              "  <tbody>\n",
              "    <tr>\n",
              "      <th>0</th>\n",
              "      <td>1</td>\n",
              "      <td>0</td>\n",
              "      <td>@user when a father is dysfunctional and is s...</td>\n",
              "    </tr>\n",
              "    <tr>\n",
              "      <th>1</th>\n",
              "      <td>2</td>\n",
              "      <td>0</td>\n",
              "      <td>@user @user thanks for #lyft credit i can't us...</td>\n",
              "    </tr>\n",
              "    <tr>\n",
              "      <th>2</th>\n",
              "      <td>3</td>\n",
              "      <td>0</td>\n",
              "      <td>bihday your majesty</td>\n",
              "    </tr>\n",
              "    <tr>\n",
              "      <th>3</th>\n",
              "      <td>4</td>\n",
              "      <td>0</td>\n",
              "      <td>#model   i love u take with u all the time in ...</td>\n",
              "    </tr>\n",
              "    <tr>\n",
              "      <th>4</th>\n",
              "      <td>5</td>\n",
              "      <td>0</td>\n",
              "      <td>factsguide: society now    #motivation</td>\n",
              "    </tr>\n",
              "  </tbody>\n",
              "</table>\n",
              "</div>"
            ],
            "text/plain": [
              "   id  label                                              tweet\n",
              "0   1      0   @user when a father is dysfunctional and is s...\n",
              "1   2      0  @user @user thanks for #lyft credit i can't us...\n",
              "2   3      0                                bihday your majesty\n",
              "3   4      0  #model   i love u take with u all the time in ...\n",
              "4   5      0             factsguide: society now    #motivation"
            ]
          },
          "metadata": {},
          "execution_count": 7
        }
      ]
    },
    {
      "cell_type": "code",
      "metadata": {
        "id": "g3n_WL1C5uBH"
      },
      "source": [
        "hatespeech_df_1=hatespeech_df[['class','tweet']]"
      ],
      "execution_count": null,
      "outputs": []
    },
    {
      "cell_type": "code",
      "metadata": {
        "id": "Ca3LmaIL5qmB"
      },
      "source": [
        "hatespeech_df_2['class']=hatespeech_df_2['label']"
      ],
      "execution_count": null,
      "outputs": []
    },
    {
      "cell_type": "code",
      "metadata": {
        "id": "Klq1q5_j5nA5"
      },
      "source": [
        "df_2 = pd.DataFrame(hatespeech_df_2, columns= ['class','tweet'])\n",
        "df_2['class'] = df_2['class'].replace([1,0],[0,2])"
      ],
      "execution_count": null,
      "outputs": []
    },
    {
      "cell_type": "code",
      "metadata": {
        "id": "6fxJAVjJ5k_j"
      },
      "source": [
        "hatespeech=pd.concat([hatespeech_df_1, df_2])"
      ],
      "execution_count": null,
      "outputs": []
    },
    {
      "cell_type": "code",
      "metadata": {
        "colab": {
          "base_uri": "https://localhost:8080/"
        },
        "id": "3xvml-J00PTw",
        "outputId": "0ce9f655-aa5a-487d-e163-b3df22219118"
      },
      "source": [
        "hatespeech_df.shape"
      ],
      "execution_count": null,
      "outputs": [
        {
          "output_type": "execute_result",
          "data": {
            "text/plain": [
              "(24783, 7)"
            ]
          },
          "metadata": {},
          "execution_count": 12
        }
      ]
    },
    {
      "cell_type": "code",
      "metadata": {
        "colab": {
          "base_uri": "https://localhost:8080/"
        },
        "id": "NPed9n9soCM3",
        "outputId": "a47d7e03-86f0-4ed9-9825-93ed16e7591c"
      },
      "source": [
        "nlp = spacy.load('en_core_web_sm')\n",
        "hatespeech['spacy'] = hatespeech.tweet.progress_apply(lambda x: nlp(x))"
      ],
      "execution_count": null,
      "outputs": [
        {
          "output_type": "stream",
          "name": "stderr",
          "text": [
            "100%|██████████| 56745/56745 [10:30<00:00, 90.07it/s]\n"
          ]
        }
      ]
    },
    {
      "cell_type": "code",
      "metadata": {
        "id": "FpqNahYLWcmz"
      },
      "source": [
        "df= pd.DataFrame(np.vstack([x.vector for x in hatespeech.spacy]))"
      ],
      "execution_count": null,
      "outputs": []
    },
    {
      "cell_type": "code",
      "metadata": {
        "id": "QDEwvVgQaWW9"
      },
      "source": [
        "X=df\n",
        "y=hatespeech['class']"
      ],
      "execution_count": null,
      "outputs": []
    },
    {
      "cell_type": "code",
      "metadata": {
        "id": "bL5RcgkvbCO-"
      },
      "source": [
        "X_train, X_test, y_train, y_test = train_test_split(X,y,\n",
        "                                                    stratify=y,\n",
        "                                                    test_size=0.2,\n",
        "                                                    random_state=42)"
      ],
      "execution_count": null,
      "outputs": []
    },
    {
      "cell_type": "code",
      "metadata": {
        "id": "okdO6jDJJYHj"
      },
      "source": [
        "oversample = SMOTE()\n",
        "X_train_smote, y_train_smote = oversample.fit_resample(X, y)"
      ],
      "execution_count": null,
      "outputs": []
    },
    {
      "cell_type": "markdown",
      "metadata": {
        "id": "f93bXjr2dVAy"
      },
      "source": [
        "**baseline models **\n"
      ]
    },
    {
      "cell_type": "code",
      "metadata": {
        "colab": {
          "base_uri": "https://localhost:8080/"
        },
        "id": "_8U76duYbTw2",
        "outputId": "ce483d5b-102c-4dc6-f026-913215b45303"
      },
      "source": [
        "classifier_kn = KNeighborsClassifier()\n",
        "classifier_kn.fit(X_train, y_train)\n",
        "y_pred = classifier_kn.predict(X_test)\n",
        "cm = confusion_matrix(y_test, y_pred)\n",
        "print(cm)\n",
        "accuracy_score(y_test, y_pred)\n"
      ],
      "execution_count": null,
      "outputs": [
        {
          "name": "stdout",
          "output_type": "stream",
          "text": [
            "[[ 114  233  387]\n",
            " [  71 3153  614]\n",
            " [  69  815 5893]]\n"
          ]
        },
        {
          "data": {
            "text/plain": [
              "0.807119570006168"
            ]
          },
          "execution_count": 17,
          "metadata": {},
          "output_type": "execute_result"
        }
      ]
    },
    {
      "cell_type": "code",
      "metadata": {
        "colab": {
          "base_uri": "https://localhost:8080/"
        },
        "id": "gr7DMK0F6RIs",
        "outputId": "172da198-655d-4d48-e77b-75557eaac28d"
      },
      "source": [
        "classifier_nb = GaussianNB()\n",
        "classifier_nb.fit(X_train, y_train)\n",
        "y_pred = classifier_nb.predict(X_test)\n",
        "cm = confusion_matrix(y_test, y_pred)\n",
        "print(cm)\n",
        "accuracy_score(y_test, y_pred)\n"
      ],
      "execution_count": null,
      "outputs": [
        {
          "name": "stdout",
          "output_type": "stream",
          "text": [
            "[[  93  263  378]\n",
            " [ 286 3106  446]\n",
            " [ 409 1585 4783]]\n"
          ]
        },
        {
          "data": {
            "text/plain": [
              "0.7033218785796106"
            ]
          },
          "execution_count": 18,
          "metadata": {},
          "output_type": "execute_result"
        }
      ]
    },
    {
      "cell_type": "code",
      "metadata": {
        "colab": {
          "base_uri": "https://localhost:8080/"
        },
        "id": "mI83lDOabxLW",
        "outputId": "12776113-a10e-43bd-fc7b-61d18aa2511a"
      },
      "source": [
        "classifier_dt = DecisionTreeClassifier()\n",
        "classifier_dt.fit(X_train, y_train)\n",
        "y_pred = classifier_dt.predict(X_test)\n",
        "cm = confusion_matrix(y_test, y_pred)\n",
        "print(cm)\n",
        "accuracy_score(y_test, y_pred)"
      ],
      "execution_count": null,
      "outputs": [
        {
          "name": "stdout",
          "output_type": "stream",
          "text": [
            "[[ 157  219  358]\n",
            " [ 249 2462 1127]\n",
            " [ 406 1039 5332]]\n"
          ]
        },
        {
          "data": {
            "text/plain": [
              "0.7005903603841748"
            ]
          },
          "execution_count": 19,
          "metadata": {},
          "output_type": "execute_result"
        }
      ]
    },
    {
      "cell_type": "code",
      "metadata": {
        "colab": {
          "base_uri": "https://localhost:8080/"
        },
        "id": "bW8dSl_Gb0gw",
        "outputId": "24e00267-ce99-44d1-d1c0-499d1ff1b00b"
      },
      "source": [
        "classifier_rt=RandomForestClassifier()\n",
        "classifier_rt.fit(X_train, y_train)\n",
        "y_pred = classifier_rt.predict(X_test)\n",
        "cm = confusion_matrix(y_test, y_pred)\n",
        "print(cm)\n",
        "accuracy_score(y_test, y_pred)"
      ],
      "execution_count": null,
      "outputs": [
        {
          "name": "stdout",
          "output_type": "stream",
          "text": [
            "[[  64  216  454]\n",
            " [   0 3184  654]\n",
            " [   0  709 6068]]\n"
          ]
        },
        {
          "data": {
            "text/plain": [
              "0.8208652744735219"
            ]
          },
          "execution_count": 20,
          "metadata": {},
          "output_type": "execute_result"
        }
      ]
    },
    {
      "cell_type": "code",
      "metadata": {
        "colab": {
          "base_uri": "https://localhost:8080/"
        },
        "id": "JayET3WCb6IR",
        "outputId": "63bc1002-9e97-4d25-b639-5155e5615867"
      },
      "source": [
        "classifier_xg=xgb()\n",
        "classifier_xg.fit(X_train, y_train)\n",
        "y_pred = classifier_xg.predict(X_test)\n",
        "cm = confusion_matrix(y_test, y_pred)\n",
        "print(cm)\n",
        "accuracy_score(y_test, y_pred)"
      ],
      "execution_count": null,
      "outputs": [
        {
          "name": "stdout",
          "output_type": "stream",
          "text": [
            "[[  19  224  491]\n",
            " [   0 3161  677]\n",
            " [   1  686 6090]]\n"
          ]
        },
        {
          "data": {
            "text/plain": [
              "0.816812053925456"
            ]
          },
          "execution_count": 21,
          "metadata": {},
          "output_type": "execute_result"
        }
      ]
    },
    {
      "cell_type": "markdown",
      "metadata": {
        "id": "deo1Uk5ulXRO"
      },
      "source": [
        "**Base** **models with SMOTE**"
      ]
    },
    {
      "cell_type": "code",
      "metadata": {
        "colab": {
          "background_save": true
        },
        "id": "VHsRQ0CVfqZw",
        "outputId": "e79ef435-4fa0-4927-a787-b3eaef0b3c67"
      },
      "source": [
        "classifier_knn=KNeighborsClassifier()\n",
        "run_model(classifier_knn, X_train_smote, X_test, y_train_smote, y_test) "
      ],
      "execution_count": null,
      "outputs": [
        {
          "name": "stdout",
          "output_type": "stream",
          "text": [
            "Confusion Matrix for Train Set:\n",
            " [[33883     0     0]\n",
            " [ 2370 31347   166]\n",
            " [10351  4465 19067]]\n",
            "Confusion Matrix for Test Set:\n",
            " [[ 734    0    0]\n",
            " [ 447 3355   36]\n",
            " [2091  883 3803]]\n",
            "Classification Report for Train Set:\n",
            "               precision    recall  f1-score   support\n",
            "\n",
            "           0       0.73      1.00      0.84     33883\n",
            "           1       0.88      0.93      0.90     33883\n",
            "           2       0.99      0.56      0.72     33883\n",
            "\n",
            "    accuracy                           0.83    101649\n",
            "   macro avg       0.86      0.83      0.82    101649\n",
            "weighted avg       0.86      0.83      0.82    101649\n",
            "\n",
            "Classification Report for Test Set:\n",
            "               precision    recall  f1-score   support\n",
            "\n",
            "           0       0.22      1.00      0.37       734\n",
            "           1       0.79      0.87      0.83      3838\n",
            "           2       0.99      0.56      0.72      6777\n",
            "\n",
            "    accuracy                           0.70     11349\n",
            "   macro avg       0.67      0.81      0.64     11349\n",
            "weighted avg       0.87      0.70      0.73     11349\n",
            "\n"
          ]
        }
      ]
    },
    {
      "cell_type": "code",
      "metadata": {
        "id": "zv0YhmF_llPr"
      },
      "source": [
        "smote_nb = GaussianNB())\n",
        "run_model(base_model_pipe_nb, X_train, X_test, y_train, y_test)"
      ],
      "execution_count": null,
      "outputs": []
    },
    {
      "cell_type": "code",
      "metadata": {
        "id": "jSYhR5jeoOmE"
      },
      "source": [
        "base_model_pipe_dt = IMBPipeline(steps=[\n",
        "    ('smote', SMOTE()),\n",
        "    ('dt', DecisionTreeClassifier())\n",
        "])\n",
        "run_model(base_model_pipe_dt, X_train, X_test, y_train, y_test)"
      ],
      "execution_count": null,
      "outputs": []
    },
    {
      "cell_type": "code",
      "metadata": {
        "id": "IQNinK42pZmJ",
        "colab": {
          "base_uri": "https://localhost:8080/",
          "height": 1000
        },
        "outputId": "844a2bf2-f252-468c-b249-d76cf819fb2c"
      },
      "source": [
        "base_model_pipe_rf = IMBPipeline(steps=[\n",
        "    ('smote', SMOTE()),\n",
        "    ('rf', RandomForestClassifier())\n",
        "])\n",
        "run_model(base_model_pipe_rf, X_train, X_test, y_train, y_test)"
      ],
      "execution_count": null,
      "outputs": [
        {
          "output_type": "stream",
          "name": "stdout",
          "text": [
            "Confusion Matrix for Train Set:\n",
            " [[ 2938     0     0]\n",
            " [    0 15352     0]\n",
            " [    0     0 27106]]\n",
            "Confusion Matrix for Test Set:\n",
            " [[ 175  251  308]\n",
            " [  15 3362  461]\n",
            " [ 122  982 5673]]\n",
            "Classification Report for Train Set:\n",
            "               precision    recall  f1-score   support\n",
            "\n",
            "           0       1.00      1.00      1.00      2938\n",
            "           1       1.00      1.00      1.00     15352\n",
            "           2       1.00      1.00      1.00     27106\n",
            "\n",
            "    accuracy                           1.00     45396\n",
            "   macro avg       1.00      1.00      1.00     45396\n",
            "weighted avg       1.00      1.00      1.00     45396\n",
            "\n",
            "Classification Report for Test Set:\n",
            "               precision    recall  f1-score   support\n",
            "\n",
            "           0       0.56      0.24      0.33       734\n",
            "           1       0.73      0.88      0.80      3838\n",
            "           2       0.88      0.84      0.86      6777\n",
            "\n",
            "    accuracy                           0.81     11349\n",
            "   macro avg       0.72      0.65      0.66     11349\n",
            "weighted avg       0.81      0.81      0.80     11349\n",
            "\n"
          ]
        },
        {
          "output_type": "execute_result",
          "data": {
            "text/plain": [
              "Pipeline(memory=None,\n",
              "         steps=[('smote',\n",
              "                 SMOTE(k_neighbors=5, kind='deprecated',\n",
              "                       m_neighbors='deprecated', n_jobs=1,\n",
              "                       out_step='deprecated', random_state=None, ratio=None,\n",
              "                       sampling_strategy='auto', svm_estimator='deprecated')),\n",
              "                ('rf',\n",
              "                 RandomForestClassifier(bootstrap=True, ccp_alpha=0.0,\n",
              "                                        class_weight=None, criterion='gini',\n",
              "                                        max_depth=None, max_features='auto',\n",
              "                                        max_leaf_nodes=None, max_samples=None,\n",
              "                                        min_impurity_decrease=0.0,\n",
              "                                        min_impurity_split=None,\n",
              "                                        min_samples_leaf=1, min_samples_split=2,\n",
              "                                        min_weight_fraction_leaf=0.0,\n",
              "                                        n_estimators=100, n_jobs=None,\n",
              "                                        oob_score=False, random_state=None,\n",
              "                                        verbose=0, warm_start=False))],\n",
              "         verbose=False)"
            ]
          },
          "metadata": {},
          "execution_count": 18
        },
        {
          "output_type": "display_data",
          "data": {
            "image/png": "[encoded data removed]",
            "text/plain": [
              "<Figure size 432x288 with 2 Axes>"
            ]
          },
          "metadata": {
            "needs_background": "light"
          }
        },
        {
          "output_type": "display_data",
          "data": {
            "image/png": "[encoded data removed]",
            "text/plain": [
              "<Figure size 432x288 with 2 Axes>"
            ]
          },
          "metadata": {
            "needs_background": "light"
          }
        }
      ]
    },
    {
      "cell_type": "code",
      "metadata": {
        "id": "95bB-5-qp1uR"
      },
      "source": [
        "base_model_pipe_xg = IMBPipeline(steps=[\n",
        "    ('smote', SMOTE()),\n",
        "    ('xg', xgb())\n",
        "])\n",
        "run_model(base_model_pipe_xg, X_train, X_test, y_train, y_test)"
      ],
      "execution_count": null,
      "outputs": []
    },
    {
      "cell_type": "code",
      "metadata": {
        "id": "PthEpurv1ZuM"
      },
      "source": [
        "X_smote="
      ],
      "execution_count": null,
      "outputs": []
    },
    {
      "cell_type": "markdown",
      "metadata": {
        "id": "6TIzLMoVrNOq"
      },
      "source": [
        "**SMOTE AND GRID SEARCH**"
      ]
    },
    {
      "cell_type": "code",
      "metadata": {
        "id": "hnx9vZB7pUYy"
      },
      "source": [
        "model_pipe_lr = IMBPipeline(steps=[\n",
        "    (('ss', StandardScaler())),\n",
        "    ('smote', SMOTE()),\n",
        "    ('lr', LogisticRegression())\n",
        "])\n",
        "pipe_grid_lr = {'lr__C': (0.01, 0.1, 1, 10),\n",
        "    'lr__fit_intercept': (True, False)}\n",
        "\n",
        "gs_pipe_lr = GridSearchCV(estimator=model_pipe_lr, param_grid=pipe_grid_lr,cv=5)\n",
        "run_model(gs_pipe_lr, X_train, X_test, y_train, y_test)"
      ],
      "execution_count": null,
      "outputs": []
    },
    {
      "cell_type": "code",
      "metadata": {
        "id": "pisTsm7XpuLG"
      },
      "source": [
        "model_pipe_nb = IMBPipeline(steps=[\n",
        "    ('smote', SMOTE()),\n",
        "    ('nb', GaussianNB())\n",
        "])\n",
        "pipe_grid_nb = {\n",
        "    'nb__var_smoothing': np.logspace(0,-9, num=100)\n",
        "}\n",
        "\n",
        "gs_pipe_nb = GridSearchCV(estimator=model_pipe_nb, param_grid=pipe_grid_nb,cv=5)\n",
        "run_model(gs_pipe_nb, X_train, X_test, y_train, y_test)"
      ],
      "execution_count": null,
      "outputs": []
    },
    {
      "cell_type": "code",
      "metadata": {
        "id": "HpUjBqpCqI-E"
      },
      "source": [
        "model_pipe_knn = IMBPipeline(steps=[\n",
        "    ((('ss', StandardScaler()))),\n",
        "    ('smote', SMOTE()),\n",
        "    ('knn', KNeighborsClassifier())\n",
        "])\n",
        "pipe_grid_knn = {'knn__n_neighbors': [3, 5, 7], 'knn__p': [1, 2, 3]}\n",
        "\n",
        "gs_pipe_knn = GridSearchCV(estimator=model_pipe_knn, param_grid=pipe_grid_knn,cv=5)\n",
        "run_model(gs_pipe_knn, X_train, X_test, y_train, y_test)"
      ],
      "execution_count": null,
      "outputs": []
    },
    {
      "cell_type": "code",
      "metadata": {
        "id": "1So6fuQosRjb"
      },
      "source": [
        "model_pipe_dt = IMBPipeline(steps=[\n",
        "    ('smote', SMOTE()),\n",
        "    ('dt', DecisionTreeClassifier())\n",
        "])\n",
        "pipe_grid_dt = {'dt__max_depth': [None, 2, 6, 10], 'dt__min_samples_split': [5, 10]}\n",
        "\n",
        "gs_pipe_dt = GridSearchCV(estimator=model_pipe_dt, param_grid=pipe_grid_dt,cv=5)\n",
        "run_model(gs_pipe_dt, X_train, X_test, y_train, y_test)"
      ],
      "execution_count": null,
      "outputs": []
    },
    {
      "cell_type": "code",
      "metadata": {
        "id": "Z3f65Q87sVYQ"
      },
      "source": [
        "model_pipe_rf = IMBPipeline(steps=[\n",
        "    ('smote', SMOTE()),\n",
        "    ('rf', RandomForestClassifier())\n",
        "])\n",
        "pipe_grid_rf = {'rf__n_estimators': [4, 6, 9], \n",
        "              'rf__max_features': ['log2', 'sqrt','auto'],\n",
        "              'rf__criterion': ['entropy', 'gini'], \n",
        "              'rf__max_depth': [2, 3, 5, 10], \n",
        "              'rf__min_samples_split': [2, 3, 5],\n",
        "              'rf__min_samples_leaf': [1,5,8] }\n",
        "\n",
        "gs_pipe_rf = GridSearchCV(estimator=model_pipe_rf, param_grid=pipe_grid_rf)\n",
        "run_model(gs_pipe_rf, X_train, X_test, y_train, y_test)"
      ],
      "execution_count": null,
      "outputs": []
    },
    {
      "cell_type": "code",
      "metadata": {
        "id": "nWgW4rxQsd1k"
      },
      "source": [
        "model=xgb\n",
        "pipe_grid_xg = {'xg__alpha': (0.1, 0.2,0.3), 'xg__max_depth': (5, 7), 'xg__learning_rate': (0.1, .5)}\n",
        "\n",
        "gs_pipe_xg = GridSearchCV(estimator=model, param_grid=pipe_grid_xg,cv=5)\n",
        "run_model(gs_pipe_xg, X_train_smote, X_test, y_train_smote, y_test)"
      ],
      "execution_count": null,
      "outputs": []
    }
  ]
}