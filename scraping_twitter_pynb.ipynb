{
  "nbformat": 4,
  "nbformat_minor": 0,
  "metadata": {
    "colab": {
      "name": "scraping_twitter.pynb",
      "provenance": [],
      "collapsed_sections": [],
      "mount_file_id": "173UBmsd4icOiw-4fk5U1VuvZWSzL0ZTF",
      "authorship_tag": "ABX9TyOliTQ621uL22jIZpiGfWn/",
      "include_colab_link": true
    },
    "kernelspec": {
      "display_name": "Python 3",
      "name": "python3"
    },
    "language_info": {
      "name": "python"
    }
  },
  "cells": [
    {
      "cell_type": "markdown",
      "metadata": {
        "id": "view-in-github",
        "colab_type": "text"
      },
      "source": [
        "<a href=\"https://colab.research.google.com/github/Naomiweinberger/Hate-Speech/blob/main/scraping_twitter_pynb.ipynb\" target=\"_parent\"><img src=\"https://colab.research.google.com/assets/colab-badge.svg\" alt=\"Open In Colab\"/></a>"
      ]
    },
    {
      "cell_type": "code",
      "metadata": {
        "colab": {
          "base_uri": "https://localhost:8080/",
          "height": 747
        },
        "id": "PbGN-MAjGgF6",
        "outputId": "92ebd56b-91c5-4418-bc59-8a34a37acc54"
      },
      "source": [
        "! pip install twitter-to-sqlite"
      ],
      "execution_count": null,
      "outputs": [
        {
          "output_type": "stream",
          "name": "stdout",
          "text": [
            "Collecting twitter-to-sqlite\n",
            "  Downloading twitter_to_sqlite-0.22-py3-none-any.whl (26 kB)\n",
            "Collecting requests-oauthlib~=1.2.0\n",
            "  Downloading requests_oauthlib-1.2.0-py2.py3-none-any.whl (22 kB)\n",
            "Collecting sqlite-utils>=2.4.2\n",
            "  Downloading sqlite_utils-3.17.1-py3-none-any.whl (50 kB)\n",
            "\u001b[K     |████████████████████████████████| 50 kB 4.4 MB/s \n",
            "\u001b[?25hRequirement already satisfied: python-dateutil in /usr/local/lib/python3.7/dist-packages (from twitter-to-sqlite) (2.8.2)\n",
            "Requirement already satisfied: requests>=2.0.0 in /usr/local/lib/python3.7/dist-packages (from requests-oauthlib~=1.2.0->twitter-to-sqlite) (2.23.0)\n",
            "Requirement already satisfied: oauthlib>=3.0.0 in /usr/local/lib/python3.7/dist-packages (from requests-oauthlib~=1.2.0->twitter-to-sqlite) (3.1.1)\n",
            "Requirement already satisfied: urllib3!=1.25.0,!=1.25.1,<1.26,>=1.21.1 in /usr/local/lib/python3.7/dist-packages (from requests>=2.0.0->requests-oauthlib~=1.2.0->twitter-to-sqlite) (1.24.3)\n",
            "Requirement already satisfied: certifi>=2017.4.17 in /usr/local/lib/python3.7/dist-packages (from requests>=2.0.0->requests-oauthlib~=1.2.0->twitter-to-sqlite) (2021.5.30)\n",
            "Requirement already satisfied: idna<3,>=2.5 in /usr/local/lib/python3.7/dist-packages (from requests>=2.0.0->requests-oauthlib~=1.2.0->twitter-to-sqlite) (2.10)\n",
            "Requirement already satisfied: chardet<4,>=3.0.2 in /usr/local/lib/python3.7/dist-packages (from requests>=2.0.0->requests-oauthlib~=1.2.0->twitter-to-sqlite) (3.0.4)\n",
            "Collecting sqlite-fts4\n",
            "  Downloading sqlite_fts4-1.0.1-py3-none-any.whl (10.0 kB)\n",
            "Collecting dateutils\n",
            "  Downloading dateutils-0.6.12-py2.py3-none-any.whl (5.7 kB)\n",
            "Requirement already satisfied: tabulate in /usr/local/lib/python3.7/dist-packages (from sqlite-utils>=2.4.2->twitter-to-sqlite) (0.8.9)\n",
            "Requirement already satisfied: click in /usr/local/lib/python3.7/dist-packages (from sqlite-utils>=2.4.2->twitter-to-sqlite) (7.1.2)\n",
            "Collecting click-default-group\n",
            "  Downloading click-default-group-1.2.2.tar.gz (3.3 kB)\n",
            "Requirement already satisfied: pytz in /usr/local/lib/python3.7/dist-packages (from dateutils->sqlite-utils>=2.4.2->twitter-to-sqlite) (2018.9)\n",
            "Requirement already satisfied: six>=1.5 in /usr/local/lib/python3.7/dist-packages (from python-dateutil->twitter-to-sqlite) (1.15.0)\n",
            "Building wheels for collected packages: click-default-group\n",
            "  Building wheel for click-default-group (setup.py) ... \u001b[?25l\u001b[?25hdone\n",
            "  Created wheel for click-default-group: filename=click_default_group-1.2.2-py3-none-any.whl size=3385 sha256=b27240c4fe7b726538f35d7aeafddd16b4b8d55295e80b1b0af2c0a76250b9d8\n",
            "  Stored in directory: /root/.cache/pip/wheels/c8/01/63/03a469931aa81497b07ada86ff8aa1b18847bdbe474f43d82c\n",
            "Successfully built click-default-group\n",
            "Installing collected packages: sqlite-fts4, dateutils, click-default-group, sqlite-utils, requests-oauthlib, twitter-to-sqlite\n",
            "  Attempting uninstall: requests-oauthlib\n",
            "    Found existing installation: requests-oauthlib 1.3.0\n",
            "    Uninstalling requests-oauthlib-1.3.0:\n",
            "      Successfully uninstalled requests-oauthlib-1.3.0\n",
            "Successfully installed click-default-group-1.2.2 dateutils-0.6.12 requests-oauthlib-1.2.0 sqlite-fts4-1.0.1 sqlite-utils-3.17.1 twitter-to-sqlite-0.22\n"
          ]
        },
        {
          "output_type": "display_data",
          "data": {
            "application/vnd.colab-display-data+json": {
              "pip_warning": {
                "packages": [
                  "requests_oauthlib"
                ]
              }
            }
          },
          "metadata": {}
        }
      ]
    },
    {
      "cell_type": "code",
      "metadata": {
        "id": "RzK1UUDWN2dx"
      },
      "source": [
        ""
      ],
      "execution_count": null,
      "outputs": []
    },
    {
      "cell_type": "code",
      "metadata": {
        "id": "OL9FTCfxJFYl"
      },
      "source": [
        "import tweepy\n",
        "import pandas as pd\n",
        "import numpy as np\n",
        "import os, csv, logging, urllib, urllib3, json,bson, re,string\n",
        "from bson import json_util\n",
        "from datetime import datetime, timedelta\n",
        "from datetime import time\n",
        "import collections ,sys,math, time, datetime\n",
        "import pickle\n",
        "from sklearn.model_selection import train_test_split\n"
      ],
      "execution_count": null,
      "outputs": []
    },
    {
      "cell_type": "code",
      "metadata": {
        "id": "sLRnCMxeM18Y"
      },
      "source": [
        "auth  = tweepy.OAuthHandler(CONSUMER_TOKEN, \\\n",
        "                            CONSUMER_SECRET)\n",
        "auth.set_access_token(access_token,  \\\n",
        "                      access_token_secret)\n",
        "api = tweepy.API(auth)"
      ],
      "execution_count": null,
      "outputs": []
    },
    {
      "cell_type": "markdown",
      "metadata": {
        "id": "JDOgiDdn9hgw"
      },
      "source": [
        "**normal** **tweets**"
      ]
    },
    {
      "cell_type": "code",
      "metadata": {
        "id": "4kOqwYcyTsYd"
      },
      "source": [
        "tweets_normal = api.search('candy', count=20)\n"
      ],
      "execution_count": null,
      "outputs": []
    },
    {
      "cell_type": "code",
      "metadata": {
        "id": "GG6MCiQBgQwJ"
      },
      "source": [
        "normal_tweet=[]\n",
        "for tweet in tweets_normal:\n",
        "  normal_tweet.append(tweet.text)\n"
      ],
      "execution_count": null,
      "outputs": []
    },
    {
      "cell_type": "code",
      "metadata": {
        "id": "d89ZHgqVghF4",
        "colab": {
          "base_uri": "https://localhost:8080/"
        },
        "outputId": "ed8cd65a-f58a-40a7-9483-694c6ac91403"
      },
      "source": [
        "print(normal_tweet)"
      ],
      "execution_count": null,
      "outputs": [
        {
          "output_type": "stream",
          "name": "stdout",
          "text": [
            "['RT @nutcha_rainbow: We have all candy ready for trick or treat .👻🎃🍬 \\n\\nนึกถึงฮาโลวีนก็เลยอยากวาดลูกอม  เป็นคอลเล็กชั่นลูกอมที่น่ารักมากก อยา…', 'RT @DanGutmanBooks: The only thing better than Halloween candy? Halloween books!￼ https://t.co/GgetkR0KQ5', '@noellegbt are you the professional dog smeller here', 'RED VELVET CANDY | Daily Tweet for #RedVelvet Brand Reputation | @RVsmtown | #레드벨벳 #IRENE #아이린 #SEULGI #슬기 #WENDY #웬디 #JOY #조이 #YERI #예리', 'RT @nutcha_rainbow: We have all candy ready for trick or treat .👻🎃🍬 \\n\\nนึกถึงฮาโลวีนก็เลยอยากวาดลูกอม  เป็นคอลเล็กชั่นลูกอมที่น่ารักมากก อยา…', 'RT @ambrosia_73: Sour candy betrayal\\n#xiaolumi #魈蛍 https://t.co/wv7eOjrWlS', 'RT @wics_abc20: Parents are being warned about cannabis edibles that look like candy ahead of Halloween trick-or-treating.\\n\\nhttps://t.co/2K…', 'RT @sabet: 🔥\"This is an instant classic\" Said one collector🚨!\\n🔥Only 19/28 of Heart Candy are now available.  Tag Some Friends, RETWEET and…', 'RT @PSHS_PTSO: Don’t miss out on free funnel cake, cotton candy, and popcorn at the drive-in movie! https://t.co/alUS3c6sHn', 'RT @nutcha_rainbow: We have all candy ready for trick or treat .👻🎃🍬 \\n\\nนึกถึงฮาโลวีนก็เลยอยากวาดลูกอม  เป็นคอลเล็กชั่นลูกอมที่น่ารักมากก อยา…', 'Ahora dímelo  a mí https://t.co/IoBKAt1ioh https://t.co/VszeiF6KSh', '@NewsieHeather Candy corns.  This year, I am in Nashville for Halloween with this guy. https://t.co/c7IbYRCAJP', '@MrDsCollector I\\'ve just minted \"Candy\" collectible! My very first auction!! Come place your bids just started its… https://t.co/q6S13pI4ek', 'RT @CalorieToken: 🎃HALLOWEEN GIVEAWAY🎃 \\n\\n🚨1.000.000 $CAL will be sent to 50 lucky winners using the TipBot xApp🚨 \\n\\nHow to win? \\n\\n- Follow @…', 'RT @yoojimx: Taeyeon and Hyoyeon posted about their SM printed dalgona candy.. Looks like its the invitation for the SM Halloween party ? h…', '💄商品紹介💄\\n\\nサンキューマートオリジナルコスメ\\n『CANDY BUNNY』\\nリップ2種類の紹介です💋🖤\\n\\n▪️Candy Red（キャンディレッド）\\n▪️Dusty Mauve（ダスティモーブ）\\n\\nどちらのリップも\\nハロウィンメ… https://t.co/x1eIGddvQ3', 'RT @nutcha_rainbow: We have all candy ready for trick or treat .👻🎃🍬 \\n\\nนึกถึงฮาโลวีนก็เลยอยากวาดลูกอม  เป็นคอลเล็กชั่นลูกอมที่น่ารักมากก อยา…', 'RT @springrooove: ✨Candy Corn✨ A Spooky Namgi Dads Comic 🧡💛\\U0001f90d [Part 1/8] https://t.co/qPcqFcnWaE', 'Miluchi o Cande #halloweenlv https://t.co/M4aJVC8tGU', \"It's that time of the year that I must remind all of you the candy corn and circus peanuts are the worst. I would r… https://t.co/QDaSWDSzZp\"]\n"
          ]
        }
      ]
    },
    {
      "cell_type": "code",
      "metadata": {
        "id": "6x-AfDRsg0Sq"
      },
      "source": [
        "df_normal=pd.DataFrame(normal_tweet)"
      ],
      "execution_count": null,
      "outputs": []
    },
    {
      "cell_type": "code",
      "metadata": {
        "id": "VDYXI3xPgCE4"
      },
      "source": [
        "df_normal['tweet']=df_normal\n",
        "df_normal['label']=2\n",
        "df_normal=df_normal[['tweet','label']]"
      ],
      "execution_count": null,
      "outputs": []
    },
    {
      "cell_type": "code",
      "metadata": {
        "id": "KeXJKUkshYJS",
        "colab": {
          "base_uri": "https://localhost:8080/",
          "height": 670
        },
        "outputId": "483c2050-808c-4f58-9535-5488aa04d302"
      },
      "source": [
        "df_normal"
      ],
      "execution_count": null,
      "outputs": [
        {
          "output_type": "execute_result",
          "data": {
            "text/html": [
              "<div>\n",
              "<style scoped>\n",
              "    .dataframe tbody tr th:only-of-type {\n",
              "        vertical-align: middle;\n",
              "    }\n",
              "\n",
              "    .dataframe tbody tr th {\n",
              "        vertical-align: top;\n",
              "    }\n",
              "\n",
              "    .dataframe thead th {\n",
              "        text-align: right;\n",
              "    }\n",
              "</style>\n",
              "<table border=\"1\" class=\"dataframe\">\n",
              "  <thead>\n",
              "    <tr style=\"text-align: right;\">\n",
              "      <th></th>\n",
              "      <th>tweet</th>\n",
              "      <th>label</th>\n",
              "    </tr>\n",
              "  </thead>\n",
              "  <tbody>\n",
              "    <tr>\n",
              "      <th>0</th>\n",
              "      <td>RT @nutcha_rainbow: We have all candy ready fo...</td>\n",
              "      <td>2</td>\n",
              "    </tr>\n",
              "    <tr>\n",
              "      <th>1</th>\n",
              "      <td>RT @DanGutmanBooks: The only thing better than...</td>\n",
              "      <td>2</td>\n",
              "    </tr>\n",
              "    <tr>\n",
              "      <th>2</th>\n",
              "      <td>@noellegbt are you the professional dog smelle...</td>\n",
              "      <td>2</td>\n",
              "    </tr>\n",
              "    <tr>\n",
              "      <th>3</th>\n",
              "      <td>RED VELVET CANDY | Daily Tweet for #RedVelvet ...</td>\n",
              "      <td>2</td>\n",
              "    </tr>\n",
              "    <tr>\n",
              "      <th>4</th>\n",
              "      <td>RT @nutcha_rainbow: We have all candy ready fo...</td>\n",
              "      <td>2</td>\n",
              "    </tr>\n",
              "    <tr>\n",
              "      <th>5</th>\n",
              "      <td>RT @ambrosia_73: Sour candy betrayal\\n#xiaolum...</td>\n",
              "      <td>2</td>\n",
              "    </tr>\n",
              "    <tr>\n",
              "      <th>6</th>\n",
              "      <td>RT @wics_abc20: Parents are being warned about...</td>\n",
              "      <td>2</td>\n",
              "    </tr>\n",
              "    <tr>\n",
              "      <th>7</th>\n",
              "      <td>RT @sabet: 🔥\"This is an instant classic\" Said ...</td>\n",
              "      <td>2</td>\n",
              "    </tr>\n",
              "    <tr>\n",
              "      <th>8</th>\n",
              "      <td>RT @PSHS_PTSO: Don’t miss out on free funnel c...</td>\n",
              "      <td>2</td>\n",
              "    </tr>\n",
              "    <tr>\n",
              "      <th>9</th>\n",
              "      <td>RT @nutcha_rainbow: We have all candy ready fo...</td>\n",
              "      <td>2</td>\n",
              "    </tr>\n",
              "    <tr>\n",
              "      <th>10</th>\n",
              "      <td>Ahora dímelo  a mí https://t.co/IoBKAt1ioh htt...</td>\n",
              "      <td>2</td>\n",
              "    </tr>\n",
              "    <tr>\n",
              "      <th>11</th>\n",
              "      <td>@NewsieHeather Candy corns.  This year, I am i...</td>\n",
              "      <td>2</td>\n",
              "    </tr>\n",
              "    <tr>\n",
              "      <th>12</th>\n",
              "      <td>@MrDsCollector I've just minted \"Candy\" collec...</td>\n",
              "      <td>2</td>\n",
              "    </tr>\n",
              "    <tr>\n",
              "      <th>13</th>\n",
              "      <td>RT @CalorieToken: 🎃HALLOWEEN GIVEAWAY🎃 \\n\\n🚨1....</td>\n",
              "      <td>2</td>\n",
              "    </tr>\n",
              "    <tr>\n",
              "      <th>14</th>\n",
              "      <td>RT @yoojimx: Taeyeon and Hyoyeon posted about ...</td>\n",
              "      <td>2</td>\n",
              "    </tr>\n",
              "    <tr>\n",
              "      <th>15</th>\n",
              "      <td>💄商品紹介💄\\n\\nサンキューマートオリジナルコスメ\\n『CANDY BUNNY』\\nリップ...</td>\n",
              "      <td>2</td>\n",
              "    </tr>\n",
              "    <tr>\n",
              "      <th>16</th>\n",
              "      <td>RT @nutcha_rainbow: We have all candy ready fo...</td>\n",
              "      <td>2</td>\n",
              "    </tr>\n",
              "    <tr>\n",
              "      <th>17</th>\n",
              "      <td>RT @springrooove: ✨Candy Corn✨ A Spooky Namgi ...</td>\n",
              "      <td>2</td>\n",
              "    </tr>\n",
              "    <tr>\n",
              "      <th>18</th>\n",
              "      <td>Miluchi o Cande #halloweenlv https://t.co/M4aJ...</td>\n",
              "      <td>2</td>\n",
              "    </tr>\n",
              "    <tr>\n",
              "      <th>19</th>\n",
              "      <td>It's that time of the year that I must remind ...</td>\n",
              "      <td>2</td>\n",
              "    </tr>\n",
              "  </tbody>\n",
              "</table>\n",
              "</div>"
            ],
            "text/plain": [
              "                                                tweet  label\n",
              "0   RT @nutcha_rainbow: We have all candy ready fo...      2\n",
              "1   RT @DanGutmanBooks: The only thing better than...      2\n",
              "2   @noellegbt are you the professional dog smelle...      2\n",
              "3   RED VELVET CANDY | Daily Tweet for #RedVelvet ...      2\n",
              "4   RT @nutcha_rainbow: We have all candy ready fo...      2\n",
              "5   RT @ambrosia_73: Sour candy betrayal\\n#xiaolum...      2\n",
              "6   RT @wics_abc20: Parents are being warned about...      2\n",
              "7   RT @sabet: 🔥\"This is an instant classic\" Said ...      2\n",
              "8   RT @PSHS_PTSO: Don’t miss out on free funnel c...      2\n",
              "9   RT @nutcha_rainbow: We have all candy ready fo...      2\n",
              "10  Ahora dímelo  a mí https://t.co/IoBKAt1ioh htt...      2\n",
              "11  @NewsieHeather Candy corns.  This year, I am i...      2\n",
              "12  @MrDsCollector I've just minted \"Candy\" collec...      2\n",
              "13  RT @CalorieToken: 🎃HALLOWEEN GIVEAWAY🎃 \\n\\n🚨1....      2\n",
              "14  RT @yoojimx: Taeyeon and Hyoyeon posted about ...      2\n",
              "15  💄商品紹介💄\\n\\nサンキューマートオリジナルコスメ\\n『CANDY BUNNY』\\nリップ...      2\n",
              "16  RT @nutcha_rainbow: We have all candy ready fo...      2\n",
              "17  RT @springrooove: ✨Candy Corn✨ A Spooky Namgi ...      2\n",
              "18  Miluchi o Cande #halloweenlv https://t.co/M4aJ...      2\n",
              "19  It's that time of the year that I must remind ...      2"
            ]
          },
          "metadata": {},
          "execution_count": 16
        }
      ]
    },
    {
      "cell_type": "markdown",
      "metadata": {
        "id": "D_TOKZej-OU3"
      },
      "source": [
        "**offensive**"
      ]
    },
    {
      "cell_type": "code",
      "metadata": {
        "id": "uV421Xo4WOku"
      },
      "source": [
        "tweets_offensive = api.search('fag', count=20)\n",
        "tweets_offensive_2=api.search('skank', count=20)"
      ],
      "execution_count": null,
      "outputs": []
    },
    {
      "cell_type": "code",
      "metadata": {
        "id": "NnGI_EaJ3VjN"
      },
      "source": [
        "offensive_tweet=[]\n",
        "for tweet in tweets_offensive:\n",
        "  offensive_tweet.append(tweet.text)\n",
        "offensive_tweet_2=[]\n",
        "for tweet in tweets_offensive_2:\n",
        "  offensive_tweet_2.append(tweet.text)"
      ],
      "execution_count": null,
      "outputs": []
    },
    {
      "cell_type": "code",
      "metadata": {
        "id": "RConKbOe3QGM"
      },
      "source": [
        "df_offensive_1=pd.DataFrame(offensive_tweet)\n",
        "df_offensive_2=pd.DataFrame(offensive_tweet_2)\n"
      ],
      "execution_count": null,
      "outputs": []
    },
    {
      "cell_type": "code",
      "metadata": {
        "id": "O0mLfjJnBx1h"
      },
      "source": [
        "df_offensive_1['tweet']=df_offensive_1\n",
        "df_offensive_1['label']=1\n",
        "df_offensive_1=df_offensive_1[['tweet','label']]"
      ],
      "execution_count": null,
      "outputs": []
    },
    {
      "cell_type": "code",
      "metadata": {
        "id": "5TyYin0TCNCO"
      },
      "source": [
        "df_offensive_2['tweet']=df_offensive_2\n",
        "df_offensive_2['label']=1\n",
        "df_offensive_2=df_offensive_2[['tweet','label']]"
      ],
      "execution_count": null,
      "outputs": []
    },
    {
      "cell_type": "code",
      "metadata": {
        "id": "Mx1jf5jNCjBy"
      },
      "source": [
        "df_offensive=pd.concat([df_offensive_1,df_offensive_2])"
      ],
      "execution_count": null,
      "outputs": []
    },
    {
      "cell_type": "code",
      "metadata": {
        "id": "3Hhv4hwRf8uh",
        "colab": {
          "base_uri": "https://localhost:8080/",
          "height": 855
        },
        "outputId": "af6acc6c-02a9-4cf3-d555-072938042e37"
      },
      "source": [
        "df_offensive"
      ],
      "execution_count": null,
      "outputs": [
        {
          "output_type": "execute_result",
          "data": {
            "text/html": [
              "<div>\n",
              "<style scoped>\n",
              "    .dataframe tbody tr th:only-of-type {\n",
              "        vertical-align: middle;\n",
              "    }\n",
              "\n",
              "    .dataframe tbody tr th {\n",
              "        vertical-align: top;\n",
              "    }\n",
              "\n",
              "    .dataframe thead th {\n",
              "        text-align: right;\n",
              "    }\n",
              "</style>\n",
              "<table border=\"1\" class=\"dataframe\">\n",
              "  <thead>\n",
              "    <tr style=\"text-align: right;\">\n",
              "      <th></th>\n",
              "      <th>tweet</th>\n",
              "      <th>label</th>\n",
              "    </tr>\n",
              "  </thead>\n",
              "  <tbody>\n",
              "    <tr>\n",
              "      <th>0</th>\n",
              "      <td>RT @_wchiv: The pickle next to my sandwich wai...</td>\n",
              "      <td>1</td>\n",
              "    </tr>\n",
              "    <tr>\n",
              "      <th>1</th>\n",
              "      <td>RT @flatlovenote_: f slur // \\n\\n.\\n.\\nim a ni...</td>\n",
              "      <td>1</td>\n",
              "    </tr>\n",
              "    <tr>\n",
              "      <th>2</th>\n",
              "      <td>@stellarianbabe That is such a horrible feelin...</td>\n",
              "      <td>1</td>\n",
              "    </tr>\n",
              "    <tr>\n",
              "      <th>3</th>\n",
              "      <td>@TheMoonCarl The fag woman you use nftsi disap...</td>\n",
              "      <td>1</td>\n",
              "    </tr>\n",
              "    <tr>\n",
              "      <th>4</th>\n",
              "      <td>fag starter pack: https://t.co/w0qK1xyeri</td>\n",
              "      <td>1</td>\n",
              "    </tr>\n",
              "    <tr>\n",
              "      <th>5</th>\n",
              "      <td>I look so good. (True /p). Shut up fag. Anyway...</td>\n",
              "      <td>1</td>\n",
              "    </tr>\n",
              "    <tr>\n",
              "      <th>0</th>\n",
              "      <td>Sharon's back to her old ways of trying to sna...</td>\n",
              "      <td>1</td>\n",
              "    </tr>\n",
              "    <tr>\n",
              "      <th>1</th>\n",
              "      <td>eu qria bebe wisky e fuma skank tmb 💔</td>\n",
              "      <td>1</td>\n",
              "    </tr>\n",
              "    <tr>\n",
              "      <th>2</th>\n",
              "      <td>Still a skank to dah big chune yah eno 😎💯 #Pre...</td>\n",
              "      <td>1</td>\n",
              "    </tr>\n",
              "    <tr>\n",
              "      <th>3</th>\n",
              "      <td>@Chronicoptimis1 By skank I meant lipsa. Lol. ...</td>\n",
              "      <td>1</td>\n",
              "    </tr>\n",
              "    <tr>\n",
              "      <th>4</th>\n",
              "      <td>@Chronicoptimis1 Yup. I don’t trust that skank...</td>\n",
              "      <td>1</td>\n",
              "    </tr>\n",
              "    <tr>\n",
              "      <th>5</th>\n",
              "      <td>aparentemente estou e ainda vou meter um show ...</td>\n",
              "      <td>1</td>\n",
              "    </tr>\n",
              "    <tr>\n",
              "      <th>6</th>\n",
              "      <td>O DJ roca! Que profissão foda! bebe whisky, fu...</td>\n",
              "      <td>1</td>\n",
              "    </tr>\n",
              "    <tr>\n",
              "      <th>7</th>\n",
              "      <td>@MysterySolvent Skank Burger</td>\n",
              "      <td>1</td>\n",
              "    </tr>\n",
              "    <tr>\n",
              "      <th>8</th>\n",
              "      <td>@Bruuhgm Muito bom! \\nSkank- ainda gosto dela</td>\n",
              "      <td>1</td>\n",
              "    </tr>\n",
              "    <tr>\n",
              "      <th>9</th>\n",
              "      <td>@dudazikaxx bebe whiskey, fuma skank, come mul...</td>\n",
              "      <td>1</td>\n",
              "    </tr>\n",
              "    <tr>\n",
              "      <th>10</th>\n",
              "      <td>bebe whisky fuma skank</td>\n",
              "      <td>1</td>\n",
              "    </tr>\n",
              "    <tr>\n",
              "      <th>11</th>\n",
              "      <td>@kaiquexcvii No momento é Resposta - Skank</td>\n",
              "      <td>1</td>\n",
              "    </tr>\n",
              "    <tr>\n",
              "      <th>12</th>\n",
              "      <td>Bebe whiskey, fuma skank e come mulher toda hora</td>\n",
              "      <td>1</td>\n",
              "    </tr>\n",
              "    <tr>\n",
              "      <th>13</th>\n",
              "      <td>RT @Boludo_05: Ooooo dj roca, que profissão fo...</td>\n",
              "      <td>1</td>\n",
              "    </tr>\n",
              "    <tr>\n",
              "      <th>14</th>\n",
              "      <td>Skank está de volta com a “Turnê de Despedida”...</td>\n",
              "      <td>1</td>\n",
              "    </tr>\n",
              "    <tr>\n",
              "      <th>15</th>\n",
              "      <td>Meu ingresso pro show do skank já completou mi...</td>\n",
              "      <td>1</td>\n",
              "    </tr>\n",
              "    <tr>\n",
              "      <th>16</th>\n",
              "      <td>quem não gosta de skank e titãs tem mau gosto ...</td>\n",
              "      <td>1</td>\n",
              "    </tr>\n",
              "    <tr>\n",
              "      <th>17</th>\n",
              "      <td>👻 apertou os Skank só 🤜🏻 na 🧠</td>\n",
              "      <td>1</td>\n",
              "    </tr>\n",
              "    <tr>\n",
              "      <th>18</th>\n",
              "      <td>Que a minha pretinha tá bolada\\njogou minhas r...</td>\n",
              "      <td>1</td>\n",
              "    </tr>\n",
              "    <tr>\n",
              "      <th>19</th>\n",
              "      <td>If you don't know the poz show you know nothin...</td>\n",
              "      <td>1</td>\n",
              "    </tr>\n",
              "  </tbody>\n",
              "</table>\n",
              "</div>"
            ],
            "text/plain": [
              "                                                tweet  label\n",
              "0   RT @_wchiv: The pickle next to my sandwich wai...      1\n",
              "1   RT @flatlovenote_: f slur // \\n\\n.\\n.\\nim a ni...      1\n",
              "2   @stellarianbabe That is such a horrible feelin...      1\n",
              "3   @TheMoonCarl The fag woman you use nftsi disap...      1\n",
              "4           fag starter pack: https://t.co/w0qK1xyeri      1\n",
              "5   I look so good. (True /p). Shut up fag. Anyway...      1\n",
              "0   Sharon's back to her old ways of trying to sna...      1\n",
              "1               eu qria bebe wisky e fuma skank tmb 💔      1\n",
              "2   Still a skank to dah big chune yah eno 😎💯 #Pre...      1\n",
              "3   @Chronicoptimis1 By skank I meant lipsa. Lol. ...      1\n",
              "4   @Chronicoptimis1 Yup. I don’t trust that skank...      1\n",
              "5   aparentemente estou e ainda vou meter um show ...      1\n",
              "6   O DJ roca! Que profissão foda! bebe whisky, fu...      1\n",
              "7                        @MysterySolvent Skank Burger      1\n",
              "8       @Bruuhgm Muito bom! \\nSkank- ainda gosto dela      1\n",
              "9   @dudazikaxx bebe whiskey, fuma skank, come mul...      1\n",
              "10                             bebe whisky fuma skank      1\n",
              "11         @kaiquexcvii No momento é Resposta - Skank      1\n",
              "12   Bebe whiskey, fuma skank e come mulher toda hora      1\n",
              "13  RT @Boludo_05: Ooooo dj roca, que profissão fo...      1\n",
              "14  Skank está de volta com a “Turnê de Despedida”...      1\n",
              "15  Meu ingresso pro show do skank já completou mi...      1\n",
              "16  quem não gosta de skank e titãs tem mau gosto ...      1\n",
              "17                      👻 apertou os Skank só 🤜🏻 na 🧠      1\n",
              "18  Que a minha pretinha tá bolada\\njogou minhas r...      1\n",
              "19  If you don't know the poz show you know nothin...      1"
            ]
          },
          "metadata": {},
          "execution_count": 23
        }
      ]
    },
    {
      "cell_type": "markdown",
      "metadata": {
        "id": "LgPxhmiUDEkZ"
      },
      "source": [
        "**Hate**"
      ]
    },
    {
      "cell_type": "code",
      "metadata": {
        "id": "dH4K1qq7Xh-E"
      },
      "source": [
        "hate_tweets = api.search('hitler', count=20)"
      ],
      "execution_count": null,
      "outputs": []
    },
    {
      "cell_type": "code",
      "metadata": {
        "id": "6QbU6iCnXOC4"
      },
      "source": [
        "hate_tweet=[]\n",
        "for tweet in hate_tweets:\n",
        "  hate_tweet.append(tweet.text)\n"
      ],
      "execution_count": null,
      "outputs": []
    },
    {
      "cell_type": "code",
      "metadata": {
        "id": "aX3vn7nfXt7V",
        "colab": {
          "base_uri": "https://localhost:8080/"
        },
        "outputId": "27db2a11-132e-4ae0-b7a4-e89fa497e143"
      },
      "source": [
        "print(hate_tweet)"
      ],
      "execution_count": null,
      "outputs": [
        {
          "output_type": "stream",
          "name": "stdout",
          "text": [
            "[\"@Yankees_WhatsUp @Akira30002 @prageru That's... an effed up corollary.  Comparing Hitler ordering the assassination… https://t.co/3BHcdCw4hQ\", 'RT @angelitoTur: Voy a dormir no sin antes dejarles testimonios gráficos de los que “aman y construyen”. italia fascista de Musolini, Alema…', 'RT @DeepLeffen: god: \"ok guys we\\'re gonna try this one more time\" jesus: *comes back to life* buddha: *comes back to life* hitler: *comes b…', 'RT @DavidHundeyin: I think a big misconception about Tech that needs to die is that it exists to improve the world, ergo techies are fundam…', 'RT @epigmenioibarra: A Hitler lo inventaron los Krupp y otros grandes empresarios.Fue en el seno de la oligarquía alemana,que necesitaba re…', 'RT @JoaoSilverstein: @JASH725 @scheel_lala @rexzane1 So let’s stop. Being violent is not fun. But this is a violent time. Hitler didn’t get…', \"RT @shadimalaeb: On the 23rd of March 1933, Hitler's Enabling Act was passed by the Reichstag (German Parliament) 441 votes to 94. This Act…\", 'RT @epigmenioibarra: A Hitler lo inventaron los Krupp y otros grandes empresarios.Fue en el seno de la oligarquía alemana,que necesitaba re…', '@Poulin2012 @kiddodig Comment se fait il que les peuples non-allemands vainqueurs se soumettent au peuple ISLAMO-NA… https://t.co/cBthXnXwok', 'RT @cnashr: Cuidado con el exceso de confianza. Fujimori fue electo, Maduro, Ortega, Duque, Trump, Bolsonaro, Duterte … Hitler era una “ané…', 'RT @Donmel21: Antisemitism at its Worst: Italian Company Mass Produces Hitler-Labeled Wine Bottles https://t.co/ZQjLFHBbNM', '@VinTag10 @RSBNetwork @laughingmantwit If you werent blind you would know the real history on Hitler. Yes he perpet… https://t.co/WyfhCuFplV', 'RT @antifaoperative: It’s no surprise that Ted Cruz is defending Nazi salutes. Get in where you fit in Tubby Hitler.', 'RT @SCee57: @FeistyPK2 @scheel_lala hitler had the same narcissistic tendencies and look where he got...', 'RT @corvaxcorvax: @prensa_libre Hitler estaría feliz con colaboradores como estos... 😂 😂', 'Es como un judío defendiendo a Hitler. https://t.co/nV1Dvr9uhb', 'RT @epigmenioibarra: A Hitler lo inventaron los Krupp y otros grandes empresarios.Fue en el seno de la oligarquía alemana,que necesitaba re…', 'RT @AnitaSchelde: 1772 &gt; Katarzyna Wielka \"musiała\" interweniować w Polsce.\\n1939 &gt; Hitler i Stalin \"musieli\" interweniować w Polsce.\\n2021 &gt;…', '@Jdmej93 ¿Hitler o Mussolini?', 'RT @Christi69833985: Der QR Code vom greenpass wurde in Italien gehackt...\\nAlle Green pass laufen jetzt unter Adolf Hitler...\\nDanke Brüder,…']\n"
          ]
        }
      ]
    },
    {
      "cell_type": "code",
      "metadata": {
        "id": "21YKklZXX0_-"
      },
      "source": [
        "df_hate_1=pd.DataFrame(hate_tweet)"
      ],
      "execution_count": null,
      "outputs": []
    },
    {
      "cell_type": "code",
      "metadata": {
        "id": "wug4J-NFZdVn"
      },
      "source": [
        ""
      ],
      "execution_count": null,
      "outputs": []
    },
    {
      "cell_type": "code",
      "metadata": {
        "id": "psne7kKwYAXd"
      },
      "source": [
        "df_hate_1['tweet']=df_hate_1"
      ],
      "execution_count": null,
      "outputs": []
    },
    {
      "cell_type": "code",
      "metadata": {
        "id": "8j7UDHdUYDO_"
      },
      "source": [
        "df_hate_1['label']=0"
      ],
      "execution_count": null,
      "outputs": []
    },
    {
      "cell_type": "code",
      "metadata": {
        "id": "KXFs1Up6fhIm"
      },
      "source": [
        "df_hate_1=df_hate_1[['label','tweet']]"
      ],
      "execution_count": null,
      "outputs": []
    },
    {
      "cell_type": "code",
      "metadata": {
        "id": "oWZSU2DGfsHH",
        "colab": {
          "base_uri": "https://localhost:8080/",
          "height": 670
        },
        "outputId": "b4090e0e-eb21-49d3-aab3-3a8cd7dc0908"
      },
      "source": [
        "df_hate_1"
      ],
      "execution_count": null,
      "outputs": [
        {
          "output_type": "execute_result",
          "data": {
            "text/html": [
              "<div>\n",
              "<style scoped>\n",
              "    .dataframe tbody tr th:only-of-type {\n",
              "        vertical-align: middle;\n",
              "    }\n",
              "\n",
              "    .dataframe tbody tr th {\n",
              "        vertical-align: top;\n",
              "    }\n",
              "\n",
              "    .dataframe thead th {\n",
              "        text-align: right;\n",
              "    }\n",
              "</style>\n",
              "<table border=\"1\" class=\"dataframe\">\n",
              "  <thead>\n",
              "    <tr style=\"text-align: right;\">\n",
              "      <th></th>\n",
              "      <th>label</th>\n",
              "      <th>tweet</th>\n",
              "    </tr>\n",
              "  </thead>\n",
              "  <tbody>\n",
              "    <tr>\n",
              "      <th>0</th>\n",
              "      <td>0</td>\n",
              "      <td>@Yankees_WhatsUp @Akira30002 @prageru That's.....</td>\n",
              "    </tr>\n",
              "    <tr>\n",
              "      <th>1</th>\n",
              "      <td>0</td>\n",
              "      <td>RT @angelitoTur: Voy a dormir no sin antes dej...</td>\n",
              "    </tr>\n",
              "    <tr>\n",
              "      <th>2</th>\n",
              "      <td>0</td>\n",
              "      <td>RT @DeepLeffen: god: \"ok guys we're gonna try ...</td>\n",
              "    </tr>\n",
              "    <tr>\n",
              "      <th>3</th>\n",
              "      <td>0</td>\n",
              "      <td>RT @DavidHundeyin: I think a big misconception...</td>\n",
              "    </tr>\n",
              "    <tr>\n",
              "      <th>4</th>\n",
              "      <td>0</td>\n",
              "      <td>RT @epigmenioibarra: A Hitler lo inventaron lo...</td>\n",
              "    </tr>\n",
              "    <tr>\n",
              "      <th>5</th>\n",
              "      <td>0</td>\n",
              "      <td>RT @JoaoSilverstein: @JASH725 @scheel_lala @re...</td>\n",
              "    </tr>\n",
              "    <tr>\n",
              "      <th>6</th>\n",
              "      <td>0</td>\n",
              "      <td>RT @shadimalaeb: On the 23rd of March 1933, Hi...</td>\n",
              "    </tr>\n",
              "    <tr>\n",
              "      <th>7</th>\n",
              "      <td>0</td>\n",
              "      <td>RT @epigmenioibarra: A Hitler lo inventaron lo...</td>\n",
              "    </tr>\n",
              "    <tr>\n",
              "      <th>8</th>\n",
              "      <td>0</td>\n",
              "      <td>@Poulin2012 @kiddodig Comment se fait il que l...</td>\n",
              "    </tr>\n",
              "    <tr>\n",
              "      <th>9</th>\n",
              "      <td>0</td>\n",
              "      <td>RT @cnashr: Cuidado con el exceso de confianza...</td>\n",
              "    </tr>\n",
              "    <tr>\n",
              "      <th>10</th>\n",
              "      <td>0</td>\n",
              "      <td>RT @Donmel21: Antisemitism at its Worst: Itali...</td>\n",
              "    </tr>\n",
              "    <tr>\n",
              "      <th>11</th>\n",
              "      <td>0</td>\n",
              "      <td>@VinTag10 @RSBNetwork @laughingmantwit If you ...</td>\n",
              "    </tr>\n",
              "    <tr>\n",
              "      <th>12</th>\n",
              "      <td>0</td>\n",
              "      <td>RT @antifaoperative: It’s no surprise that Ted...</td>\n",
              "    </tr>\n",
              "    <tr>\n",
              "      <th>13</th>\n",
              "      <td>0</td>\n",
              "      <td>RT @SCee57: @FeistyPK2 @scheel_lala hitler had...</td>\n",
              "    </tr>\n",
              "    <tr>\n",
              "      <th>14</th>\n",
              "      <td>0</td>\n",
              "      <td>RT @corvaxcorvax: @prensa_libre Hitler estaría...</td>\n",
              "    </tr>\n",
              "    <tr>\n",
              "      <th>15</th>\n",
              "      <td>0</td>\n",
              "      <td>Es como un judío defendiendo a Hitler. https:/...</td>\n",
              "    </tr>\n",
              "    <tr>\n",
              "      <th>16</th>\n",
              "      <td>0</td>\n",
              "      <td>RT @epigmenioibarra: A Hitler lo inventaron lo...</td>\n",
              "    </tr>\n",
              "    <tr>\n",
              "      <th>17</th>\n",
              "      <td>0</td>\n",
              "      <td>RT @AnitaSchelde: 1772 &amp;gt; Katarzyna Wielka \"...</td>\n",
              "    </tr>\n",
              "    <tr>\n",
              "      <th>18</th>\n",
              "      <td>0</td>\n",
              "      <td>@Jdmej93 ¿Hitler o Mussolini?</td>\n",
              "    </tr>\n",
              "    <tr>\n",
              "      <th>19</th>\n",
              "      <td>0</td>\n",
              "      <td>RT @Christi69833985: Der QR Code vom greenpass...</td>\n",
              "    </tr>\n",
              "  </tbody>\n",
              "</table>\n",
              "</div>"
            ],
            "text/plain": [
              "    label                                              tweet\n",
              "0       0  @Yankees_WhatsUp @Akira30002 @prageru That's.....\n",
              "1       0  RT @angelitoTur: Voy a dormir no sin antes dej...\n",
              "2       0  RT @DeepLeffen: god: \"ok guys we're gonna try ...\n",
              "3       0  RT @DavidHundeyin: I think a big misconception...\n",
              "4       0  RT @epigmenioibarra: A Hitler lo inventaron lo...\n",
              "5       0  RT @JoaoSilverstein: @JASH725 @scheel_lala @re...\n",
              "6       0  RT @shadimalaeb: On the 23rd of March 1933, Hi...\n",
              "7       0  RT @epigmenioibarra: A Hitler lo inventaron lo...\n",
              "8       0  @Poulin2012 @kiddodig Comment se fait il que l...\n",
              "9       0  RT @cnashr: Cuidado con el exceso de confianza...\n",
              "10      0  RT @Donmel21: Antisemitism at its Worst: Itali...\n",
              "11      0  @VinTag10 @RSBNetwork @laughingmantwit If you ...\n",
              "12      0  RT @antifaoperative: It’s no surprise that Ted...\n",
              "13      0  RT @SCee57: @FeistyPK2 @scheel_lala hitler had...\n",
              "14      0  RT @corvaxcorvax: @prensa_libre Hitler estaría...\n",
              "15      0  Es como un judío defendiendo a Hitler. https:/...\n",
              "16      0  RT @epigmenioibarra: A Hitler lo inventaron lo...\n",
              "17      0  RT @AnitaSchelde: 1772 &gt; Katarzyna Wielka \"...\n",
              "18      0                      @Jdmej93 ¿Hitler o Mussolini?\n",
              "19      0  RT @Christi69833985: Der QR Code vom greenpass..."
            ]
          },
          "metadata": {},
          "execution_count": 31
        }
      ]
    },
    {
      "cell_type": "code",
      "metadata": {
        "id": "9w6AQSKqAh7H"
      },
      "source": [
        "final_df_1=pd.concat([df_hate_1,df_offensive,df_normal])"
      ],
      "execution_count": null,
      "outputs": []
    },
    {
      "cell_type": "code",
      "metadata": {
        "id": "98NceQmvhl4N",
        "colab": {
          "base_uri": "https://localhost:8080/",
          "height": 419
        },
        "outputId": "1f0c02b4-c9bd-4353-863e-479b2d37c7b7"
      },
      "source": [
        "final_df_1"
      ],
      "execution_count": null,
      "outputs": [
        {
          "output_type": "execute_result",
          "data": {
            "text/html": [
              "<div>\n",
              "<style scoped>\n",
              "    .dataframe tbody tr th:only-of-type {\n",
              "        vertical-align: middle;\n",
              "    }\n",
              "\n",
              "    .dataframe tbody tr th {\n",
              "        vertical-align: top;\n",
              "    }\n",
              "\n",
              "    .dataframe thead th {\n",
              "        text-align: right;\n",
              "    }\n",
              "</style>\n",
              "<table border=\"1\" class=\"dataframe\">\n",
              "  <thead>\n",
              "    <tr style=\"text-align: right;\">\n",
              "      <th></th>\n",
              "      <th>label</th>\n",
              "      <th>tweet</th>\n",
              "    </tr>\n",
              "  </thead>\n",
              "  <tbody>\n",
              "    <tr>\n",
              "      <th>0</th>\n",
              "      <td>0</td>\n",
              "      <td>@Yankees_WhatsUp @Akira30002 @prageru That's.....</td>\n",
              "    </tr>\n",
              "    <tr>\n",
              "      <th>1</th>\n",
              "      <td>0</td>\n",
              "      <td>RT @angelitoTur: Voy a dormir no sin antes dej...</td>\n",
              "    </tr>\n",
              "    <tr>\n",
              "      <th>2</th>\n",
              "      <td>0</td>\n",
              "      <td>RT @DeepLeffen: god: \"ok guys we're gonna try ...</td>\n",
              "    </tr>\n",
              "    <tr>\n",
              "      <th>3</th>\n",
              "      <td>0</td>\n",
              "      <td>RT @DavidHundeyin: I think a big misconception...</td>\n",
              "    </tr>\n",
              "    <tr>\n",
              "      <th>4</th>\n",
              "      <td>0</td>\n",
              "      <td>RT @epigmenioibarra: A Hitler lo inventaron lo...</td>\n",
              "    </tr>\n",
              "    <tr>\n",
              "      <th>...</th>\n",
              "      <td>...</td>\n",
              "      <td>...</td>\n",
              "    </tr>\n",
              "    <tr>\n",
              "      <th>15</th>\n",
              "      <td>2</td>\n",
              "      <td>💄商品紹介💄\\n\\nサンキューマートオリジナルコスメ\\n『CANDY BUNNY』\\nリップ...</td>\n",
              "    </tr>\n",
              "    <tr>\n",
              "      <th>16</th>\n",
              "      <td>2</td>\n",
              "      <td>RT @nutcha_rainbow: We have all candy ready fo...</td>\n",
              "    </tr>\n",
              "    <tr>\n",
              "      <th>17</th>\n",
              "      <td>2</td>\n",
              "      <td>RT @springrooove: ✨Candy Corn✨ A Spooky Namgi ...</td>\n",
              "    </tr>\n",
              "    <tr>\n",
              "      <th>18</th>\n",
              "      <td>2</td>\n",
              "      <td>Miluchi o Cande #halloweenlv https://t.co/M4aJ...</td>\n",
              "    </tr>\n",
              "    <tr>\n",
              "      <th>19</th>\n",
              "      <td>2</td>\n",
              "      <td>It's that time of the year that I must remind ...</td>\n",
              "    </tr>\n",
              "  </tbody>\n",
              "</table>\n",
              "<p>66 rows × 2 columns</p>\n",
              "</div>"
            ],
            "text/plain": [
              "    label                                              tweet\n",
              "0       0  @Yankees_WhatsUp @Akira30002 @prageru That's.....\n",
              "1       0  RT @angelitoTur: Voy a dormir no sin antes dej...\n",
              "2       0  RT @DeepLeffen: god: \"ok guys we're gonna try ...\n",
              "3       0  RT @DavidHundeyin: I think a big misconception...\n",
              "4       0  RT @epigmenioibarra: A Hitler lo inventaron lo...\n",
              "..    ...                                                ...\n",
              "15      2  💄商品紹介💄\\n\\nサンキューマートオリジナルコスメ\\n『CANDY BUNNY』\\nリップ...\n",
              "16      2  RT @nutcha_rainbow: We have all candy ready fo...\n",
              "17      2  RT @springrooove: ✨Candy Corn✨ A Spooky Namgi ...\n",
              "18      2  Miluchi o Cande #halloweenlv https://t.co/M4aJ...\n",
              "19      2  It's that time of the year that I must remind ...\n",
              "\n",
              "[66 rows x 2 columns]"
            ]
          },
          "metadata": {},
          "execution_count": 33
        }
      ]
    },
    {
      "cell_type": "code",
      "metadata": {
        "id": "RRcaLl8H_3By"
      },
      "source": [
        "final_df_1.to_csv('twitter_2.csv') "
      ],
      "execution_count": null,
      "outputs": []
    },
    {
      "cell_type": "markdown",
      "metadata": {
        "id": "xi1YkBkH__Qt"
      },
      "source": [
        ""
      ]
    },
    {
      "cell_type": "code",
      "metadata": {
        "id": "seTX7reMm7TL"
      },
      "source": [
        "o_tweets = api.search('pussy', count=100)\n"
      ],
      "execution_count": null,
      "outputs": []
    },
    {
      "cell_type": "code",
      "metadata": {
        "id": "gM251d7PnSsd"
      },
      "source": [
        "o_tweet=[]"
      ],
      "execution_count": null,
      "outputs": []
    },
    {
      "cell_type": "code",
      "metadata": {
        "id": "hKY4FTFDnTFt"
      },
      "source": [
        "for tweet in o_tweets:\n",
        "  o_tweet.append(tweet.text)\n"
      ],
      "execution_count": null,
      "outputs": []
    },
    {
      "cell_type": "code",
      "metadata": {
        "id": "TQMPun_Wnp50"
      },
      "source": [
        "df_o=pd.DataFrame(o_tweet)"
      ],
      "execution_count": null,
      "outputs": []
    },
    {
      "cell_type": "code",
      "metadata": {
        "id": "HWRlvPCCn2Vb"
      },
      "source": [
        "df_o['tweet']=df_o\n",
        "df_o['label']=1"
      ],
      "execution_count": null,
      "outputs": []
    },
    {
      "cell_type": "code",
      "metadata": {
        "id": "zqDU45LUn_VE"
      },
      "source": [
        "df_o=df_o[['tweet','label']]"
      ],
      "execution_count": null,
      "outputs": []
    },
    {
      "cell_type": "code",
      "metadata": {
        "id": "ivXzHTMnoAGk"
      },
      "source": [
        "h_tweets = api.search('faggot', count=100)"
      ],
      "execution_count": null,
      "outputs": []
    },
    {
      "cell_type": "code",
      "metadata": {
        "id": "os1bg4AXoaFb"
      },
      "source": [
        "h_tweet=[]"
      ],
      "execution_count": null,
      "outputs": []
    },
    {
      "cell_type": "code",
      "metadata": {
        "id": "hn0P29OVoYY3"
      },
      "source": [
        "for tweet in h_tweets:\n",
        "  h_tweet.append(tweet.text)"
      ],
      "execution_count": null,
      "outputs": []
    },
    {
      "cell_type": "code",
      "metadata": {
        "id": "DD95_ZyaoQNc"
      },
      "source": [
        "df_h=pd.DataFrame(h_tweet)\n",
        "df_h['tweet']=df_h\n",
        "df_h['label']=0"
      ],
      "execution_count": null,
      "outputs": []
    },
    {
      "cell_type": "code",
      "metadata": {
        "id": "J8wKaP_Gpzzz"
      },
      "source": [
        "df_h=df_h[['tweet','label']]"
      ],
      "execution_count": null,
      "outputs": []
    },
    {
      "cell_type": "code",
      "metadata": {
        "id": "R0cdDSe2ojz0"
      },
      "source": [
        "n_tweets = api.search('happy', count=100)"
      ],
      "execution_count": null,
      "outputs": []
    },
    {
      "cell_type": "code",
      "metadata": {
        "id": "E5W5L6repIXc"
      },
      "source": [
        "n_tweet=[]"
      ],
      "execution_count": null,
      "outputs": []
    },
    {
      "cell_type": "code",
      "metadata": {
        "id": "REHCjcWfpRkc"
      },
      "source": [
        "for tweet in n_tweets:\n",
        "  n_tweet.append(tweet.text)"
      ],
      "execution_count": null,
      "outputs": []
    },
    {
      "cell_type": "code",
      "metadata": {
        "id": "fedLnIhPpbkN"
      },
      "source": [
        "df_n=pd.DataFrame(n_tweet)"
      ],
      "execution_count": null,
      "outputs": []
    },
    {
      "cell_type": "code",
      "metadata": {
        "id": "oxoksyjhpeFM"
      },
      "source": [
        "df_n['tweet']=df_n\n",
        "df_n['label']=2"
      ],
      "execution_count": null,
      "outputs": []
    },
    {
      "cell_type": "code",
      "metadata": {
        "id": "VtGlwT9Op4Qu"
      },
      "source": [
        "df_n=df_n[['tweet','label']]"
      ],
      "execution_count": null,
      "outputs": []
    },
    {
      "cell_type": "code",
      "metadata": {
        "id": "cbMJdkbXpfNU"
      },
      "source": [
        "df_take2=pd.concat([df_h,df_o,df_n])\n",
        "df_take2.to_csv('twitter_3.csv') "
      ],
      "execution_count": null,
      "outputs": []
    }
  ]
}