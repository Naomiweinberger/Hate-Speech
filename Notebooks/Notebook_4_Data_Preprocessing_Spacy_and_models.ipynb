version https://git-lfs.github.com/spec/v1
oid sha256:db5ef07195c225fa1d3045101265664483e4f84444be6f131e7bdb5a61d40576
size 303207
