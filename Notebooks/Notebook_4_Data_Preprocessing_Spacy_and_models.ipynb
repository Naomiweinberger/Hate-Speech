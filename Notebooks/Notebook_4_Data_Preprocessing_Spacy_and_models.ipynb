{
 "cells": [
  {
   "cell_type": "markdown",
   "metadata": {
    "colab_type": "text",
    "id": "view-in-github"
   },
   "source": [
    "<a href=\"https://colab.research.google.com/github/Naomiweinberger/Hate-Speech/blob/main/Spacy_twitter_.ipynb\" target=\"_parent\"><img src=\"https://colab.research.google.com/assets/colab-badge.svg\" alt=\"Open In Colab\"/></a>"
   ]
  },
  {
   "cell_type": "markdown",
   "metadata": {},
   "source": [
    " **Notebook #4-Data Preprocessing using SpaCy and Modeling**"
   ]
  },
  {
   "cell_type": "markdown",
   "metadata": {},
   "source": [
    "**WARNING-DUE TO THE NATURE OF THIS PROJECT,THIS NOTEBOOK CONTAINS WORDS THAT ARE HATEFUL. THIS IS NO WAY REFLECTS THE VIEWS OF THE AUTHOR**"
   ]
  },
  {
   "cell_type": "markdown",
   "metadata": {},
   "source": [
    "In this notebook, I used the spaCy library to preprocess the data. Unlike [notebook #2], here I didn't have to clean the data before imputing it into the model. This is because spaCy takes into account all of the nuances that cleaning the data gets rid of like capitalization,punucation, emojis and the like. SpaCy takes into account context, not just words. "
   ]
  },
  {
   "cell_type": "markdown",
   "metadata": {
    "id": "kkhn3PfS-nVP"
   },
   "source": [
    "**Import libraries** I imported the libraries necessary for the project, including spaCy and sklearn and imblearn. "
   ]
  },
  {
   "cell_type": "code",
   "execution_count": 38,
   "metadata": {},
   "outputs": [
    {
     "name": "stdout",
     "output_type": "stream",
     "text": [
      "Collecting en-core-web-lg==3.1.0\n",
      "  Downloading https://github.com/explosion/spacy-models/releases/download/en_core_web_lg-3.1.0/en_core_web_lg-3.1.0-py3-none-any.whl (777.1 MB)\n",
      "Requirement already satisfied: spacy<3.2.0,>=3.1.0 in c:\\users\\weinb\\anaconda3\\envs\\learn-env\\lib\\site-packages (from en-core-web-lg==3.1.0) (3.1.3)\n",
      "Requirement already satisfied: blis<0.8.0,>=0.4.0 in c:\\users\\weinb\\anaconda3\\envs\\learn-env\\lib\\site-packages (from spacy<3.2.0,>=3.1.0->en-core-web-lg==3.1.0) (0.7.4)\n",
      "Requirement already satisfied: numpy>=1.15.0 in c:\\users\\weinb\\anaconda3\\envs\\learn-env\\lib\\site-packages (from spacy<3.2.0,>=3.1.0->en-core-web-lg==3.1.0) (1.18.5)\n",
      "Requirement already satisfied: spacy-legacy<3.1.0,>=3.0.8 in c:\\users\\weinb\\anaconda3\\envs\\learn-env\\lib\\site-packages (from spacy<3.2.0,>=3.1.0->en-core-web-lg==3.1.0) (3.0.8)\n",
      "Requirement already satisfied: wasabi<1.1.0,>=0.8.1 in c:\\users\\weinb\\anaconda3\\envs\\learn-env\\lib\\site-packages (from spacy<3.2.0,>=3.1.0->en-core-web-lg==3.1.0) (0.8.2)\n",
      "Requirement already satisfied: cymem<2.1.0,>=2.0.2 in c:\\users\\weinb\\anaconda3\\envs\\learn-env\\lib\\site-packages (from spacy<3.2.0,>=3.1.0->en-core-web-lg==3.1.0) (2.0.5)\n",
      "Requirement already satisfied: srsly<3.0.0,>=2.4.1 in c:\\users\\weinb\\anaconda3\\envs\\learn-env\\lib\\site-packages (from spacy<3.2.0,>=3.1.0->en-core-web-lg==3.1.0) (2.4.1)\n",
      "Requirement already satisfied: typer<0.5.0,>=0.3.0 in c:\\users\\weinb\\anaconda3\\envs\\learn-env\\lib\\site-packages (from spacy<3.2.0,>=3.1.0->en-core-web-lg==3.1.0) (0.4.0)\n",
      "Requirement already satisfied: pydantic!=1.8,!=1.8.1,<1.9.0,>=1.7.4 in c:\\users\\weinb\\anaconda3\\envs\\learn-env\\lib\\site-packages (from spacy<3.2.0,>=3.1.0->en-core-web-lg==3.1.0) (1.8.2)\n",
      "Requirement already satisfied: preshed<3.1.0,>=3.0.2 in c:\\users\\weinb\\anaconda3\\envs\\learn-env\\lib\\site-packages (from spacy<3.2.0,>=3.1.0->en-core-web-lg==3.1.0) (3.0.5)\n",
      "Requirement already satisfied: pathy>=0.3.5 in c:\\users\\weinb\\anaconda3\\envs\\learn-env\\lib\\site-packages (from spacy<3.2.0,>=3.1.0->en-core-web-lg==3.1.0) (0.6.0)\n",
      "Requirement already satisfied: packaging>=20.0 in c:\\users\\weinb\\anaconda3\\envs\\learn-env\\lib\\site-packages (from spacy<3.2.0,>=3.1.0->en-core-web-lg==3.1.0) (20.4)\n",
      "Requirement already satisfied: requests<3.0.0,>=2.13.0 in c:\\users\\weinb\\anaconda3\\envs\\learn-env\\lib\\site-packages (from spacy<3.2.0,>=3.1.0->en-core-web-lg==3.1.0) (2.24.0)\n",
      "Requirement already satisfied: thinc<8.1.0,>=8.0.9 in c:\\users\\weinb\\anaconda3\\envs\\learn-env\\lib\\site-packages (from spacy<3.2.0,>=3.1.0->en-core-web-lg==3.1.0) (8.0.10)\n",
      "Requirement already satisfied: setuptools in c:\\users\\weinb\\anaconda3\\envs\\learn-env\\lib\\site-packages (from spacy<3.2.0,>=3.1.0->en-core-web-lg==3.1.0) (50.3.0.post20201103)\n",
      "Requirement already satisfied: murmurhash<1.1.0,>=0.28.0 in c:\\users\\weinb\\anaconda3\\envs\\learn-env\\lib\\site-packages (from spacy<3.2.0,>=3.1.0->en-core-web-lg==3.1.0) (1.0.5)\n",
      "Requirement already satisfied: tqdm<5.0.0,>=4.38.0 in c:\\users\\weinb\\anaconda3\\envs\\learn-env\\lib\\site-packages (from spacy<3.2.0,>=3.1.0->en-core-web-lg==3.1.0) (4.50.2)\n",
      "Requirement already satisfied: jinja2 in c:\\users\\weinb\\anaconda3\\envs\\learn-env\\lib\\site-packages (from spacy<3.2.0,>=3.1.0->en-core-web-lg==3.1.0) (3.0.2)\n",
      "Requirement already satisfied: catalogue<2.1.0,>=2.0.6 in c:\\users\\weinb\\anaconda3\\envs\\learn-env\\lib\\site-packages (from spacy<3.2.0,>=3.1.0->en-core-web-lg==3.1.0) (2.0.6)\n",
      "Requirement already satisfied: click<9.0.0,>=7.1.1 in c:\\users\\weinb\\anaconda3\\envs\\learn-env\\lib\\site-packages (from typer<0.5.0,>=0.3.0->spacy<3.2.0,>=3.1.0->en-core-web-lg==3.1.0) (7.1.2)\n",
      "Requirement already satisfied: typing-extensions>=3.7.4.3 in c:\\users\\weinb\\anaconda3\\envs\\learn-env\\lib\\site-packages (from pydantic!=1.8,!=1.8.1,<1.9.0,>=1.7.4->spacy<3.2.0,>=3.1.0->en-core-web-lg==3.1.0) (3.10.0.2)\n",
      "Requirement already satisfied: smart-open<6.0.0,>=5.0.0 in c:\\users\\weinb\\anaconda3\\envs\\learn-env\\lib\\site-packages (from pathy>=0.3.5->spacy<3.2.0,>=3.1.0->en-core-web-lg==3.1.0) (5.2.1)\n",
      "Requirement already satisfied: six in c:\\users\\weinb\\anaconda3\\envs\\learn-env\\lib\\site-packages (from packaging>=20.0->spacy<3.2.0,>=3.1.0->en-core-web-lg==3.1.0) (1.15.0)\n",
      "Requirement already satisfied: pyparsing>=2.0.2 in c:\\users\\weinb\\anaconda3\\envs\\learn-env\\lib\\site-packages (from packaging>=20.0->spacy<3.2.0,>=3.1.0->en-core-web-lg==3.1.0) (2.4.7)\n",
      "Requirement already satisfied: certifi>=2017.4.17 in c:\\users\\weinb\\anaconda3\\envs\\learn-env\\lib\\site-packages (from requests<3.0.0,>=2.13.0->spacy<3.2.0,>=3.1.0->en-core-web-lg==3.1.0) (2021.5.30)\n",
      "Requirement already satisfied: urllib3!=1.25.0,!=1.25.1,<1.26,>=1.21.1 in c:\\users\\weinb\\anaconda3\\envs\\learn-env\\lib\\site-packages (from requests<3.0.0,>=2.13.0->spacy<3.2.0,>=3.1.0->en-core-web-lg==3.1.0) (1.25.10)\n",
      "Requirement already satisfied: chardet<4,>=3.0.2 in c:\\users\\weinb\\anaconda3\\envs\\learn-env\\lib\\site-packages (from requests<3.0.0,>=2.13.0->spacy<3.2.0,>=3.1.0->en-core-web-lg==3.1.0) (3.0.4)\n",
      "Requirement already satisfied: idna<3,>=2.5 in c:\\users\\weinb\\anaconda3\\envs\\learn-env\\lib\\site-packages (from requests<3.0.0,>=2.13.0->spacy<3.2.0,>=3.1.0->en-core-web-lg==3.1.0) (2.10)\n",
      "Requirement already satisfied: MarkupSafe>=2.0 in c:\\users\\weinb\\anaconda3\\envs\\learn-env\\lib\\site-packages (from jinja2->spacy<3.2.0,>=3.1.0->en-core-web-lg==3.1.0) (2.0.1)\n",
      "Installing collected packages: en-core-web-lg\n",
      "Successfully installed en-core-web-lg-3.1.0\n",
      "[+] Download and installation successful\n",
      "You can now load the package via spacy.load('en_core_web_lg')\n"
     ]
    },
    {
     "name": "stderr",
     "output_type": "stream",
     "text": [
      "2021-10-25 21:47:53.568346: W tensorflow/stream_executor/platform/default/dso_loader.cc:59] Could not load dynamic library 'cudart64_101.dll'; dlerror: cudart64_101.dll not found\n",
      "2021-10-25 21:47:53.570725: I tensorflow/stream_executor/cuda/cudart_stub.cc:29] Ignore above cudart dlerror if you do not have a GPU set up on your machine.\n"
     ]
    }
   ],
   "source": [
    "!python -m spacy download en_core_web_lg"
   ]
  },
  {
   "cell_type": "code",
   "execution_count": 7,
   "metadata": {
    "colab": {
     "base_uri": "https://localhost:8080/"
    },
    "id": "66zd6G8AoKp9",
    "outputId": "899419d1-5b73-4099-e863-779cb4a7f43d"
   },
   "outputs": [
    {
     "name": "stderr",
     "output_type": "stream",
     "text": [
      "C:\\Users\\weinb\\anaconda3\\envs\\learn-env\\lib\\site-packages\\tqdm\\std.py:697: FutureWarning: The Panel class is removed from pandas. Accessing it from the top-level namespace will also be removed in the next version\n",
      "  from pandas import Panel\n",
      "Python was not found; run without arguments to install from the Microsoft Store, or disable this shortcut from Settings > Manage App Execution Aliases.\n"
     ]
    }
   ],
   "source": [
    "import numpy as np\n",
    "import matplotlib.pyplot as plt\n",
    "import pandas as pd\n",
    "import seaborn as sns\n",
    "\n",
    "import spacy\n",
    "from tqdm import tqdm\n",
    "tqdm.pandas()\n",
    "!python3 -m spacy download en_core_web_lg\n",
    "\n",
    "from sklearn.metrics import accuracy_score\n",
    "from sklearn.naive_bayes import GaussianNB\n",
    "from sklearn.metrics import classification_report, plot_confusion_matrix, confusion_matrix,precision_score, recall_score, accuracy_score, f1_score,roc_curve, auc\n",
    "\n",
    "\n",
    "from sklearn.neighbors import KNeighborsClassifier\n",
    "from sklearn.tree import DecisionTreeClassifier\n",
    "from sklearn.ensemble import RandomForestClassifier\n",
    "from sklearn.linear_model import LogisticRegression\n",
    "from sklearn.naive_bayes import GaussianNB\n",
    "from xgboost import XGBClassifier as xgb\n",
    "\n",
    "from sklearn.model_selection import train_test_split, GridSearchCV\n",
    "from sklearn.preprocessing import StandardScaler, PolynomialFeatures\n",
    "from imblearn.pipeline import Pipeline as IMBPipeline\n",
    "\n",
    "from imblearn.over_sampling import SMOTE\n",
    "import warnings\n",
    "warnings.filterwarnings(\"ignore\")"
   ]
  },
  {
   "cell_type": "markdown",
   "metadata": {
    "id": "3b96xV3Z_3B5"
   },
   "source": [
    "**Model Function** I created a function to streamline the modeling process."
   ]
  },
  {
   "cell_type": "code",
   "execution_count": 8,
   "metadata": {
    "id": "hbYj8MOI_1YP"
   },
   "outputs": [],
   "source": [
    "def run_model(model, X_train, X_test, y_train, y_test):\n",
    "    model.fit(X_train, y_train)\n",
    "\n",
    "    y_pred_train = model.predict(X_train)\n",
    "    y_pred_test = model.predict(X_test)    \n",
    "    cnf_matrix_test = confusion_matrix(y_test,  y_pred_test)\n",
    "    cnf_matrix_train = confusion_matrix(y_train,  y_pred_train)\n",
    "    print('Confusion Matrix for Train Set:\\n', cnf_matrix_train) \n",
    "    print('Confusion Matrix for Test Set:\\n', cnf_matrix_test)\n",
    " \n",
    "    cnf_matrix_train = confusion_matrix(y_train,  y_pred_train)\n",
    "  \n",
    "    print('Classification Report for Train Set:\\n',classification_report(y_train, y_pred_train))\n",
    "    print('Classification Report for Test Set:\\n',classification_report(y_test , y_pred_test))\n",
    " \n",
    "    \n",
    "    plot_confusion_matrix(model, X_test, y_test,\n",
    "                     cmap=plt.cm.Blues)\n",
    "    plot_confusion_matrix(model, X_train, y_train,\n",
    "                     cmap=plt.cm.Blues)\n",
    "    \n",
    "   \n",
    "    return model"
   ]
  },
  {
   "cell_type": "markdown",
   "metadata": {
    "id": "qvWAhX-M-QVF"
   },
   "source": [
    "**Data**- I used SpaCy to preprocess the data"
   ]
  },
  {
   "cell_type": "code",
   "execution_count": 9,
   "metadata": {
    "colab": {
     "base_uri": "https://localhost:8080/",
     "height": 204
    },
    "id": "s-58KK63wg1C",
    "outputId": "c3591204-3d73-4275-df0a-4460008a2dd7"
   },
   "outputs": [
    {
     "data": {
      "text/html": [
       "<div>\n",
       "<style scoped>\n",
       "    .dataframe tbody tr th:only-of-type {\n",
       "        vertical-align: middle;\n",
       "    }\n",
       "\n",
       "    .dataframe tbody tr th {\n",
       "        vertical-align: top;\n",
       "    }\n",
       "\n",
       "    .dataframe thead th {\n",
       "        text-align: right;\n",
       "    }\n",
       "</style>\n",
       "<table border=\"1\" class=\"dataframe\">\n",
       "  <thead>\n",
       "    <tr style=\"text-align: right;\">\n",
       "      <th></th>\n",
       "      <th>Unnamed: 0</th>\n",
       "      <th>count</th>\n",
       "      <th>hate_speech</th>\n",
       "      <th>offensive_language</th>\n",
       "      <th>neither</th>\n",
       "      <th>class</th>\n",
       "      <th>tweet</th>\n",
       "    </tr>\n",
       "  </thead>\n",
       "  <tbody>\n",
       "    <tr>\n",
       "      <th>0</th>\n",
       "      <td>0</td>\n",
       "      <td>3</td>\n",
       "      <td>0</td>\n",
       "      <td>0</td>\n",
       "      <td>3</td>\n",
       "      <td>2</td>\n",
       "      <td>!!! RT @mayasolovely: As a woman you shouldn't...</td>\n",
       "    </tr>\n",
       "    <tr>\n",
       "      <th>1</th>\n",
       "      <td>1</td>\n",
       "      <td>3</td>\n",
       "      <td>0</td>\n",
       "      <td>3</td>\n",
       "      <td>0</td>\n",
       "      <td>1</td>\n",
       "      <td>!!!!! RT @mleew17: boy dats cold...tyga dwn ba...</td>\n",
       "    </tr>\n",
       "    <tr>\n",
       "      <th>2</th>\n",
       "      <td>2</td>\n",
       "      <td>3</td>\n",
       "      <td>0</td>\n",
       "      <td>3</td>\n",
       "      <td>0</td>\n",
       "      <td>1</td>\n",
       "      <td>!!!!!!! RT @UrKindOfBrand Dawg!!!! RT @80sbaby...</td>\n",
       "    </tr>\n",
       "    <tr>\n",
       "      <th>3</th>\n",
       "      <td>3</td>\n",
       "      <td>3</td>\n",
       "      <td>0</td>\n",
       "      <td>2</td>\n",
       "      <td>1</td>\n",
       "      <td>1</td>\n",
       "      <td>!!!!!!!!! RT @C_G_Anderson: @viva_based she lo...</td>\n",
       "    </tr>\n",
       "    <tr>\n",
       "      <th>4</th>\n",
       "      <td>4</td>\n",
       "      <td>6</td>\n",
       "      <td>0</td>\n",
       "      <td>6</td>\n",
       "      <td>0</td>\n",
       "      <td>1</td>\n",
       "      <td>!!!!!!!!!!!!! RT @ShenikaRoberts: The shit you...</td>\n",
       "    </tr>\n",
       "  </tbody>\n",
       "</table>\n",
       "</div>"
      ],
      "text/plain": [
       "   Unnamed: 0  count  hate_speech  offensive_language  neither  class  \\\n",
       "0           0      3            0                   0        3      2   \n",
       "1           1      3            0                   3        0      1   \n",
       "2           2      3            0                   3        0      1   \n",
       "3           3      3            0                   2        1      1   \n",
       "4           4      6            0                   6        0      1   \n",
       "\n",
       "                                               tweet  \n",
       "0  !!! RT @mayasolovely: As a woman you shouldn't...  \n",
       "1  !!!!! RT @mleew17: boy dats cold...tyga dwn ba...  \n",
       "2  !!!!!!! RT @UrKindOfBrand Dawg!!!! RT @80sbaby...  \n",
       "3  !!!!!!!!! RT @C_G_Anderson: @viva_based she lo...  \n",
       "4  !!!!!!!!!!!!! RT @ShenikaRoberts: The shit you...  "
      ]
     },
     "execution_count": 9,
     "metadata": {},
     "output_type": "execute_result"
    }
   ],
   "source": [
    "hatespeech_df = pd.read_csv('C:\\\\Users\\\\weinb\\\\Hate-speech\\\\Data\\\\labeleddata.csv')\n",
    "hatespeech_df.head()"
   ]
  },
  {
   "cell_type": "code",
   "execution_count": 10,
   "metadata": {
    "colab": {
     "base_uri": "https://localhost:8080/",
     "height": 204
    },
    "id": "uWDZBdnhwGlq",
    "outputId": "36006066-e3f1-48db-8bd3-8387d307f96b"
   },
   "outputs": [
    {
     "data": {
      "text/html": [
       "<div>\n",
       "<style scoped>\n",
       "    .dataframe tbody tr th:only-of-type {\n",
       "        vertical-align: middle;\n",
       "    }\n",
       "\n",
       "    .dataframe tbody tr th {\n",
       "        vertical-align: top;\n",
       "    }\n",
       "\n",
       "    .dataframe thead th {\n",
       "        text-align: right;\n",
       "    }\n",
       "</style>\n",
       "<table border=\"1\" class=\"dataframe\">\n",
       "  <thead>\n",
       "    <tr style=\"text-align: right;\">\n",
       "      <th></th>\n",
       "      <th>id</th>\n",
       "      <th>label</th>\n",
       "      <th>tweet</th>\n",
       "    </tr>\n",
       "  </thead>\n",
       "  <tbody>\n",
       "    <tr>\n",
       "      <th>0</th>\n",
       "      <td>1</td>\n",
       "      <td>0</td>\n",
       "      <td>@user when a father is dysfunctional and is s...</td>\n",
       "    </tr>\n",
       "    <tr>\n",
       "      <th>1</th>\n",
       "      <td>2</td>\n",
       "      <td>0</td>\n",
       "      <td>@user @user thanks for #lyft credit i can't us...</td>\n",
       "    </tr>\n",
       "    <tr>\n",
       "      <th>2</th>\n",
       "      <td>3</td>\n",
       "      <td>0</td>\n",
       "      <td>bihday your majesty</td>\n",
       "    </tr>\n",
       "    <tr>\n",
       "      <th>3</th>\n",
       "      <td>4</td>\n",
       "      <td>0</td>\n",
       "      <td>#model   i love u take with u all the time in ...</td>\n",
       "    </tr>\n",
       "    <tr>\n",
       "      <th>4</th>\n",
       "      <td>5</td>\n",
       "      <td>0</td>\n",
       "      <td>factsguide: society now    #motivation</td>\n",
       "    </tr>\n",
       "  </tbody>\n",
       "</table>\n",
       "</div>"
      ],
      "text/plain": [
       "   id  label                                              tweet\n",
       "0   1      0   @user when a father is dysfunctional and is s...\n",
       "1   2      0  @user @user thanks for #lyft credit i can't us...\n",
       "2   3      0                                bihday your majesty\n",
       "3   4      0  #model   i love u take with u all the time in ...\n",
       "4   5      0             factsguide: society now    #motivation"
      ]
     },
     "execution_count": 10,
     "metadata": {},
     "output_type": "execute_result"
    }
   ],
   "source": [
    "hatespeech_df_2 = pd.read_csv('C:\\\\Users\\\\weinb\\\\Hate-speech\\\\Data\\\\train_E6oV3lV.csv')\n",
    "hatespeech_df_2.head()"
   ]
  },
  {
   "cell_type": "code",
   "execution_count": 11,
   "metadata": {
    "id": "g3n_WL1C5uBH"
   },
   "outputs": [],
   "source": [
    "hatespeech_df_1=hatespeech_df[['class','tweet']]"
   ]
  },
  {
   "cell_type": "code",
   "execution_count": 12,
   "metadata": {
    "id": "Ca3LmaIL5qmB"
   },
   "outputs": [],
   "source": [
    "hatespeech_df_2['class']=hatespeech_df_2['label']"
   ]
  },
  {
   "cell_type": "code",
   "execution_count": 13,
   "metadata": {
    "id": "Klq1q5_j5nA5"
   },
   "outputs": [],
   "source": [
    "df_2 = pd.DataFrame(hatespeech_df_2, columns= ['class','tweet'])\n",
    "df_2['class'] = df_2['class'].replace([1,0],[0,2])"
   ]
  },
  {
   "cell_type": "code",
   "execution_count": 14,
   "metadata": {
    "id": "6fxJAVjJ5k_j"
   },
   "outputs": [],
   "source": [
    "hatespeech=pd.concat([hatespeech_df_1, df_2])"
   ]
  },
  {
   "cell_type": "code",
   "execution_count": 15,
   "metadata": {
    "colab": {
     "base_uri": "https://localhost:8080/"
    },
    "id": "3xvml-J00PTw",
    "outputId": "0ce9f655-aa5a-487d-e163-b3df22219118"
   },
   "outputs": [
    {
     "data": {
      "text/plain": [
       "(24783, 7)"
      ]
     },
     "execution_count": 15,
     "metadata": {},
     "output_type": "execute_result"
    }
   ],
   "source": [
    "hatespeech_df.shape"
   ]
  },
  {
   "cell_type": "code",
   "execution_count": 16,
   "metadata": {
    "colab": {
     "base_uri": "https://localhost:8080/"
    },
    "id": "NPed9n9soCM3",
    "outputId": "a47d7e03-86f0-4ed9-9825-93ed16e7591c"
   },
   "outputs": [
    {
     "name": "stderr",
     "output_type": "stream",
     "text": [
      "100%|██████████| 56745/56745 [07:45<00:00, 121.83it/s]\n"
     ]
    }
   ],
   "source": [
    "nlp = spacy.load('en_core_web_lg')\n",
    "hatespeech['spacy'] = hatespeech.tweet.progress_apply(lambda x: nlp(x))"
   ]
  },
  {
   "cell_type": "code",
   "execution_count": 17,
   "metadata": {
    "id": "FpqNahYLWcmz"
   },
   "outputs": [],
   "source": [
    "df= pd.DataFrame(np.vstack([x.vector for x in hatespeech.spacy]))"
   ]
  },
  {
   "cell_type": "code",
   "execution_count": 18,
   "metadata": {
    "id": "QDEwvVgQaWW9"
   },
   "outputs": [],
   "source": [
    "X=df\n",
    "y=hatespeech['class']"
   ]
  },
  {
   "cell_type": "code",
   "execution_count": 19,
   "metadata": {
    "id": "bL5RcgkvbCO-"
   },
   "outputs": [],
   "source": [
    "X_train, X_test, y_train, y_test = train_test_split(X,y,\n",
    "                                                    stratify=y,\n",
    "                                                    test_size=0.2,\n",
    "                                                    random_state=42)"
   ]
  },
  {
   "cell_type": "code",
   "execution_count": 20,
   "metadata": {
    "id": "okdO6jDJJYHj"
   },
   "outputs": [],
   "source": [
    "oversample = SMOTE()\n",
    "X_train_smote, y_train_smote = oversample.fit_resample(X, y)"
   ]
  },
  {
   "cell_type": "markdown",
   "metadata": {
    "id": "f93bXjr2dVAy"
   },
   "source": [
    "**Baseline models**\n"
   ]
  },
  {
   "cell_type": "code",
   "execution_count": 55,
   "metadata": {
    "colab": {
     "base_uri": "https://localhost:8080/"
    },
    "id": "_8U76duYbTw2",
    "outputId": "ce483d5b-102c-4dc6-f026-913215b45303"
   },
   "outputs": [
    {
     "name": "stdout",
     "output_type": "stream",
     "text": [
      "Confusion Matrix for Train Set:\n",
      " [[ 1126   915   897]\n",
      " [   77 14869   406]\n",
      " [  168  1652 25286]]\n",
      "Confusion Matrix for Test Set:\n",
      " [[ 188  247  299]\n",
      " [  27 3672  139]\n",
      " [  62  588 6127]]\n",
      "Classification Report for Train Set:\n",
      "               precision    recall  f1-score   support\n",
      "\n",
      "           0       0.82      0.38      0.52      2938\n",
      "           1       0.85      0.97      0.91     15352\n",
      "           2       0.95      0.93      0.94     27106\n",
      "\n",
      "    accuracy                           0.91     45396\n",
      "   macro avg       0.88      0.76      0.79     45396\n",
      "weighted avg       0.91      0.91      0.90     45396\n",
      "\n",
      "Classification Report for Test Set:\n",
      "               precision    recall  f1-score   support\n",
      "\n",
      "           0       0.68      0.26      0.37       734\n",
      "           1       0.81      0.96      0.88      3838\n",
      "           2       0.93      0.90      0.92      6777\n",
      "\n",
      "    accuracy                           0.88     11349\n",
      "   macro avg       0.81      0.71      0.72     11349\n",
      "weighted avg       0.88      0.88      0.87     11349\n",
      "\n"
     ]
    },
    {
     "data": {
      "text/plain": [
       "KNeighborsClassifier()"
      ]
     },
     "execution_count": 55,
     "metadata": {},
     "output_type": "execute_result"
    },
    {
     "data": {
      "image/png": "[encoded data removed]",
      "text/plain": [
       "<Figure size 432x288 with 2 Axes>"
      ]
     },
     "metadata": {
      "needs_background": "light"
     },
     "output_type": "display_data"
    },
    {
     "data": {
      "image/png": "[encoded data removed]",
      "text/plain": [
       "<Figure size 432x288 with 2 Axes>"
      ]
     },
     "metadata": {
      "needs_background": "light"
     },
     "output_type": "display_data"
    }
   ],
   "source": [
    "classifier_knn = KNeighborsClassifier()\n",
    "run_model(classifier_knn, X_train, X_test, y_train, y_test) "
   ]
  },
  {
   "cell_type": "code",
   "execution_count": 57,
   "metadata": {
    "colab": {
     "base_uri": "https://localhost:8080/"
    },
    "id": "gr7DMK0F6RIs",
    "outputId": "172da198-655d-4d48-e77b-75557eaac28d"
   },
   "outputs": [
    {
     "name": "stdout",
     "output_type": "stream",
     "text": [
      "Confusion Matrix for Train Set:\n",
      " [[  995  1007   936]\n",
      " [  963 13810   579]\n",
      " [ 3283  4409 19414]]\n",
      "Confusion Matrix for Test Set:\n",
      " [[ 252  242  240]\n",
      " [ 254 3429  155]\n",
      " [ 824 1154 4799]]\n",
      "Classification Report for Train Set:\n",
      "               precision    recall  f1-score   support\n",
      "\n",
      "           0       0.19      0.34      0.24      2938\n",
      "           1       0.72      0.90      0.80     15352\n",
      "           2       0.93      0.72      0.81     27106\n",
      "\n",
      "    accuracy                           0.75     45396\n",
      "   macro avg       0.61      0.65      0.62     45396\n",
      "weighted avg       0.81      0.75      0.77     45396\n",
      "\n",
      "Classification Report for Test Set:\n",
      "               precision    recall  f1-score   support\n",
      "\n",
      "           0       0.19      0.34      0.24       734\n",
      "           1       0.71      0.89      0.79      3838\n",
      "           2       0.92      0.71      0.80      6777\n",
      "\n",
      "    accuracy                           0.75     11349\n",
      "   macro avg       0.61      0.65      0.61     11349\n",
      "weighted avg       0.80      0.75      0.76     11349\n",
      "\n"
     ]
    },
    {
     "data": {
      "text/plain": [
       "GaussianNB()"
      ]
     },
     "execution_count": 57,
     "metadata": {},
     "output_type": "execute_result"
    },
    {
     "data": {
      "image/png": "[encoded data removed]",
      "text/plain": [
       "<Figure size 432x288 with 2 Axes>"
      ]
     },
     "metadata": {
      "needs_background": "light"
     },
     "output_type": "display_data"
    },
    {
     "data": {
      "image/png": "[encoded data removed]",
      "text/plain": [
       "<Figure size 432x288 with 2 Axes>"
      ]
     },
     "metadata": {
      "needs_background": "light"
     },
     "output_type": "display_data"
    }
   ],
   "source": [
    "classifier_nb = GaussianNB()\n",
    "run_model(classifier_nb, X_train, X_test, y_train, y_test) \n"
   ]
  },
  {
   "cell_type": "code",
   "execution_count": 58,
   "metadata": {
    "colab": {
     "base_uri": "https://localhost:8080/"
    },
    "id": "mI83lDOabxLW",
    "outputId": "12776113-a10e-43bd-fc7b-61d18aa2511a"
   },
   "outputs": [
    {
     "name": "stdout",
     "output_type": "stream",
     "text": [
      "Confusion Matrix for Train Set:\n",
      " [[ 2935     3     0]\n",
      " [    8 15343     1]\n",
      " [    0     4 27102]]\n",
      "Confusion Matrix for Test Set:\n",
      " [[ 213  210  311]\n",
      " [ 289 2956  593]\n",
      " [ 373  559 5845]]\n",
      "Classification Report for Train Set:\n",
      "               precision    recall  f1-score   support\n",
      "\n",
      "           0       1.00      1.00      1.00      2938\n",
      "           1       1.00      1.00      1.00     15352\n",
      "           2       1.00      1.00      1.00     27106\n",
      "\n",
      "    accuracy                           1.00     45396\n",
      "   macro avg       1.00      1.00      1.00     45396\n",
      "weighted avg       1.00      1.00      1.00     45396\n",
      "\n",
      "Classification Report for Test Set:\n",
      "               precision    recall  f1-score   support\n",
      "\n",
      "           0       0.24      0.29      0.26       734\n",
      "           1       0.79      0.77      0.78      3838\n",
      "           2       0.87      0.86      0.86      6777\n",
      "\n",
      "    accuracy                           0.79     11349\n",
      "   macro avg       0.63      0.64      0.64     11349\n",
      "weighted avg       0.80      0.79      0.80     11349\n",
      "\n"
     ]
    },
    {
     "data": {
      "text/plain": [
       "DecisionTreeClassifier()"
      ]
     },
     "execution_count": 58,
     "metadata": {},
     "output_type": "execute_result"
    },
    {
     "data": {
      "image/png": "[encoded data removed]",
      "text/plain": [
       "<Figure size 432x288 with 2 Axes>"
      ]
     },
     "metadata": {
      "needs_background": "light"
     },
     "output_type": "display_data"
    },
    {
     "data": {
      "image/png": "[encoded data removed]",
      "text/plain": [
       "<Figure size 432x288 with 2 Axes>"
      ]
     },
     "metadata": {
      "needs_background": "light"
     },
     "output_type": "display_data"
    }
   ],
   "source": [
    "classifier_dt = DecisionTreeClassifier()\n",
    "run_model(classifier_dt, X_train, X_test, y_train, y_test) "
   ]
  },
  {
   "cell_type": "code",
   "execution_count": 59,
   "metadata": {
    "colab": {
     "base_uri": "https://localhost:8080/"
    },
    "id": "bW8dSl_Gb0gw",
    "outputId": "24e00267-ce99-44d1-d1c0-499d1ff1b00b"
   },
   "outputs": [
    {
     "name": "stdout",
     "output_type": "stream",
     "text": [
      "Confusion Matrix for Train Set:\n",
      " [[ 2932     5     1]\n",
      " [    6 15344     2]\n",
      " [    0     3 27103]]\n",
      "Confusion Matrix for Test Set:\n",
      " [[  86  221  427]\n",
      " [   7 3537  294]\n",
      " [   2  234 6541]]\n",
      "Classification Report for Train Set:\n",
      "               precision    recall  f1-score   support\n",
      "\n",
      "           0       1.00      1.00      1.00      2938\n",
      "           1       1.00      1.00      1.00     15352\n",
      "           2       1.00      1.00      1.00     27106\n",
      "\n",
      "    accuracy                           1.00     45396\n",
      "   macro avg       1.00      1.00      1.00     45396\n",
      "weighted avg       1.00      1.00      1.00     45396\n",
      "\n",
      "Classification Report for Test Set:\n",
      "               precision    recall  f1-score   support\n",
      "\n",
      "           0       0.91      0.12      0.21       734\n",
      "           1       0.89      0.92      0.90      3838\n",
      "           2       0.90      0.97      0.93      6777\n",
      "\n",
      "    accuracy                           0.90     11349\n",
      "   macro avg       0.90      0.67      0.68     11349\n",
      "weighted avg       0.90      0.90      0.88     11349\n",
      "\n"
     ]
    },
    {
     "data": {
      "text/plain": [
       "RandomForestClassifier()"
      ]
     },
     "execution_count": 59,
     "metadata": {},
     "output_type": "execute_result"
    },
    {
     "data": {
      "image/png": "[encoded data removed]",
      "text/plain": [
       "<Figure size 432x288 with 2 Axes>"
      ]
     },
     "metadata": {
      "needs_background": "light"
     },
     "output_type": "display_data"
    },
    {
     "data": {
      "image/png": "[encoded data removed]",
      "text/plain": [
       "<Figure size 432x288 with 2 Axes>"
      ]
     },
     "metadata": {
      "needs_background": "light"
     },
     "output_type": "display_data"
    }
   ],
   "source": [
    "classifier_rt=RandomForestClassifier()\n",
    "run_model(classifier_rt, X_train, X_test, y_train, y_test) "
   ]
  },
  {
   "cell_type": "code",
   "execution_count": 60,
   "metadata": {
    "colab": {
     "base_uri": "https://localhost:8080/"
    },
    "id": "JayET3WCb6IR",
    "outputId": "63bc1002-9e97-4d25-b639-5155e5615867"
   },
   "outputs": [
    {
     "name": "stdout",
     "output_type": "stream",
     "text": [
      "[00:25:39] WARNING: ..\\src\\learner.cc:1061: Starting in XGBoost 1.3.0, the default evaluation metric used with the objective 'multi:softprob' was changed from 'merror' to 'mlogloss'. Explicitly set eval_metric if you'd like to restore the old behavior.\n",
      "Confusion Matrix for Train Set:\n",
      " [[ 2912    20     6]\n",
      " [    7 15342     3]\n",
      " [    0    11 27095]]\n",
      "Confusion Matrix for Test Set:\n",
      " [[ 257  200  277]\n",
      " [  38 3565  235]\n",
      " [  50  187 6540]]\n",
      "Classification Report for Train Set:\n",
      "               precision    recall  f1-score   support\n",
      "\n",
      "           0       1.00      0.99      0.99      2938\n",
      "           1       1.00      1.00      1.00     15352\n",
      "           2       1.00      1.00      1.00     27106\n",
      "\n",
      "    accuracy                           1.00     45396\n",
      "   macro avg       1.00      1.00      1.00     45396\n",
      "weighted avg       1.00      1.00      1.00     45396\n",
      "\n",
      "Classification Report for Test Set:\n",
      "               precision    recall  f1-score   support\n",
      "\n",
      "           0       0.74      0.35      0.48       734\n",
      "           1       0.90      0.93      0.92      3838\n",
      "           2       0.93      0.97      0.95      6777\n",
      "\n",
      "    accuracy                           0.91     11349\n",
      "   macro avg       0.86      0.75      0.78     11349\n",
      "weighted avg       0.91      0.91      0.91     11349\n",
      "\n"
     ]
    },
    {
     "data": {
      "text/plain": [
       "XGBClassifier(base_score=0.5, booster='gbtree', colsample_bylevel=1,\n",
       "              colsample_bynode=1, colsample_bytree=1, gamma=0, gpu_id=-1,\n",
       "              importance_type='gain', interaction_constraints='',\n",
       "              learning_rate=0.300000012, max_delta_step=0, max_depth=6,\n",
       "              min_child_weight=1, missing=nan, monotone_constraints='()',\n",
       "              n_estimators=100, n_jobs=4, num_parallel_tree=1,\n",
       "              objective='multi:softprob', random_state=0, reg_alpha=0,\n",
       "              reg_lambda=1, scale_pos_weight=None, subsample=1,\n",
       "              tree_method='exact', validate_parameters=1, verbosity=None)"
      ]
     },
     "execution_count": 60,
     "metadata": {},
     "output_type": "execute_result"
    },
    {
     "data": {
      "image/png": "[encoded data removed]",
      "text/plain": [
       "<Figure size 432x288 with 2 Axes>"
      ]
     },
     "metadata": {
      "needs_background": "light"
     },
     "output_type": "display_data"
    },
    {
     "data": {
      "image/png": "[encoded data removed]",
      "text/plain": [
       "<Figure size 432x288 with 2 Axes>"
      ]
     },
     "metadata": {
      "needs_background": "light"
     },
     "output_type": "display_data"
    }
   ],
   "source": [
    "classifier_xg=xgb()\n",
    "run_model(classifier_xg, X_train, X_test, y_train, y_test) "
   ]
  },
  {
   "cell_type": "markdown",
   "metadata": {
    "id": "deo1Uk5ulXRO"
   },
   "source": [
    "**Base** **models with SMOTE** I ran the models with SMOTE after to see if it would improve the results."
   ]
  },
  {
   "cell_type": "code",
   "execution_count": 15,
   "metadata": {
    "colab": {
     "background_save": true
    },
    "id": "VHsRQ0CVfqZw",
    "outputId": "e79ef435-4fa0-4927-a787-b3eaef0b3c67"
   },
   "outputs": [
    {
     "name": "stdout",
     "output_type": "stream",
     "text": [
      "Confusion Matrix for Train Set:\n",
      " [[33873     9     1]\n",
      " [ 1651 32171    61]\n",
      " [ 7084  2938 23861]]\n",
      "Confusion Matrix for Test Set:\n",
      " [[ 733    1    0]\n",
      " [ 318 3511    9]\n",
      " [1408  594 4775]]\n",
      "Classification Report for Train Set:\n",
      "               precision    recall  f1-score   support\n",
      "\n",
      "           0       0.79      1.00      0.89     33883\n",
      "           1       0.92      0.95      0.93     33883\n",
      "           2       1.00      0.70      0.83     33883\n",
      "\n",
      "    accuracy                           0.88    101649\n",
      "   macro avg       0.90      0.88      0.88    101649\n",
      "weighted avg       0.90      0.88      0.88    101649\n",
      "\n",
      "Classification Report for Test Set:\n",
      "               precision    recall  f1-score   support\n",
      "\n",
      "           0       0.30      1.00      0.46       734\n",
      "           1       0.86      0.91      0.88      3838\n",
      "           2       1.00      0.70      0.83      6777\n",
      "\n",
      "    accuracy                           0.79     11349\n",
      "   macro avg       0.72      0.87      0.72     11349\n",
      "weighted avg       0.90      0.79      0.82     11349\n",
      "\n"
     ]
    },
    {
     "data": {
      "text/plain": [
       "KNeighborsClassifier()"
      ]
     },
     "execution_count": 15,
     "metadata": {},
     "output_type": "execute_result"
    },
    {
     "data": {
      "image/png": "[encoded data removed]",
      "text/plain": [
       "<Figure size 432x288 with 2 Axes>"
      ]
     },
     "metadata": {
      "needs_background": "light"
     },
     "output_type": "display_data"
    },
    {
     "data": {
      "image/png": "[encoded data removed]",
      "text/plain": [
       "<Figure size 432x288 with 2 Axes>"
      ]
     },
     "metadata": {
      "needs_background": "light"
     },
     "output_type": "display_data"
    }
   ],
   "source": [
    "classifier_knn=KNeighborsClassifier()\n",
    "run_model(classifier_knn, X_train_smote, X_test, y_train_smote, y_test) "
   ]
  },
  {
   "cell_type": "code",
   "execution_count": 16,
   "metadata": {
    "id": "zv0YhmF_llPr"
   },
   "outputs": [
    {
     "name": "stdout",
     "output_type": "stream",
     "text": [
      "Confusion Matrix for Train Set:\n",
      " [[16076 11452  6355]\n",
      " [ 1904 31009   970]\n",
      " [ 5760  5000 23123]]\n",
      "Confusion Matrix for Test Set:\n",
      " [[ 336  220  178]\n",
      " [ 251 3446  141]\n",
      " [1147 1028 4602]]\n",
      "Classification Report for Train Set:\n",
      "               precision    recall  f1-score   support\n",
      "\n",
      "           0       0.68      0.47      0.56     33883\n",
      "           1       0.65      0.92      0.76     33883\n",
      "           2       0.76      0.68      0.72     33883\n",
      "\n",
      "    accuracy                           0.69    101649\n",
      "   macro avg       0.70      0.69      0.68    101649\n",
      "weighted avg       0.70      0.69      0.68    101649\n",
      "\n",
      "Classification Report for Test Set:\n",
      "               precision    recall  f1-score   support\n",
      "\n",
      "           0       0.19      0.46      0.27       734\n",
      "           1       0.73      0.90      0.81      3838\n",
      "           2       0.94      0.68      0.79      6777\n",
      "\n",
      "    accuracy                           0.74     11349\n",
      "   macro avg       0.62      0.68      0.62     11349\n",
      "weighted avg       0.82      0.74      0.76     11349\n",
      "\n"
     ]
    },
    {
     "data": {
      "text/plain": [
       "GaussianNB()"
      ]
     },
     "execution_count": 16,
     "metadata": {},
     "output_type": "execute_result"
    },
    {
     "data": {
      "image/png": "[encoded data removed]",
      "text/plain": [
       "<Figure size 432x288 with 2 Axes>"
      ]
     },
     "metadata": {
      "needs_background": "light"
     },
     "output_type": "display_data"
    },
    {
     "data": {
      "image/png": "[encoded data removed]",
      "text/plain": [
       "<Figure size 432x288 with 2 Axes>"
      ]
     },
     "metadata": {
      "needs_background": "light"
     },
     "output_type": "display_data"
    }
   ],
   "source": [
    "smote_nb = GaussianNB()\n",
    "run_model(smote_nb, X_train_smote, X_test, y_train_smote, y_test)"
   ]
  },
  {
   "cell_type": "code",
   "execution_count": 20,
   "metadata": {
    "id": "jSYhR5jeoOmE"
   },
   "outputs": [
    {
     "name": "stdout",
     "output_type": "stream",
     "text": [
      "Confusion Matrix for Train Set:\n",
      " [[33879     4     0]\n",
      " [   16 33866     1]\n",
      " [    0     5 33878]]\n",
      "Confusion Matrix for Test Set:\n",
      " [[ 733    1    0]\n",
      " [   2 3836    0]\n",
      " [   0    1 6776]]\n",
      "Classification Report for Train Set:\n",
      "               precision    recall  f1-score   support\n",
      "\n",
      "           0       1.00      1.00      1.00     33883\n",
      "           1       1.00      1.00      1.00     33883\n",
      "           2       1.00      1.00      1.00     33883\n",
      "\n",
      "    accuracy                           1.00    101649\n",
      "   macro avg       1.00      1.00      1.00    101649\n",
      "weighted avg       1.00      1.00      1.00    101649\n",
      "\n",
      "Classification Report for Test Set:\n",
      "               precision    recall  f1-score   support\n",
      "\n",
      "           0       1.00      1.00      1.00       734\n",
      "           1       1.00      1.00      1.00      3838\n",
      "           2       1.00      1.00      1.00      6777\n",
      "\n",
      "    accuracy                           1.00     11349\n",
      "   macro avg       1.00      1.00      1.00     11349\n",
      "weighted avg       1.00      1.00      1.00     11349\n",
      "\n"
     ]
    },
    {
     "data": {
      "text/plain": [
       "DecisionTreeClassifier()"
      ]
     },
     "execution_count": 20,
     "metadata": {},
     "output_type": "execute_result"
    },
    {
     "data": {
      "image/png": "[encoded data removed]",
      "text/plain": [
       "<Figure size 432x288 with 2 Axes>"
      ]
     },
     "metadata": {
      "needs_background": "light"
     },
     "output_type": "display_data"
    },
    {
     "data": {
      "image/png": "[encoded data removed]",
      "text/plain": [
       "<Figure size 432x288 with 2 Axes>"
      ]
     },
     "metadata": {
      "needs_background": "light"
     },
     "output_type": "display_data"
    }
   ],
   "source": [
    "smote_dt = DecisionTreeClassifier()\n",
    "run_model(smote_dt, X_train_smote, X_test, y_train_smote, y_test)"
   ]
  },
  {
   "cell_type": "code",
   "execution_count": 23,
   "metadata": {
    "colab": {
     "base_uri": "https://localhost:8080/",
     "height": 1000
    },
    "id": "IQNinK42pZmJ",
    "outputId": "844a2bf2-f252-468c-b249-d76cf819fb2c"
   },
   "outputs": [
    {
     "name": "stdout",
     "output_type": "stream",
     "text": [
      "Confusion Matrix for Train Set:\n",
      " [[33879     4     0]\n",
      " [   16 33864     3]\n",
      " [    0     3 33880]]\n",
      "Confusion Matrix for Test Set:\n",
      " [[ 733    1    0]\n",
      " [   2 3836    0]\n",
      " [   0    1 6776]]\n",
      "Classification Report for Train Set:\n",
      "               precision    recall  f1-score   support\n",
      "\n",
      "           0       1.00      1.00      1.00     33883\n",
      "           1       1.00      1.00      1.00     33883\n",
      "           2       1.00      1.00      1.00     33883\n",
      "\n",
      "    accuracy                           1.00    101649\n",
      "   macro avg       1.00      1.00      1.00    101649\n",
      "weighted avg       1.00      1.00      1.00    101649\n",
      "\n",
      "Classification Report for Test Set:\n",
      "               precision    recall  f1-score   support\n",
      "\n",
      "           0       1.00      1.00      1.00       734\n",
      "           1       1.00      1.00      1.00      3838\n",
      "           2       1.00      1.00      1.00      6777\n",
      "\n",
      "    accuracy                           1.00     11349\n",
      "   macro avg       1.00      1.00      1.00     11349\n",
      "weighted avg       1.00      1.00      1.00     11349\n",
      "\n"
     ]
    },
    {
     "data": {
      "text/plain": [
       "RandomForestClassifier()"
      ]
     },
     "execution_count": 23,
     "metadata": {},
     "output_type": "execute_result"
    },
    {
     "data": {
      "image/png": "[encoded data removed]",
      "text/plain": [
       "<Figure size 432x288 with 2 Axes>"
      ]
     },
     "metadata": {
      "needs_background": "light"
     },
     "output_type": "display_data"
    },
    {
     "data": {
      "image/png": "[encoded data removed]",
      "text/plain": [
       "<Figure size 432x288 with 2 Axes>"
      ]
     },
     "metadata": {
      "needs_background": "light"
     },
     "output_type": "display_data"
    }
   ],
   "source": [
    "smote_rf = RandomForestClassifier()\n",
    "run_model(smote_rf, X_train_smote, X_test, y_train_smote, y_test)"
   ]
  },
  {
   "cell_type": "markdown",
   "metadata": {},
   "source": [
    "**Validation Set** I used key words from each of the three classes to scrape twitter and create a validation set. (see the [scraping twitter]notebook for more information.) I then used my best preforming model (the Random Forest model with SMOTE) on the validation set. The model had an accuracy of 80% on the validation set."
   ]
  },
  {
   "cell_type": "code",
   "execution_count": 3,
   "metadata": {},
   "outputs": [
    {
     "ename": "NameError",
     "evalue": "name 'smote_rf' is not defined",
     "output_type": "error",
     "traceback": [
      "\u001b[1;31m---------------------------------------------------------------------------\u001b[0m",
      "\u001b[1;31mNameError\u001b[0m                                 Traceback (most recent call last)",
      "\u001b[1;32m<ipython-input-3-f137376fcb2d>\u001b[0m in \u001b[0;36m<module>\u001b[1;34m\u001b[0m\n\u001b[0;32m      2\u001b[0m \u001b[1;31m# Save\u001b[0m\u001b[1;33m\u001b[0m\u001b[1;33m\u001b[0m\u001b[1;33m\u001b[0m\u001b[0m\n\u001b[0;32m      3\u001b[0m \u001b[1;32mwith\u001b[0m \u001b[0mopen\u001b[0m\u001b[1;33m(\u001b[0m\u001b[1;34m'smote_rf.pickle'\u001b[0m\u001b[1;33m,\u001b[0m \u001b[1;34m'wb'\u001b[0m\u001b[1;33m)\u001b[0m \u001b[1;32mas\u001b[0m \u001b[0mf\u001b[0m\u001b[1;33m:\u001b[0m\u001b[1;33m\u001b[0m\u001b[1;33m\u001b[0m\u001b[0m\n\u001b[1;32m----> 4\u001b[1;33m     \u001b[0mpickle\u001b[0m\u001b[1;33m.\u001b[0m\u001b[0mdump\u001b[0m\u001b[1;33m(\u001b[0m\u001b[0msmote_rf\u001b[0m\u001b[1;33m,\u001b[0m \u001b[0mf\u001b[0m\u001b[1;33m)\u001b[0m\u001b[1;33m\u001b[0m\u001b[1;33m\u001b[0m\u001b[0m\n\u001b[0m",
      "\u001b[1;31mNameError\u001b[0m: name 'smote_rf' is not defined"
     ]
    }
   ],
   "source": [
    "import pickle\n",
    "# Save\n",
    "with open('smote_rf.pickle', 'wb') as f:\n",
    "    pickle.dump(smote_rf, f)"
   ]
  },
  {
   "cell_type": "code",
   "execution_count": 5,
   "metadata": {},
   "outputs": [],
   "source": [
    "# Load\n",
    "with open('C:\\\\Users\\\\weinb\\\\Hate-speech\\\\Pickled Models\\\\smote_rf.pickle', 'rb') as file:\n",
    "    model = pickle.load(file)\n",
    "    \n",
    "  "
   ]
  },
  {
   "cell_type": "code",
   "execution_count": 21,
   "metadata": {},
   "outputs": [
    {
     "data": {
      "text/plain": [
       "[(0.008524010392592181, 0),\n",
       " (0.004153377119813254, 1),\n",
       " (0.0018859905891085598, 2),\n",
       " (0.0030835807397816693, 3),\n",
       " (0.0016831410161425107, 4),\n",
       " (0.00143323264879711, 5),\n",
       " (0.0016198199088347017, 6),\n",
       " (0.001934078953393293, 7),\n",
       " (0.0030246062520451872, 8),\n",
       " (0.002115005258412865, 9),\n",
       " (0.00208739046006625, 10),\n",
       " (0.0022641494966252323, 11),\n",
       " (0.001408317921937833, 12),\n",
       " (0.012321577227285139, 13),\n",
       " (0.0014430502849232384, 14),\n",
       " (0.0014143570180175534, 15),\n",
       " (0.0024824695534917873, 16),\n",
       " (0.0028782951381803516, 17),\n",
       " (0.007384087312924552, 18),\n",
       " (0.001965069545293983, 19),\n",
       " (0.0020593620960695715, 20),\n",
       " (0.0025531800590347037, 21),\n",
       " (0.0035139753856383207, 22),\n",
       " (0.0016299451957968337, 23),\n",
       " (0.0016816982113741904, 24),\n",
       " (0.0026901243728545197, 25),\n",
       " (0.0020214966466151336, 26),\n",
       " (0.002017693683561181, 27),\n",
       " (0.0022837081905327256, 28),\n",
       " (0.005223003021047867, 29),\n",
       " (0.0017851086310123482, 30),\n",
       " (0.005231153708699221, 31),\n",
       " (0.0015016878362254932, 32),\n",
       " (0.001717908595179073, 33),\n",
       " (0.009047835930546477, 34),\n",
       " (0.0019666818263299967, 35),\n",
       " (0.0021714488019333547, 36),\n",
       " (0.0014849926996333856, 37),\n",
       " (0.0025433523639105467, 38),\n",
       " (0.0016731184288842687, 39),\n",
       " (0.004625250908588181, 40),\n",
       " (0.0015002070252994604, 41),\n",
       " (0.0017406619658761322, 42),\n",
       " (0.0020140040007751206, 43),\n",
       " (0.0019361305990102, 44),\n",
       " (0.007460122887833387, 45),\n",
       " (0.004165715087992468, 46),\n",
       " (0.001519542936756143, 47),\n",
       " (0.002274868862273696, 48),\n",
       " (0.002578644536368986, 49),\n",
       " (0.004378732955249629, 50),\n",
       " (0.0036361286192208753, 51),\n",
       " (0.004616652457132957, 52),\n",
       " (0.0015205484471970357, 53),\n",
       " (0.001972087810097247, 54),\n",
       " (0.004289318536071771, 55),\n",
       " (0.0025190371399374046, 56),\n",
       " (0.0016482243784310706, 57),\n",
       " (0.0017054582605258272, 58),\n",
       " (0.010499410702657815, 59),\n",
       " (0.0016722288077327715, 60),\n",
       " (0.0025491377207443973, 61),\n",
       " (0.0017915769388727385, 62),\n",
       " (0.001603388697274466, 63),\n",
       " (0.0021279418233504234, 64),\n",
       " (0.0015359213873853241, 65),\n",
       " (0.0019814666595910635, 66),\n",
       " (0.0021512812102251126, 67),\n",
       " (0.0025611373988357277, 68),\n",
       " (0.0028377926075997878, 69),\n",
       " (0.0016997309358952031, 70),\n",
       " (0.002286994947702591, 71),\n",
       " (0.0021058208366192418, 72),\n",
       " (0.0041979477661809724, 73),\n",
       " (0.002280906132355199, 74),\n",
       " (0.003957461967237716, 75),\n",
       " (0.0017199473054708226, 76),\n",
       " (0.0034423522737601713, 77),\n",
       " (0.017980040436803398, 78),\n",
       " (0.0025106386565699095, 79),\n",
       " (0.004655039426413119, 80),\n",
       " (0.008098850249026996, 81),\n",
       " (0.014972923070812166, 82),\n",
       " (0.0021227356186961223, 83),\n",
       " (0.006702087305251837, 84),\n",
       " (0.0018050433161734916, 85),\n",
       " (0.00679747919437137, 86),\n",
       " (0.004694430022359431, 87),\n",
       " (0.0017650017989514852, 88),\n",
       " (0.0019267808153603009, 89),\n",
       " (0.002904917660771324, 90),\n",
       " (0.0015619048763660503, 91),\n",
       " (0.0041943952894463385, 92),\n",
       " (0.0016651496912260615, 93),\n",
       " (0.001748660495179421, 94),\n",
       " (0.0016993482845601288, 95),\n",
       " (0.0030597945751498325, 96),\n",
       " (0.0016160635266212317, 97),\n",
       " (0.005797637716689282, 98),\n",
       " (0.002514998004246336, 99),\n",
       " (0.0022019794857460633, 100),\n",
       " (0.0026640138181215915, 101),\n",
       " (0.0026288194391393305, 102),\n",
       " (0.0020058593628668685, 103),\n",
       " (0.0020475344037634386, 104),\n",
       " (0.003192331625254491, 105),\n",
       " (0.006188333369005365, 106),\n",
       " (0.0015202163231585006, 107),\n",
       " (0.0022791465990181685, 108),\n",
       " (0.0015350612904590493, 109),\n",
       " (0.004614701980789517, 110),\n",
       " (0.0016255803921530524, 111),\n",
       " (0.0035638790467230315, 112),\n",
       " (0.0029060673371514452, 113),\n",
       " (0.0013711600866518584, 114),\n",
       " (0.0025975258454521023, 115),\n",
       " (0.0019683158454412513, 116),\n",
       " (0.003582560813803697, 117),\n",
       " (0.0022108406145456842, 118),\n",
       " (0.0017687134816106952, 119),\n",
       " (0.0028454009945720203, 120),\n",
       " (0.0017055081620931441, 121),\n",
       " (0.0017982107284438028, 122),\n",
       " (0.001917319495638164, 123),\n",
       " (0.002191309123657474, 124),\n",
       " (0.003667312081346406, 125),\n",
       " (0.0039558886916877785, 126),\n",
       " (0.004005920766688371, 127),\n",
       " (0.0015564319372588817, 128),\n",
       " (0.002206433212490228, 129),\n",
       " (0.0032005865761111645, 130),\n",
       " (0.001799437108069398, 131),\n",
       " (0.002265939459947228, 132),\n",
       " (0.006670762531298533, 133),\n",
       " (0.00433743178411376, 134),\n",
       " (0.0014521105745242272, 135),\n",
       " (0.0014477495415642255, 136),\n",
       " (0.001551931412103465, 137),\n",
       " (0.00205577873296864, 138),\n",
       " (0.001811693639924212, 139),\n",
       " (0.010623197322804251, 140),\n",
       " (0.0025379524324629847, 141),\n",
       " (0.0018845939470292076, 142),\n",
       " (0.0020888159092485674, 143),\n",
       " (0.0018683585020987806, 144),\n",
       " (0.003413777525199706, 145),\n",
       " (0.0023319382453287412, 146),\n",
       " (0.004580096957190498, 147),\n",
       " (0.0021888880575019975, 148),\n",
       " (0.0016869978044853518, 149),\n",
       " (0.0019729734589265706, 150),\n",
       " (0.0019722723828483626, 151),\n",
       " (0.0020317420841642446, 152),\n",
       " (0.0019978800524907848, 153),\n",
       " (0.0015961318599960947, 154),\n",
       " (0.01666436905866362, 155),\n",
       " (0.0038257418925892964, 156),\n",
       " (0.0025019222470428013, 157),\n",
       " (0.0026326012652217214, 158),\n",
       " (0.004464042005690644, 159),\n",
       " (0.0016078443731191608, 160),\n",
       " (0.0016465989560668708, 161),\n",
       " (0.001990007137151672, 162),\n",
       " (0.0203677783480487, 163),\n",
       " (0.005728025386199587, 164),\n",
       " (0.006036244463873237, 165),\n",
       " (0.0018926823692262714, 166),\n",
       " (0.004533787737756541, 167),\n",
       " (0.0029564774326852022, 168),\n",
       " (0.003046790742340142, 169),\n",
       " (0.0018618069138270803, 170),\n",
       " (0.0031116302771710138, 171),\n",
       " (0.0015983623015217332, 172),\n",
       " (0.013275246100270146, 173),\n",
       " (0.0032413755120119844, 174),\n",
       " (0.0026080967882878754, 175),\n",
       " (0.005394109868105137, 176),\n",
       " (0.026711647786389528, 177),\n",
       " (0.0016667317588171624, 178),\n",
       " (0.0016635779731873231, 179),\n",
       " (0.0018850924317696618, 180),\n",
       " (0.005670579100558566, 181),\n",
       " (0.0020860926843136863, 182),\n",
       " (0.008257534024160589, 183),\n",
       " (0.003929042669271765, 184),\n",
       " (0.017971374908089695, 185),\n",
       " (0.007311359824808322, 186),\n",
       " (0.0019246303594493033, 187),\n",
       " (0.007427088010339429, 188),\n",
       " (0.0017960758426264845, 189),\n",
       " (0.0016004133567244533, 190),\n",
       " (0.0015258675097172244, 191),\n",
       " (0.002067699572760107, 192),\n",
       " (0.0017194172546148691, 193),\n",
       " (0.0028838933966631335, 194),\n",
       " (0.0019357036282681098, 195),\n",
       " (0.006659674514451268, 196),\n",
       " (0.001474779020968041, 197),\n",
       " (0.0016395884522768045, 198),\n",
       " (0.001978958329347144, 199),\n",
       " (0.0027734461471467576, 200),\n",
       " (0.001713405711189102, 201),\n",
       " (0.001996772684197441, 202),\n",
       " (0.0034494879156408064, 203),\n",
       " (0.00248293491600277, 204),\n",
       " (0.010537512213645175, 205),\n",
       " (0.0019092987639057085, 206),\n",
       " (0.0031157982618738823, 207),\n",
       " (0.0019360230339813694, 208),\n",
       " (0.0023857509976706556, 209),\n",
       " (0.016798397317361994, 210),\n",
       " (0.002154231729898693, 211),\n",
       " (0.0028130134241714177, 212),\n",
       " (0.0051738411688838195, 213),\n",
       " (0.0034941956489599186, 214),\n",
       " (0.0016597330239703414, 215),\n",
       " (0.01074192274385028, 216),\n",
       " (0.006819236409119193, 217),\n",
       " (0.0019231275783107146, 218),\n",
       " (0.005363609299518654, 219),\n",
       " (0.0031230800697259315, 220),\n",
       " (0.002014547643560258, 221),\n",
       " (0.0017897406671537617, 222),\n",
       " (0.0178804372714939, 223),\n",
       " (0.0015372276270279393, 224),\n",
       " (0.0017425045955969855, 225),\n",
       " (0.0018033742494640611, 226),\n",
       " (0.002613700085733861, 227),\n",
       " (0.005051434652197131, 228),\n",
       " (0.0018672483132521087, 229),\n",
       " (0.0018021697708209927, 230),\n",
       " (0.0016156914946226734, 231),\n",
       " (0.0019582973045748626, 232),\n",
       " (0.0022378750988055695, 233),\n",
       " (0.0017353941288809627, 234),\n",
       " (0.001913363462975746, 235),\n",
       " (0.003106677266519224, 236),\n",
       " (0.0014722936494945469, 237),\n",
       " (0.0015478305339246454, 238),\n",
       " (0.0015174984205774825, 239),\n",
       " (0.0016842642019156656, 240),\n",
       " (0.0017031098357092953, 241),\n",
       " (0.002268469606226849, 242),\n",
       " (0.007601405738178472, 243),\n",
       " (0.0017075096598359247, 244),\n",
       " (0.002148133922285472, 245),\n",
       " (0.004010770904290139, 246),\n",
       " (0.0016874331708978925, 247),\n",
       " (0.001984596340441904, 248),\n",
       " (0.005200681990306485, 249),\n",
       " (0.0028415554691792627, 250),\n",
       " (0.0029224103898711283, 251),\n",
       " (0.0023890842148218423, 252),\n",
       " (0.0025669816407143838, 253),\n",
       " (0.004509421634898664, 254),\n",
       " (0.001685708042784755, 255),\n",
       " (0.0019476109622376628, 256),\n",
       " (0.0025735555719534533, 257),\n",
       " (0.0018098959984122892, 258),\n",
       " (0.0018870795576076632, 259),\n",
       " (0.0041001657257527845, 260),\n",
       " (0.0015015862313390248, 261),\n",
       " (0.0016269880933500486, 262),\n",
       " (0.0017745793537272952, 263),\n",
       " (0.001596351458793263, 264),\n",
       " (0.00191757625135628, 265),\n",
       " (0.0015597992816793855, 266),\n",
       " (0.00165872345436477, 267),\n",
       " (0.0037431889106318973, 268),\n",
       " (0.0025284613574563393, 269),\n",
       " (0.002155930259197219, 270),\n",
       " (0.004420703529162505, 271),\n",
       " (0.0018714803889807255, 272),\n",
       " (0.001440288424138506, 273),\n",
       " (0.0023746819717611837, 274),\n",
       " (0.001842621320977734, 275),\n",
       " (0.0014909049546201261, 276),\n",
       " (0.001503844267529027, 277),\n",
       " (0.003104945512144386, 278),\n",
       " (0.0033463331641963713, 279),\n",
       " (0.001617820975319398, 280),\n",
       " (0.002445483292164933, 281),\n",
       " (0.00236614006215055, 282),\n",
       " (0.0015751350879042417, 283),\n",
       " (0.0029545194560474507, 284),\n",
       " (0.0015462404326606802, 285),\n",
       " (0.0016393674663149386, 286),\n",
       " (0.0016514484089991733, 287),\n",
       " (0.0020880693844619203, 288),\n",
       " (0.0015800567582354682, 289),\n",
       " (0.00269682723864813, 290),\n",
       " (0.004700597038089669, 291),\n",
       " (0.003126055761155348, 292),\n",
       " (0.0040590420085470915, 293),\n",
       " (0.0017714661604154012, 294),\n",
       " (0.004188334577705283, 295),\n",
       " (0.0031224944104439167, 296),\n",
       " (0.003503288747838322, 297),\n",
       " (0.0021295907644399846, 298),\n",
       " (0.002712499977731892, 299)]"
      ]
     },
     "execution_count": 21,
     "metadata": {},
     "output_type": "execute_result"
    }
   ],
   "source": [
    "feature_importance=model.feature_importances_\n",
    "list(zip(feature_importance, X_train_smote.columns))"
   ]
  },
  {
   "cell_type": "code",
   "execution_count": 27,
   "metadata": {},
   "outputs": [],
   "source": [
    "twitter_new=pd.read_csv('C:\\\\Users\\\\weinb\\\\Hate-speech\\\\Data\\\\twitter_3.csv')\n",
    "twitter_new=twitter_new[['tweet','label']]\n"
   ]
  },
  {
   "cell_type": "code",
   "execution_count": 28,
   "metadata": {},
   "outputs": [
    {
     "name": "stderr",
     "output_type": "stream",
     "text": [
      "100%|██████████| 220/220 [00:10<00:00, 21.92it/s]\n"
     ]
    }
   ],
   "source": [
    "twitter_new['spacy'] = twitter_new.tweet.progress_apply(lambda x: nlp(x))"
   ]
  },
  {
   "cell_type": "code",
   "execution_count": 29,
   "metadata": {},
   "outputs": [],
   "source": [
    "validation_df= pd.DataFrame(np.vstack([x.vector for x in twitter_new.spacy]))"
   ]
  },
  {
   "cell_type": "code",
   "execution_count": 30,
   "metadata": {},
   "outputs": [],
   "source": [
    "validation_x=validation_df\n",
    "validation_y=twitter_new['label']"
   ]
  },
  {
   "cell_type": "code",
   "execution_count": 31,
   "metadata": {},
   "outputs": [],
   "source": [
    "predict_x=model.predict(validation_x)"
   ]
  },
  {
   "cell_type": "code",
   "execution_count": 33,
   "metadata": {},
   "outputs": [
    {
     "name": "stdout",
     "output_type": "stream",
     "text": [
      "Confusion Matrix for validation Set:\n",
      " [[ 5 16 15]\n",
      " [ 0 75  9]\n",
      " [ 1  3 96]]\n",
      "Classification Report for validation Set:\n",
      "               precision    recall  f1-score   support\n",
      "\n",
      "           0       0.83      0.14      0.24        36\n",
      "           1       0.80      0.89      0.84        84\n",
      "           2       0.80      0.96      0.87       100\n",
      "\n",
      "    accuracy                           0.80       220\n",
      "   macro avg       0.81      0.66      0.65       220\n",
      "weighted avg       0.80      0.80      0.76       220\n",
      "\n"
     ]
    },
    {
     "data": {
      "text/plain": [
       "<sklearn.metrics._plot.confusion_matrix.ConfusionMatrixDisplay at 0x24621ec6280>"
      ]
     },
     "execution_count": 33,
     "metadata": {},
     "output_type": "execute_result"
    },
    {
     "data": {
      "image/png": "[encoded data removed]",
      "text/plain": [
       "<Figure size 432x288 with 2 Axes>"
      ]
     },
     "metadata": {
      "needs_background": "light"
     },
     "output_type": "display_data"
    }
   ],
   "source": [
    "cnf_matrix_validation = confusion_matrix(validation_y,  predict_x)\n",
    "\n",
    "print('Confusion Matrix for validation Set:\\n', cnf_matrix_validation) \n",
    "\n",
    "print('Classification Report for validation Set:\\n',classification_report(validation_y,  predict_x))\n",
    "plot_confusion_matrix(model, validation_x, predict_x,\n",
    "                     cmap=plt.cm.Blues)"
   ]
  },
  {
   "cell_type": "markdown",
   "metadata": {},
   "source": [
    "**Conclusion** The Random Forest Model that was preprocessed using spaCy preformed very well on the validation set. "
   ]
  }
 ],
 "metadata": {
  "colab": {
   "authorship_tag": "ABX9TyNN5fDLAnsmCzN3qOK0m7iD",
   "collapsed_sections": [],
   "include_colab_link": true,
   "name": "Spacy_twitter .ipynb",
   "provenance": []
  },
  "kernelspec": {
   "display_name": "Python 3",
   "language": "python",
   "name": "python3"
  },
  "language_info": {
   "codemirror_mode": {
    "name": "ipython",
    "version": 3
   },
   "file_extension": ".py",
   "mimetype": "text/x-python",
   "name": "python",
   "nbconvert_exporter": "python",
   "pygments_lexer": "ipython3",
   "version": "3.8.5"
  }
 },
 "nbformat": 4,
 "nbformat_minor": 1
}
