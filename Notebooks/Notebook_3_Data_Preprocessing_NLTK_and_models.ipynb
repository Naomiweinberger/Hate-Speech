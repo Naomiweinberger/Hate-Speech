{
 "cells": [
  {
   "cell_type": "markdown",
   "metadata": {
    "colab_type": "text",
    "id": "view-in-github"
   },
   "source": [
    "<a href=\"https://colab.research.google.com/github/Naomiweinberger/Hate-Speech/blob/main/Synthesizes_dataipynb.ipynb\" target=\"_parent\"><img src=\"https://colab.research.google.com/assets/colab-badge.svg\" alt=\"Open In Colab\"/></a>"
   ]
  },
  {
   "cell_type": "markdown",
   "metadata": {},
   "source": [
    "**Notebook #3-Data Preprocessing using NLTK and Modeling**"
   ]
  },
  {
   "cell_type": "markdown",
   "metadata": {},
   "source": [
    "**WARNING-DUE TO THE NATURE OF THIS PROJECT,THIS NOTEBOOK CONTAINS WORDS THAT ARE HATEFUL. THIS IS NO WAY REFLECTS THE VIEWS OF THE AUTHOR**"
   ]
  },
  {
   "cell_type": "markdown",
   "metadata": {
    "id": "kkhn3PfS-nVP"
   },
   "source": [
    "**Import libraries**\n",
    "I imported the libraries necessary for the modeling process including re,NLTK, and models from sklearn and imblearn."
   ]
  },
  {
   "cell_type": "code",
   "execution_count": 72,
   "metadata": {
    "colab": {
     "base_uri": "https://localhost:8080/"
    },
    "id": "66zd6G8AoKp9",
    "outputId": "815caac2-b28e-4ce7-d5dd-06797f5ce624"
   },
   "outputs": [
    {
     "name": "stderr",
     "output_type": "stream",
     "text": [
      "[nltk_data] Downloading package stopwords to\n",
      "[nltk_data]     C:\\Users\\weinb\\AppData\\Roaming\\nltk_data...\n",
      "[nltk_data]   Package stopwords is already up-to-date!\n",
      "[nltk_data] Downloading package wordnet to\n",
      "[nltk_data]     C:\\Users\\weinb\\AppData\\Roaming\\nltk_data...\n",
      "[nltk_data]   Package wordnet is already up-to-date!\n",
      "[nltk_data] Downloading package punkt to\n",
      "[nltk_data]     C:\\Users\\weinb\\AppData\\Roaming\\nltk_data...\n",
      "[nltk_data]   Package punkt is already up-to-date!\n"
     ]
    }
   ],
   "source": [
    "import numpy as np\n",
    "np.random.seed(0)\n",
    "import matplotlib.pyplot as plt\n",
    "import pandas as pd\n",
    "import seaborn as sns\n",
    "import re\n",
    "import nltk\n",
    "from nltk.corpus import stopwords\n",
    "nltk.download('stopwords')\n",
    "stopword=set(stopwords.words('english'))\n",
    "from nltk.stem.porter import PorterStemmer\n",
    "from nltk import word_tokenize, FreqDist\n",
    "stemmer = nltk.SnowballStemmer(\"english\")\n",
    "from nltk.tokenize import TweetTokenizer\n",
    "from nltk.stem import WordNetLemmatizer\n",
    "nltk.download('wordnet')\n",
    "from nltk import ngrams, FreqDist\n",
    "nltk.download('punkt')\n",
    "import string\n",
    "from wordcloud import WordCloud, STOPWORDS\n",
    "from sklearn.feature_extraction.text import CountVectorizer\n",
    "from sklearn.feature_extraction.text import TfidfVectorizer\n",
    "from sklearn.model_selection import train_test_split, GridSearchCV\n",
    "from sklearn.ensemble import RandomForestClassifier\n",
    "from sklearn.naive_bayes import GaussianNB\n",
    "from sklearn.tree import DecisionTreeClassifier\n",
    "from sklearn.neighbors import KNeighborsClassifier\n",
    "from sklearn.linear_model import LogisticRegression\n",
    "from sklearn.metrics import classification_report, plot_confusion_matrix, confusion_matrix,precision_score, recall_score, accuracy_score, f1_score,roc_curve, auc\n",
    "from xgboost import XGBClassifier as xbg \n",
    "from imblearn.pipeline import Pipeline as IMBPipeline\n",
    "from imblearn.over_sampling import SMOTE\n",
    "import warnings\n",
    "warnings.filterwarnings(\"ignore\")\n",
    "import preprocessor as p\n",
    "from collections import Counter\n",
    "import pickle "
   ]
  },
  {
   "cell_type": "markdown",
   "metadata": {
    "id": "3b96xV3Z_3B5"
   },
   "source": [
    "**Model Function** \n",
    "I created a function to streamline the modeling process. "
   ]
  },
  {
   "cell_type": "code",
   "execution_count": 73,
   "metadata": {
    "id": "hbYj8MOI_1YP"
   },
   "outputs": [],
   "source": [
    "def run_model(model, X_train, X_test, y_train, y_test):\n",
    "    model.fit(X_train, y_train)\n",
    "\n",
    "    y_pred_train = model.predict(X_train)\n",
    "    y_pred_test = model.predict(X_test)    \n",
    "    cnf_matrix_test = confusion_matrix(y_test,  y_pred_test)\n",
    "    cnf_matrix_train = confusion_matrix(y_train,  y_pred_train)\n",
    "    print('Confusion Matrix for Train Set:\\n', cnf_matrix_train) \n",
    "    print('Confusion Matrix for Test Set:\\n', cnf_matrix_test)\n",
    " \n",
    "    cnf_matrix_train = confusion_matrix(y_train,  y_pred_train)\n",
    "  \n",
    "    print('Classification Report for Train Set:\\n',classification_report(y_train, y_pred_train))\n",
    "    print('Classification Report for Test Set:\\n',classification_report(y_test , y_pred_test))\n",
    " \n",
    "    \n",
    "    plot_confusion_matrix(model, X_test, y_test,\n",
    "                     cmap=plt.cm.Blues)\n",
    "    plot_confusion_matrix(model, X_train, y_train,\n",
    "                     cmap=plt.cm.Blues)\n",
    "    \n",
    "   \n",
    "    return model"
   ]
  },
  {
   "cell_type": "markdown",
   "metadata": {
    "id": "OinTmjGEEnJE"
   },
   "source": [
    "**EDA Data** To see more of the EDA, look at the  [ EDA notebook]('http://localhost:8889/notebooks/Notebooks/Notebook_1_EDA.ipynb')"
   ]
  },
  {
   "cell_type": "code",
   "execution_count": 74,
   "metadata": {
    "colab": {
     "base_uri": "https://localhost:8080/",
     "height": 204
    },
    "id": "9--GCLnIq0Gk",
    "outputId": "7d2bcf60-8d90-4a48-f010-abee71423f64"
   },
   "outputs": [
    {
     "data": {
      "text/html": [
       "<div>\n",
       "<style scoped>\n",
       "    .dataframe tbody tr th:only-of-type {\n",
       "        vertical-align: middle;\n",
       "    }\n",
       "\n",
       "    .dataframe tbody tr th {\n",
       "        vertical-align: top;\n",
       "    }\n",
       "\n",
       "    .dataframe thead th {\n",
       "        text-align: right;\n",
       "    }\n",
       "</style>\n",
       "<table border=\"1\" class=\"dataframe\">\n",
       "  <thead>\n",
       "    <tr style=\"text-align: right;\">\n",
       "      <th></th>\n",
       "      <th>Unnamed: 0</th>\n",
       "      <th>count</th>\n",
       "      <th>hate_speech</th>\n",
       "      <th>offensive_language</th>\n",
       "      <th>neither</th>\n",
       "      <th>class</th>\n",
       "      <th>tweet</th>\n",
       "    </tr>\n",
       "  </thead>\n",
       "  <tbody>\n",
       "    <tr>\n",
       "      <th>0</th>\n",
       "      <td>0</td>\n",
       "      <td>3</td>\n",
       "      <td>0</td>\n",
       "      <td>0</td>\n",
       "      <td>3</td>\n",
       "      <td>2</td>\n",
       "      <td>!!! RT @mayasolovely: As a woman you shouldn't...</td>\n",
       "    </tr>\n",
       "    <tr>\n",
       "      <th>1</th>\n",
       "      <td>1</td>\n",
       "      <td>3</td>\n",
       "      <td>0</td>\n",
       "      <td>3</td>\n",
       "      <td>0</td>\n",
       "      <td>1</td>\n",
       "      <td>!!!!! RT @mleew17: boy dats cold...tyga dwn ba...</td>\n",
       "    </tr>\n",
       "    <tr>\n",
       "      <th>2</th>\n",
       "      <td>2</td>\n",
       "      <td>3</td>\n",
       "      <td>0</td>\n",
       "      <td>3</td>\n",
       "      <td>0</td>\n",
       "      <td>1</td>\n",
       "      <td>!!!!!!! RT @UrKindOfBrand Dawg!!!! RT @80sbaby...</td>\n",
       "    </tr>\n",
       "    <tr>\n",
       "      <th>3</th>\n",
       "      <td>3</td>\n",
       "      <td>3</td>\n",
       "      <td>0</td>\n",
       "      <td>2</td>\n",
       "      <td>1</td>\n",
       "      <td>1</td>\n",
       "      <td>!!!!!!!!! RT @C_G_Anderson: @viva_based she lo...</td>\n",
       "    </tr>\n",
       "    <tr>\n",
       "      <th>4</th>\n",
       "      <td>4</td>\n",
       "      <td>6</td>\n",
       "      <td>0</td>\n",
       "      <td>6</td>\n",
       "      <td>0</td>\n",
       "      <td>1</td>\n",
       "      <td>!!!!!!!!!!!!! RT @ShenikaRoberts: The shit you...</td>\n",
       "    </tr>\n",
       "  </tbody>\n",
       "</table>\n",
       "</div>"
      ],
      "text/plain": [
       "   Unnamed: 0  count  hate_speech  offensive_language  neither  class  \\\n",
       "0           0      3            0                   0        3      2   \n",
       "1           1      3            0                   3        0      1   \n",
       "2           2      3            0                   3        0      1   \n",
       "3           3      3            0                   2        1      1   \n",
       "4           4      6            0                   6        0      1   \n",
       "\n",
       "                                               tweet  \n",
       "0  !!! RT @mayasolovely: As a woman you shouldn't...  \n",
       "1  !!!!! RT @mleew17: boy dats cold...tyga dwn ba...  \n",
       "2  !!!!!!! RT @UrKindOfBrand Dawg!!!! RT @80sbaby...  \n",
       "3  !!!!!!!!! RT @C_G_Anderson: @viva_based she lo...  \n",
       "4  !!!!!!!!!!!!! RT @ShenikaRoberts: The shit you...  "
      ]
     },
     "execution_count": 74,
     "metadata": {},
     "output_type": "execute_result"
    }
   ],
   "source": [
    "hatespeech_df = pd.read_csv('C:\\\\Users\\\\weinb\\\\Hate-speech\\\\Data\\\\labeleddata.csv')\n",
    "hatespeech_df.head()"
   ]
  },
  {
   "cell_type": "code",
   "execution_count": 75,
   "metadata": {
    "colab": {
     "base_uri": "https://localhost:8080/",
     "height": 204
    },
    "id": "3VWqixXfW-mb",
    "outputId": "9a8fca4d-f03e-4158-d7dc-18c0f2f4e346"
   },
   "outputs": [
    {
     "data": {
      "text/html": [
       "<div>\n",
       "<style scoped>\n",
       "    .dataframe tbody tr th:only-of-type {\n",
       "        vertical-align: middle;\n",
       "    }\n",
       "\n",
       "    .dataframe tbody tr th {\n",
       "        vertical-align: top;\n",
       "    }\n",
       "\n",
       "    .dataframe thead th {\n",
       "        text-align: right;\n",
       "    }\n",
       "</style>\n",
       "<table border=\"1\" class=\"dataframe\">\n",
       "  <thead>\n",
       "    <tr style=\"text-align: right;\">\n",
       "      <th></th>\n",
       "      <th>id</th>\n",
       "      <th>label</th>\n",
       "      <th>tweet</th>\n",
       "    </tr>\n",
       "  </thead>\n",
       "  <tbody>\n",
       "    <tr>\n",
       "      <th>0</th>\n",
       "      <td>1</td>\n",
       "      <td>0</td>\n",
       "      <td>@user when a father is dysfunctional and is s...</td>\n",
       "    </tr>\n",
       "    <tr>\n",
       "      <th>1</th>\n",
       "      <td>2</td>\n",
       "      <td>0</td>\n",
       "      <td>@user @user thanks for #lyft credit i can't us...</td>\n",
       "    </tr>\n",
       "    <tr>\n",
       "      <th>2</th>\n",
       "      <td>3</td>\n",
       "      <td>0</td>\n",
       "      <td>bihday your majesty</td>\n",
       "    </tr>\n",
       "    <tr>\n",
       "      <th>3</th>\n",
       "      <td>4</td>\n",
       "      <td>0</td>\n",
       "      <td>#model   i love u take with u all the time in ...</td>\n",
       "    </tr>\n",
       "    <tr>\n",
       "      <th>4</th>\n",
       "      <td>5</td>\n",
       "      <td>0</td>\n",
       "      <td>factsguide: society now    #motivation</td>\n",
       "    </tr>\n",
       "  </tbody>\n",
       "</table>\n",
       "</div>"
      ],
      "text/plain": [
       "   id  label                                              tweet\n",
       "0   1      0   @user when a father is dysfunctional and is s...\n",
       "1   2      0  @user @user thanks for #lyft credit i can't us...\n",
       "2   3      0                                bihday your majesty\n",
       "3   4      0  #model   i love u take with u all the time in ...\n",
       "4   5      0             factsguide: society now    #motivation"
      ]
     },
     "execution_count": 75,
     "metadata": {},
     "output_type": "execute_result"
    }
   ],
   "source": [
    "hatespeech_df2=pd.read_csv('C:\\\\Users\\\\weinb\\\\Hate-speech\\\\Data\\\\train_E6oV3lV.csv')\n",
    "hatespeech_df2.head()"
   ]
  },
  {
   "cell_type": "code",
   "execution_count": 76,
   "metadata": {
    "id": "7weLzrNyt8LE"
   },
   "outputs": [],
   "source": [
    "hatespeech_df_1=hatespeech_df[['class','tweet']]"
   ]
  },
  {
   "cell_type": "code",
   "execution_count": 77,
   "metadata": {
    "id": "GaroqWj8YFnH"
   },
   "outputs": [],
   "source": [
    "hatespeech_df2['class']=hatespeech_df2['label']"
   ]
  },
  {
   "cell_type": "code",
   "execution_count": 78,
   "metadata": {
    "id": "Sbp52tGsZROg"
   },
   "outputs": [],
   "source": [
    "hatespeech_df2['class'] = hatespeech_df2['class'].replace(['0'],'2')"
   ]
  },
  {
   "cell_type": "code",
   "execution_count": 79,
   "metadata": {
    "id": "I1MoQq9vZqo9"
   },
   "outputs": [],
   "source": [
    "df_2 = pd.DataFrame(hatespeech_df2, columns= ['class','tweet'])\n",
    "df_2['class'] = df_2['class'].replace([1,0],[0,2])"
   ]
  },
  {
   "cell_type": "code",
   "execution_count": 80,
   "metadata": {},
   "outputs": [],
   "source": [
    "hatespeech=pd.concat([hatespeech_df_1, df_2])"
   ]
  },
  {
   "cell_type": "code",
   "execution_count": 81,
   "metadata": {
    "id": "neqWQGaduRG8"
   },
   "outputs": [],
   "source": [
    "X=hatespeech['tweet']\n",
    "y=hatespeech['class']"
   ]
  },
  {
   "cell_type": "code",
   "execution_count": 82,
   "metadata": {
    "id": "lFlE5tz70y4N"
   },
   "outputs": [],
   "source": [
    "X_train, X_test, y_train, y_test = train_test_split(X,y,\n",
    "                                                    stratify=y,\n",
    "                                                    test_size=0.2,\n",
    "                                                    random_state=42)"
   ]
  },
  {
   "cell_type": "markdown",
   "metadata": {
    "id": "tENoxfaz-21R"
   },
   "source": [
    "**Cleaning,Tokenizing,Lemmatizing and Vectorizing the tweets**"
   ]
  },
  {
   "cell_type": "markdown",
   "metadata": {},
   "source": [
    "I created a function to clean the tweet texts. I then created a class to lemmatize and tokenize the tweet text.I then vectorized the tweet text to fit it through the models. "
   ]
  },
  {
   "cell_type": "code",
   "execution_count": 83,
   "metadata": {
    "id": "keArG_lN5bRr"
   },
   "outputs": [],
   "source": [
    "def clean_text(text):\n",
    "    text = str(text).lower()\n",
    "    text = re.sub('\\[.*?\\]', '', text)\n",
    "    text = re.sub('https?://\\S+|www\\.\\S+', '', text)\n",
    "    text = re.sub(\"@[A-Za-z0-9_]+\", \" \", text)\n",
    "    text = re.sub('<.*?>+', '', text)\n",
    "    text = re.sub('[%s]' % re.escape(string.punctuation), '', text)\n",
    "    text = re.sub('\\n', '', text)\n",
    "    text = re.sub('\\w*\\d\\w*', '', text)\n",
    "    text = re.sub(r'[^\\w\\s]', '', (text))\n",
    "    text = [word for word in text.split(' ') if word not in stopword]\n",
    "    text=\" \".join(text)\n",
    "    text = [stemmer.stem(word) for word in text.split(' ')]\n",
    "    text=\" \".join(text)\n",
    "    return text"
   ]
  },
  {
   "cell_type": "code",
   "execution_count": 84,
   "metadata": {
    "id": "aChBHFlnCkyV"
   },
   "outputs": [],
   "source": [
    "from nltk import word_tokenize          \n",
    "from nltk.stem import WordNetLemmatizer \n",
    "class LemmaTokenizer(object):\n",
    "    def __init__(self):\n",
    "        self.wnl = WordNetLemmatizer()\n",
    "    def __call__(self, articles):\n",
    "        return [self.wnl.lemmatize(t) for t in word_tokenize(articles)]\n",
    "\n",
    "tf_vectorizer = CountVectorizer(tokenizer=LemmaTokenizer(),\n",
    "                       strip_accents = 'unicode',\n",
    "                       stop_words = 'english',\n",
    "                       lowercase = True,\n",
    "                       token_pattern = r'\\b[a-zA-Z]{3,}\\b', # keeps words of 3 or more characters\n",
    "                       max_df = 0.5,\n",
    "                       min_df = 10)"
   ]
  },
  {
   "cell_type": "code",
   "execution_count": 85,
   "metadata": {
    "colab": {
     "base_uri": "https://localhost:8080/"
    },
    "id": "6OdRG-fYrdmo",
    "outputId": "ce5d357c-76e3-4a35-e0b6-b9af684b7e21"
   },
   "outputs": [
    {
     "data": {
      "text/plain": [
       "12726    man im tryin take intox charli sheen level tod...\n",
       "21827          nicca sangin dey partna witout grammi award\n",
       "17082    rt   bitch ass nigga claim yo homi get dirt  b...\n",
       "6460                   lmao ur dad rais u bitch made nigga\n",
       "8482     prayfororlando ðinstagram ð   toptag  toptag n...\n",
       "Name: tweet, dtype: object"
      ]
     },
     "execution_count": 85,
     "metadata": {},
     "output_type": "execute_result"
    }
   ],
   "source": [
    "X_train=X_train.apply(clean_text)\n",
    "X_train.head()"
   ]
  },
  {
   "cell_type": "code",
   "execution_count": 86,
   "metadata": {
    "colab": {
     "base_uri": "https://localhost:8080/"
    },
    "id": "40S8hvDM1svh",
    "outputId": "985efd46-6889-4049-c89f-510ad039ba93"
   },
   "outputs": [
    {
     "data": {
      "text/plain": [
       "14372            day   season  premier cant wait   thefost\n",
       "6207                                pick sc take us nip cr\n",
       "5090                                  go jerk lolli faggot\n",
       "12005    dream fm inshot girl cute summer blur sun   fu...\n",
       "4072       fuckin mom bitch like aint even payin dylan ...\n",
       "Name: tweet, dtype: object"
      ]
     },
     "execution_count": 86,
     "metadata": {},
     "output_type": "execute_result"
    }
   ],
   "source": [
    "X_test=X_test.apply(clean_text)\n",
    "X_test.head()"
   ]
  },
  {
   "cell_type": "code",
   "execution_count": 87,
   "metadata": {
    "id": "lTkobuKaE9fO"
   },
   "outputs": [],
   "source": [
    "X_train_vec = tf_vectorizer.fit_transform(X_train)\n",
    "X_test_vec = tf_vectorizer.transform(X_test)"
   ]
  },
  {
   "cell_type": "code",
   "execution_count": 88,
   "metadata": {
    "id": "maPzATMIsrW4"
   },
   "outputs": [],
   "source": [
    "X_train=X_train_vec.todense()\n",
    "X_test=X_test_vec.todense()"
   ]
  },
  {
   "cell_type": "markdown",
   "metadata": {
    "id": "WWstQwGQ6R2L"
   },
   "source": [
    "**BASELINE MODELS**"
   ]
  },
  {
   "cell_type": "code",
   "execution_count": 18,
   "metadata": {
    "colab": {
     "base_uri": "https://localhost:8080/"
    },
    "id": "gr7DMK0F6RIs",
    "outputId": "65966da6-dafc-45e0-dcf1-462af0a0e103"
   },
   "outputs": [
    {
     "name": "stdout",
     "output_type": "stream",
     "text": [
      "Confusion Matrix for Train Set:\n",
      " [[ 2937     1     0]\n",
      " [10862  4324   166]\n",
      " [11875  3864 11367]]\n",
      "Confusion Matrix for Test Set:\n",
      " [[ 618   72   44]\n",
      " [2776  963   99]\n",
      " [3100  966 2711]]\n",
      "Classification Report for Train Set:\n",
      "               precision    recall  f1-score   support\n",
      "\n",
      "           0       0.11      1.00      0.21      2938\n",
      "           1       0.53      0.28      0.37     15352\n",
      "           2       0.99      0.42      0.59     27106\n",
      "\n",
      "    accuracy                           0.41     45396\n",
      "   macro avg       0.54      0.57      0.39     45396\n",
      "weighted avg       0.77      0.41      0.49     45396\n",
      "\n",
      "Classification Report for Test Set:\n",
      "               precision    recall  f1-score   support\n",
      "\n",
      "           0       0.10      0.84      0.17       734\n",
      "           1       0.48      0.25      0.33      3838\n",
      "           2       0.95      0.40      0.56      6777\n",
      "\n",
      "    accuracy                           0.38     11349\n",
      "   macro avg       0.51      0.50      0.35     11349\n",
      "weighted avg       0.74      0.38      0.46     11349\n",
      "\n"
     ]
    },
    {
     "data": {
      "text/plain": [
       "GaussianNB()"
      ]
     },
     "execution_count": 18,
     "metadata": {},
     "output_type": "execute_result"
    },
    {
     "data": {
      "image/png": "[encoded data removed]",
      "text/plain": [
       "<Figure size 432x288 with 2 Axes>"
      ]
     },
     "metadata": {
      "needs_background": "light"
     },
     "output_type": "display_data"
    },
    {
     "data": {
      "image/png": "[encoded data removed]",
      "text/plain": [
       "<Figure size 432x288 with 2 Axes>"
      ]
     },
     "metadata": {
      "needs_background": "light"
     },
     "output_type": "display_data"
    }
   ],
   "source": [
    "classifier_nb = GaussianNB()\n",
    "run_model(classifier_nb, X_train, X_test, y_train, y_test)\n"
   ]
  },
  {
   "cell_type": "code",
   "execution_count": 19,
   "metadata": {
    "id": "w2I64P15o2-W"
   },
   "outputs": [
    {
     "name": "stdout",
     "output_type": "stream",
     "text": [
      "Confusion Matrix for Train Set:\n",
      " [[ 2889    28    21]\n",
      " [   35 15284    33]\n",
      " [   20    39 27047]]\n",
      "Confusion Matrix for Test Set:\n",
      " [[ 367  177  190]\n",
      " [ 141 3486  211]\n",
      " [ 388  260 6129]]\n",
      "Classification Report for Train Set:\n",
      "               precision    recall  f1-score   support\n",
      "\n",
      "           0       0.98      0.98      0.98      2938\n",
      "           1       1.00      1.00      1.00     15352\n",
      "           2       1.00      1.00      1.00     27106\n",
      "\n",
      "    accuracy                           1.00     45396\n",
      "   macro avg       0.99      0.99      0.99     45396\n",
      "weighted avg       1.00      1.00      1.00     45396\n",
      "\n",
      "Classification Report for Test Set:\n",
      "               precision    recall  f1-score   support\n",
      "\n",
      "           0       0.41      0.50      0.45       734\n",
      "           1       0.89      0.91      0.90      3838\n",
      "           2       0.94      0.90      0.92      6777\n",
      "\n",
      "    accuracy                           0.88     11349\n",
      "   macro avg       0.75      0.77      0.76     11349\n",
      "weighted avg       0.89      0.88      0.88     11349\n",
      "\n"
     ]
    },
    {
     "data": {
      "text/plain": [
       "DecisionTreeClassifier()"
      ]
     },
     "execution_count": 19,
     "metadata": {},
     "output_type": "execute_result"
    },
    {
     "data": {
      "image/png": "[encoded data removed]",
      "text/plain": [
       "<Figure size 432x288 with 2 Axes>"
      ]
     },
     "metadata": {
      "needs_background": "light"
     },
     "output_type": "display_data"
    },
    {
     "data": {
      "image/png": "[encoded data removed]",
      "text/plain": [
       "<Figure size 432x288 with 2 Axes>"
      ]
     },
     "metadata": {
      "needs_background": "light"
     },
     "output_type": "display_data"
    }
   ],
   "source": [
    "classifier_dt = DecisionTreeClassifier()\n",
    "run_model(classifier_dt, X_train, X_test, y_train, y_test)"
   ]
  },
  {
   "cell_type": "code",
   "execution_count": 18,
   "metadata": {
    "id": "7OyHyrPhtCdb"
   },
   "outputs": [
    {
     "name": "stdout",
     "output_type": "stream",
     "text": [
      "Confusion Matrix for Train Set:\n",
      " [[ 1107   567  1264]\n",
      " [  330 13922  1100]\n",
      " [   96   470 26540]]\n",
      "Confusion Matrix for Test Set:\n",
      " [[ 189  165  380]\n",
      " [  88 3361  389]\n",
      " [  53  170 6554]]\n",
      "Classification Report for Train Set:\n",
      "               precision    recall  f1-score   support\n",
      "\n",
      "           0       0.72      0.38      0.50      2938\n",
      "           1       0.93      0.91      0.92     15352\n",
      "           2       0.92      0.98      0.95     27106\n",
      "\n",
      "    accuracy                           0.92     45396\n",
      "   macro avg       0.86      0.75      0.79     45396\n",
      "weighted avg       0.91      0.92      0.91     45396\n",
      "\n",
      "Classification Report for Test Set:\n",
      "               precision    recall  f1-score   support\n",
      "\n",
      "           0       0.57      0.26      0.36       734\n",
      "           1       0.91      0.88      0.89      3838\n",
      "           2       0.89      0.97      0.93      6777\n",
      "\n",
      "    accuracy                           0.89     11349\n",
      "   macro avg       0.79      0.70      0.73     11349\n",
      "weighted avg       0.88      0.89      0.88     11349\n",
      "\n"
     ]
    },
    {
     "data": {
      "text/plain": [
       "KNeighborsClassifier()"
      ]
     },
     "execution_count": 18,
     "metadata": {},
     "output_type": "execute_result"
    },
    {
     "data": {
      "image/png": "[encoded data removed]",
      "text/plain": [
       "<Figure size 432x288 with 2 Axes>"
      ]
     },
     "metadata": {
      "needs_background": "light"
     },
     "output_type": "display_data"
    },
    {
     "data": {
      "image/png": "[encoded data removed]",
      "text/plain": [
       "<Figure size 432x288 with 2 Axes>"
      ]
     },
     "metadata": {
      "needs_background": "light"
     },
     "output_type": "display_data"
    }
   ],
   "source": [
    "classifier_knn = KNeighborsClassifier()\n",
    "run_model(classifier_knn, X_train, X_test, y_train, y_test)"
   ]
  },
  {
   "cell_type": "code",
   "execution_count": 19,
   "metadata": {
    "colab": {
     "base_uri": "https://localhost:8080/",
     "height": 1000
    },
    "id": "JJfr3Hn2uqh4",
    "outputId": "98c058c1-ce44-45fc-fe97-93ceb0ed5c2a"
   },
   "outputs": [
    {
     "name": "stdout",
     "output_type": "stream",
     "text": [
      "Confusion Matrix for Train Set:\n",
      " [[ 2862    38    38]\n",
      " [   23 15285    44]\n",
      " [    4    30 27072]]\n",
      "Confusion Matrix for Test Set:\n",
      " [[ 320  195  219]\n",
      " [  65 3567  206]\n",
      " [ 115  183 6479]]\n",
      "Classification Report for Train Set:\n",
      "               precision    recall  f1-score   support\n",
      "\n",
      "           0       0.99      0.97      0.98      2938\n",
      "           1       1.00      1.00      1.00     15352\n",
      "           2       1.00      1.00      1.00     27106\n",
      "\n",
      "    accuracy                           1.00     45396\n",
      "   macro avg       0.99      0.99      0.99     45396\n",
      "weighted avg       1.00      1.00      1.00     45396\n",
      "\n",
      "Classification Report for Test Set:\n",
      "               precision    recall  f1-score   support\n",
      "\n",
      "           0       0.64      0.44      0.52       734\n",
      "           1       0.90      0.93      0.92      3838\n",
      "           2       0.94      0.96      0.95      6777\n",
      "\n",
      "    accuracy                           0.91     11349\n",
      "   macro avg       0.83      0.77      0.79     11349\n",
      "weighted avg       0.91      0.91      0.91     11349\n",
      "\n"
     ]
    },
    {
     "data": {
      "text/plain": [
       "RandomForestClassifier()"
      ]
     },
     "execution_count": 19,
     "metadata": {},
     "output_type": "execute_result"
    },
    {
     "data": {
      "image/png": "[encoded data removed]",
      "text/plain": [
       "<Figure size 432x288 with 2 Axes>"
      ]
     },
     "metadata": {
      "needs_background": "light"
     },
     "output_type": "display_data"
    },
    {
     "data": {
      "image/png": "[encoded data removed]",
      "text/plain": [
       "<Figure size 432x288 with 2 Axes>"
      ]
     },
     "metadata": {
      "needs_background": "light"
     },
     "output_type": "display_data"
    }
   ],
   "source": [
    "classifier_rf = RandomForestClassifier()\n",
    "run_model(classifier_rf, X_train, X_test, y_train, y_test)"
   ]
  },
  {
   "cell_type": "code",
   "execution_count": 20,
   "metadata": {},
   "outputs": [
    {
     "name": "stdout",
     "output_type": "stream",
     "text": [
      "Confusion Matrix for Train Set:\n",
      " [[ 1636   528   774]\n",
      " [  219 14441   692]\n",
      " [  120   280 26706]]\n",
      "Confusion Matrix for Test Set:\n",
      " [[ 302  157  275]\n",
      " [ 100 3487  251]\n",
      " [  76   89 6612]]\n",
      "Classification Report for Train Set:\n",
      "               precision    recall  f1-score   support\n",
      "\n",
      "           0       0.83      0.56      0.67      2938\n",
      "           1       0.95      0.94      0.94     15352\n",
      "           2       0.95      0.99      0.97     27106\n",
      "\n",
      "    accuracy                           0.94     45396\n",
      "   macro avg       0.91      0.83      0.86     45396\n",
      "weighted avg       0.94      0.94      0.94     45396\n",
      "\n",
      "Classification Report for Test Set:\n",
      "               precision    recall  f1-score   support\n",
      "\n",
      "           0       0.63      0.41      0.50       734\n",
      "           1       0.93      0.91      0.92      3838\n",
      "           2       0.93      0.98      0.95      6777\n",
      "\n",
      "    accuracy                           0.92     11349\n",
      "   macro avg       0.83      0.77      0.79     11349\n",
      "weighted avg       0.91      0.92      0.91     11349\n",
      "\n"
     ]
    },
    {
     "data": {
      "text/plain": [
       "LogisticRegression()"
      ]
     },
     "execution_count": 20,
     "metadata": {},
     "output_type": "execute_result"
    },
    {
     "data": {
      "image/png": "[encoded data removed]",
      "text/plain": [
       "<Figure size 432x288 with 2 Axes>"
      ]
     },
     "metadata": {
      "needs_background": "light"
     },
     "output_type": "display_data"
    },
    {
     "data": {
      "image/png": "[encoded data removed]",
      "text/plain": [
       "<Figure size 432x288 with 2 Axes>"
      ]
     },
     "metadata": {
      "needs_background": "light"
     },
     "output_type": "display_data"
    }
   ],
   "source": [
    "classifier_lr=LogisticRegression()\n",
    "run_model(classifier_lr,X_train, X_test, y_train, y_test)"
   ]
  },
  {
   "cell_type": "code",
   "execution_count": 21,
   "metadata": {
    "id": "phtyriyXu5dg"
   },
   "outputs": [
    {
     "name": "stdout",
     "output_type": "stream",
     "text": [
      "[07:00:22] WARNING: ..\\src\\learner.cc:1061: Starting in XGBoost 1.3.0, the default evaluation metric used with the objective 'multi:softprob' was changed from 'merror' to 'mlogloss'. Explicitly set eval_metric if you'd like to restore the old behavior.\n",
      "Confusion Matrix for Train Set:\n",
      " [[ 1194   546  1198]\n",
      " [  306 14106   940]\n",
      " [   70   195 26841]]\n",
      "Confusion Matrix for Test Set:\n",
      " [[ 238  159  337]\n",
      " [  91 3476  271]\n",
      " [  45   45 6687]]\n",
      "Classification Report for Train Set:\n",
      "               precision    recall  f1-score   support\n",
      "\n",
      "           0       0.76      0.41      0.53      2938\n",
      "           1       0.95      0.92      0.93     15352\n",
      "           2       0.93      0.99      0.96     27106\n",
      "\n",
      "    accuracy                           0.93     45396\n",
      "   macro avg       0.88      0.77      0.81     45396\n",
      "weighted avg       0.92      0.93      0.92     45396\n",
      "\n",
      "Classification Report for Test Set:\n",
      "               precision    recall  f1-score   support\n",
      "\n",
      "           0       0.64      0.32      0.43       734\n",
      "           1       0.94      0.91      0.92      3838\n",
      "           2       0.92      0.99      0.95      6777\n",
      "\n",
      "    accuracy                           0.92     11349\n",
      "   macro avg       0.83      0.74      0.77     11349\n",
      "weighted avg       0.91      0.92      0.91     11349\n",
      "\n"
     ]
    },
    {
     "data": {
      "text/plain": [
       "XGBClassifier(base_score=0.5, booster='gbtree', colsample_bylevel=1,\n",
       "              colsample_bynode=1, colsample_bytree=1, gamma=0, gpu_id=-1,\n",
       "              importance_type='gain', interaction_constraints='',\n",
       "              learning_rate=0.300000012, max_delta_step=0, max_depth=6,\n",
       "              min_child_weight=1, missing=nan, monotone_constraints='()',\n",
       "              n_estimators=100, n_jobs=4, num_parallel_tree=1,\n",
       "              objective='multi:softprob', random_state=0, reg_alpha=0,\n",
       "              reg_lambda=1, scale_pos_weight=None, subsample=1,\n",
       "              tree_method='exact', validate_parameters=1, verbosity=None)"
      ]
     },
     "execution_count": 21,
     "metadata": {},
     "output_type": "execute_result"
    },
    {
     "data": {
      "image/png": "[encoded data removed]",
      "text/plain": [
       "<Figure size 432x288 with 2 Axes>"
      ]
     },
     "metadata": {
      "needs_background": "light"
     },
     "output_type": "display_data"
    },
    {
     "data": {
      "image/png": "[encoded data removed]",
      "text/plain": [
       "<Figure size 432x288 with 2 Axes>"
      ]
     },
     "metadata": {
      "needs_background": "light"
     },
     "output_type": "display_data"
    }
   ],
   "source": [
    "classifier_xg = xbg()\n",
    "run_model(classifier_xg,X_train, X_test, y_train, y_test)"
   ]
  },
  {
   "cell_type": "markdown",
   "metadata": {},
   "source": [
    "**Pickle model** I pickled the  best preforming model (The XG Boost) to test it on the validation set. It had a 92% accuracy on the testing set."
   ]
  },
  {
   "cell_type": "code",
   "execution_count": 4,
   "metadata": {},
   "outputs": [
    {
     "ename": "FileNotFoundError",
     "evalue": "[Errno 2] No such file or directory: 'C:\\\\Users\\\\weinb\\\\Hate-speech\\\\Pickled Models \\\\xgboost.pickle'",
     "output_type": "error",
     "traceback": [
      "\u001b[1;31m---------------------------------------------------------------------------\u001b[0m",
      "\u001b[1;31mFileNotFoundError\u001b[0m                         Traceback (most recent call last)",
      "\u001b[1;32m<ipython-input-4-330a0b49ecf4>\u001b[0m in \u001b[0;36m<module>\u001b[1;34m\u001b[0m\n\u001b[0;32m      1\u001b[0m \u001b[1;32mimport\u001b[0m \u001b[0mpickle\u001b[0m\u001b[1;33m\u001b[0m\u001b[1;33m\u001b[0m\u001b[0m\n\u001b[0;32m      2\u001b[0m \u001b[1;31m# Save\u001b[0m\u001b[1;33m\u001b[0m\u001b[1;33m\u001b[0m\u001b[1;33m\u001b[0m\u001b[0m\n\u001b[1;32m----> 3\u001b[1;33m \u001b[1;32mwith\u001b[0m \u001b[0mopen\u001b[0m\u001b[1;33m(\u001b[0m\u001b[1;34m'C:\\\\Users\\\\weinb\\\\Hate-speech\\\\Pickled Models \\\\xgboost.pickle'\u001b[0m\u001b[1;33m,\u001b[0m \u001b[1;34m'wb'\u001b[0m\u001b[1;33m)\u001b[0m \u001b[1;32mas\u001b[0m \u001b[0mf\u001b[0m\u001b[1;33m:\u001b[0m\u001b[1;33m\u001b[0m\u001b[1;33m\u001b[0m\u001b[0m\n\u001b[0m\u001b[0;32m      4\u001b[0m     \u001b[0mpickle\u001b[0m\u001b[1;33m.\u001b[0m\u001b[0mdump\u001b[0m\u001b[1;33m(\u001b[0m\u001b[0mclassifier_xg\u001b[0m\u001b[1;33m,\u001b[0m \u001b[0mf\u001b[0m\u001b[1;33m)\u001b[0m\u001b[1;33m\u001b[0m\u001b[1;33m\u001b[0m\u001b[0m\n\u001b[0;32m      5\u001b[0m \u001b[1;33m\u001b[0m\u001b[0m\n",
      "\u001b[1;31mFileNotFoundError\u001b[0m: [Errno 2] No such file or directory: 'C:\\\\Users\\\\weinb\\\\Hate-speech\\\\Pickled Models \\\\xgboost.pickle'"
     ]
    }
   ],
   "source": [
    "import pickle\n",
    "# Save\n",
    "with open('xgboost.pickle', 'wb') as f:\n",
    "    pickle.dump(classifier_xg, f)\n",
    "   "
   ]
  },
  {
   "cell_type": "markdown",
   "metadata": {
    "id": "hCa4ynqn4DwG"
   },
   "source": [
    "**Validation set** I scraped twitter to create a new data set using words that were found to be important in each of the classes. See [Notebook 2](http://localhost:8889/notebooks/Notebooks/Notebook_2_Scraping_Twitter.ipynb) for more information. \n"
   ]
  },
  {
   "cell_type": "code",
   "execution_count": 89,
   "metadata": {},
   "outputs": [],
   "source": [
    "# Load\n",
    "with open( 'C:\\\\Users\\\\weinb\\\\Hate-speech\\\\Pickled Models\\\\xgboost.pickle', 'rb') as file:\n",
    "    model_2 = pickle.load(file)"
   ]
  },
  {
   "cell_type": "code",
   "execution_count": 90,
   "metadata": {},
   "outputs": [],
   "source": [
    "twitter_new=pd.read_csv('C:\\\\Users\\\\weinb\\\\Hate-speech\\\\Data\\\\twitter_3.csv')\n",
    "twitter_new=twitter_new[['tweet','label']]\n"
   ]
  },
  {
   "cell_type": "code",
   "execution_count": 91,
   "metadata": {},
   "outputs": [],
   "source": [
    "validationset_X=twitter_new['tweet']\n",
    "validationset_y=twitter_new['label']"
   ]
  },
  {
   "cell_type": "code",
   "execution_count": 92,
   "metadata": {},
   "outputs": [],
   "source": [
    "Clean_X=validationset_X.apply(clean_text)\n"
   ]
  },
  {
   "cell_type": "code",
   "execution_count": 93,
   "metadata": {},
   "outputs": [],
   "source": [
    "X_test_vec = tf_vectorizer.transform(Clean_X)"
   ]
  },
  {
   "cell_type": "code",
   "execution_count": 94,
   "metadata": {},
   "outputs": [],
   "source": [
    "vectorized_X=X_test_vec.todense()"
   ]
  },
  {
   "cell_type": "code",
   "execution_count": 98,
   "metadata": {},
   "outputs": [],
   "source": [
    "predict_y=model_2.predict(vectorized_X)"
   ]
  },
  {
   "cell_type": "code",
   "execution_count": 99,
   "metadata": {},
   "outputs": [],
   "source": [
    "twitter_new['prediction']=predict_y"
   ]
  },
  {
   "cell_type": "code",
   "execution_count": 103,
   "metadata": {},
   "outputs": [
    {
     "name": "stdout",
     "output_type": "stream",
     "text": [
      "Confusion Matrix for validation Set:\n",
      " [[ 11   9  16]\n",
      " [  0  78   6]\n",
      " [  0   0 100]]\n",
      "Classification Report for validation Set:\n",
      "               precision    recall  f1-score   support\n",
      "\n",
      "           0       1.00      0.31      0.47        36\n",
      "           1       0.90      0.93      0.91        84\n",
      "           2       0.82      1.00      0.90       100\n",
      "\n",
      "    accuracy                           0.86       220\n",
      "   macro avg       0.91      0.74      0.76       220\n",
      "weighted avg       0.88      0.86      0.83       220\n",
      "\n"
     ]
    },
    {
     "data": {
      "text/plain": [
       "<sklearn.metrics._plot.confusion_matrix.ConfusionMatrixDisplay at 0x2f05d5326d0>"
      ]
     },
     "execution_count": 103,
     "metadata": {},
     "output_type": "execute_result"
    },
    {
     "data": {
      "image/png": "[encoded data removed]",
      "text/plain": [
       "<Figure size 432x288 with 2 Axes>"
      ]
     },
     "metadata": {
      "needs_background": "light"
     },
     "output_type": "display_data"
    }
   ],
   "source": [
    "cnf_matrix_validation = confusion_matrix(validationset_y,  predict_y)\n",
    "\n",
    "print('Confusion Matrix for validation Set:\\n', cnf_matrix_validation) \n",
    "\n",
    "print('Classification Report for validation Set:\\n',classification_report(validationset_y , predict_y))\n",
    "plot_confusion_matrix(model_2, vectorized_X, predict_y,\n",
    "                     cmap=plt.cm.Blues)"
   ]
  },
  {
   "cell_type": "markdown",
   "metadata": {},
   "source": [
    "The best performing model (the XG BOOST) had an accuracy of 86% in predicting what class the tweet from the validation set would be classified to. "
   ]
  }
 ],
 "metadata": {
  "colab": {
   "authorship_tag": "ABX9TyOimAF51yzYHoCJkMiKbtdL",
   "collapsed_sections": [],
   "include_colab_link": true,
   "name": "Synthesizes_dataipynb",
   "provenance": []
  },
  "kernelspec": {
   "display_name": "Python 3",
   "language": "python",
   "name": "python3"
  },
  "language_info": {
   "codemirror_mode": {
    "name": "ipython",
    "version": 3
   },
   "file_extension": ".py",
   "mimetype": "text/x-python",
   "name": "python",
   "nbconvert_exporter": "python",
   "pygments_lexer": "ipython3",
   "version": "3.8.5"
  }
 },
 "nbformat": 4,
 "nbformat_minor": 1
}
