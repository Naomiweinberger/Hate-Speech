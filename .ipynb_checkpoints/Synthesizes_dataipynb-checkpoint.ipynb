version https://git-lfs.github.com/spec/v1
oid sha256:7e4fa74aa3a7dae119fb29efc4a39fda3cbcb00f8a7b42b21ce9b8da739fc7c3
size 58978
