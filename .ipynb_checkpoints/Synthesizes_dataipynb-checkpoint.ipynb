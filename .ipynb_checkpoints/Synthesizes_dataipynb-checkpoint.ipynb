version https://git-lfs.github.com/spec/v1
oid sha256:5a10aa4f499dc140532c4de97e37bac5bbdb15ae8a167cc97a21c84dc812e5ca
size 100388
