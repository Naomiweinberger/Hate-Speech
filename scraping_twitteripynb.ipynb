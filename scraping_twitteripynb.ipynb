{
  "nbformat": 4,
  "nbformat_minor": 0,
  "metadata": {
    "colab": {
      "name": "scraping_twitteripynb",
      "provenance": [],
      "collapsed_sections": [],
      "mount_file_id": "173UBmsd4icOiw-4fk5U1VuvZWSzL0ZTF",
      "authorship_tag": "ABX9TyPcRnXLWHJoA3k4DYmj2N0n",
      "include_colab_link": true
    },
    "kernelspec": {
      "display_name": "Python 3",
      "name": "python3"
    },
    "language_info": {
      "name": "python"
    }
  },
  "cells": [
    {
      "cell_type": "markdown",
      "metadata": {
        "id": "view-in-github",
        "colab_type": "text"
      },
      "source": [
        "<a href=\"https://colab.research.google.com/github/Naomiweinberger/Hate-Speech/blob/main/scraping_twitteripynb.ipynb\" target=\"_parent\"><img src=\"https://colab.research.google.com/assets/colab-badge.svg\" alt=\"Open In Colab\"/></a>"
      ]
    },
    {
      "cell_type": "code",
      "metadata": {
        "colab": {
          "base_uri": "https://localhost:8080/"
        },
        "id": "PbGN-MAjGgF6",
        "outputId": "6765f31a-1ae7-4a70-8280-085920ff7d01"
      },
      "source": [
        "! pip install twitter-to-sqlite"
      ],
      "execution_count": 1,
      "outputs": [
        {
          "output_type": "stream",
          "name": "stdout",
          "text": [
            "Collecting twitter-to-sqlite\n",
            "  Downloading twitter_to_sqlite-0.22-py3-none-any.whl (26 kB)\n",
            "Collecting sqlite-utils>=2.4.2\n",
            "  Downloading sqlite_utils-3.17.1-py3-none-any.whl (50 kB)\n",
            "\u001b[K     |████████████████████████████████| 50 kB 4.7 MB/s \n",
            "\u001b[?25hCollecting requests-oauthlib~=1.2.0\n",
            "  Downloading requests_oauthlib-1.2.0-py2.py3-none-any.whl (22 kB)\n",
            "Requirement already satisfied: python-dateutil in /usr/local/lib/python3.7/dist-packages (from twitter-to-sqlite) (2.8.2)\n",
            "Requirement already satisfied: oauthlib>=3.0.0 in /usr/local/lib/python3.7/dist-packages (from requests-oauthlib~=1.2.0->twitter-to-sqlite) (3.1.1)\n",
            "Requirement already satisfied: requests>=2.0.0 in /usr/local/lib/python3.7/dist-packages (from requests-oauthlib~=1.2.0->twitter-to-sqlite) (2.23.0)\n",
            "Requirement already satisfied: certifi>=2017.4.17 in /usr/local/lib/python3.7/dist-packages (from requests>=2.0.0->requests-oauthlib~=1.2.0->twitter-to-sqlite) (2021.5.30)\n",
            "Requirement already satisfied: idna<3,>=2.5 in /usr/local/lib/python3.7/dist-packages (from requests>=2.0.0->requests-oauthlib~=1.2.0->twitter-to-sqlite) (2.10)\n",
            "Requirement already satisfied: chardet<4,>=3.0.2 in /usr/local/lib/python3.7/dist-packages (from requests>=2.0.0->requests-oauthlib~=1.2.0->twitter-to-sqlite) (3.0.4)\n",
            "Requirement already satisfied: urllib3!=1.25.0,!=1.25.1,<1.26,>=1.21.1 in /usr/local/lib/python3.7/dist-packages (from requests>=2.0.0->requests-oauthlib~=1.2.0->twitter-to-sqlite) (1.24.3)\n",
            "Requirement already satisfied: click in /usr/local/lib/python3.7/dist-packages (from sqlite-utils>=2.4.2->twitter-to-sqlite) (7.1.2)\n",
            "Requirement already satisfied: tabulate in /usr/local/lib/python3.7/dist-packages (from sqlite-utils>=2.4.2->twitter-to-sqlite) (0.8.9)\n",
            "Collecting dateutils\n",
            "  Downloading dateutils-0.6.12-py2.py3-none-any.whl (5.7 kB)\n",
            "Collecting click-default-group\n",
            "  Downloading click-default-group-1.2.2.tar.gz (3.3 kB)\n",
            "Collecting sqlite-fts4\n",
            "  Downloading sqlite_fts4-1.0.1-py3-none-any.whl (10.0 kB)\n",
            "Requirement already satisfied: pytz in /usr/local/lib/python3.7/dist-packages (from dateutils->sqlite-utils>=2.4.2->twitter-to-sqlite) (2018.9)\n",
            "Requirement already satisfied: six>=1.5 in /usr/local/lib/python3.7/dist-packages (from python-dateutil->twitter-to-sqlite) (1.15.0)\n",
            "Building wheels for collected packages: click-default-group\n",
            "  Building wheel for click-default-group (setup.py) ... \u001b[?25l\u001b[?25hdone\n",
            "  Created wheel for click-default-group: filename=click_default_group-1.2.2-py3-none-any.whl size=3385 sha256=67f61bb68487639434bcc5f6a2fa15018b50b2edd3640b8a3fd0849faaa79a0b\n",
            "  Stored in directory: /root/.cache/pip/wheels/c8/01/63/03a469931aa81497b07ada86ff8aa1b18847bdbe474f43d82c\n",
            "Successfully built click-default-group\n",
            "Installing collected packages: sqlite-fts4, dateutils, click-default-group, sqlite-utils, requests-oauthlib, twitter-to-sqlite\n",
            "  Attempting uninstall: requests-oauthlib\n",
            "    Found existing installation: requests-oauthlib 1.3.0\n",
            "    Uninstalling requests-oauthlib-1.3.0:\n",
            "      Successfully uninstalled requests-oauthlib-1.3.0\n",
            "Successfully installed click-default-group-1.2.2 dateutils-0.6.12 requests-oauthlib-1.2.0 sqlite-fts4-1.0.1 sqlite-utils-3.17.1 twitter-to-sqlite-0.22\n"
          ]
        }
      ]
    },
    {
      "cell_type": "code",
      "metadata": {
        "id": "OL9FTCfxJFYl"
      },
      "source": [
        "import tweepy\n",
        "import pandas as pd\n",
        "import numpy as np\n",
        "import os, csv, logging, urllib, urllib3, json,bson, re,string\n",
        "from bson import json_util\n",
        "from datetime import datetime, timedelta\n",
        "from datetime import time\n",
        "import collections ,sys,math, time, datetime\n",
        "\n",
        " "
      ],
      "execution_count": 2,
      "outputs": []
    },
    {
      "cell_type": "code",
      "metadata": {
        "id": "yWITTGP0Qhlg"
      },
      "source": [
        "CONSUMER_TOKEN='TnmcLLxDlHxtJA0QJ0WvgWqLg'\n",
        "CONSUMER_SECRET='PhW4yLG40E5z4j7iJQlVMOgplt9XUFMnHW0f35xdBa4nw88zbZ'\n",
        "access_token ='3434213404-jLN4nHB721dYxUsOrvad4JktymCAWVSxqtgaw7t'\n",
        "access_token_secret='pnfsXc3lePJwJ4Mk0J9kxLJfJTZPC2CJ9wNjVuDHqXQ5m'"
      ],
      "execution_count": 4,
      "outputs": []
    },
    {
      "cell_type": "code",
      "metadata": {
        "id": "sLRnCMxeM18Y"
      },
      "source": [
        "auth  = tweepy.OAuthHandler(CONSUMER_TOKEN, \\\n",
        "                            CONSUMER_SECRET)\n",
        "auth.set_access_token(access_token,  \\\n",
        "                      access_token_secret)\n",
        "api = tweepy.API(auth)"
      ],
      "execution_count": 5,
      "outputs": []
    },
    {
      "cell_type": "markdown",
      "metadata": {
        "id": "JDOgiDdn9hgw"
      },
      "source": [
        "**normal** **tweets**"
      ]
    },
    {
      "cell_type": "code",
      "metadata": {
        "id": "4kOqwYcyTsYd"
      },
      "source": [
        "tweets_normal = api.search('Artificial Intelligence', count=20)\n",
        "normal_tweet=[]\n",
        "for tweet in tweets_normal:\n",
        "  normal_tweet.append(tweet.text)\n",
        "df_normal = pd.DataFrame(tweets_normal)"
      ],
      "execution_count": 10,
      "outputs": []
    },
    {
      "cell_type": "code",
      "metadata": {
        "id": "U23hSfHn95IS"
      },
      "source": [
        "df_normal['tweet']=df_normal\n",
        "df_normal['label']=2\n",
        "df_normal=df_normal[['tweet','label']]"
      ],
      "execution_count": 11,
      "outputs": []
    },
    {
      "cell_type": "markdown",
      "metadata": {
        "id": "D_TOKZej-OU3"
      },
      "source": [
        "**offensive**"
      ]
    },
    {
      "cell_type": "code",
      "metadata": {
        "id": "uV421Xo4WOku"
      },
      "source": [
        "tweets_offensive = api.search('fag', count=20)\n",
        "tweets_offensive_2=api.search('skank', count=20)"
      ],
      "execution_count": 12,
      "outputs": []
    },
    {
      "cell_type": "code",
      "metadata": {
        "id": "NnGI_EaJ3VjN"
      },
      "source": [
        "offensive_tweet=[]\n",
        "for tweet in tweets_offensive:\n",
        "  offensive_tweet.append(tweet.text)\n",
        "offensive_tweet_2=[]\n",
        "for tweet in tweets_offensive_2:\n",
        "  offensive_tweet_2.append(tweet.text)"
      ],
      "execution_count": 13,
      "outputs": []
    },
    {
      "cell_type": "code",
      "metadata": {
        "id": "RConKbOe3QGM"
      },
      "source": [
        "df_offensive_1=pd.DataFrame(offensive_tweet)\n",
        "df_offensive_2=pd.DataFrame(offensive_tweet_2)\n"
      ],
      "execution_count": 14,
      "outputs": []
    },
    {
      "cell_type": "code",
      "metadata": {
        "id": "O0mLfjJnBx1h"
      },
      "source": [
        "df_offensive_1['tweet']=df_offensive_1\n",
        "df_offensive_1['label']=1\n",
        "df_offensive_1=df_offensive_1[['tweet','label']]"
      ],
      "execution_count": 15,
      "outputs": []
    },
    {
      "cell_type": "code",
      "metadata": {
        "id": "5TyYin0TCNCO"
      },
      "source": [
        "df_offensive_2['tweet']=df_offensive_2\n",
        "df_offensive_2['label']=1\n",
        "df_offensive_2=df_offensive_2[['tweet','label']]"
      ],
      "execution_count": 16,
      "outputs": []
    },
    {
      "cell_type": "code",
      "metadata": {
        "id": "Mx1jf5jNCjBy"
      },
      "source": [
        "df_offensive=pd.concat([df_offensive_1,df_offensive_2])"
      ],
      "execution_count": 17,
      "outputs": []
    },
    {
      "cell_type": "markdown",
      "metadata": {
        "id": "LgPxhmiUDEkZ"
      },
      "source": [
        "**Hate**"
      ]
    },
    {
      "cell_type": "code",
      "metadata": {
        "id": "dH4K1qq7Xh-E"
      },
      "source": [
        "tweets_hate = api.search('nigger', count=20)"
      ],
      "execution_count": 18,
      "outputs": []
    },
    {
      "cell_type": "code",
      "metadata": {
        "id": "9o8d09W45tzS"
      },
      "source": [
        "hate_tweet=[]\n",
        "for tweet in tweets_hate:\n",
        "  hate_tweet.append(tweet.text)"
      ],
      "execution_count": 19,
      "outputs": []
    },
    {
      "cell_type": "code",
      "metadata": {
        "id": "qqV425E25t6O"
      },
      "source": [
        "df_hate=pd.DataFrame(hate_tweet)"
      ],
      "execution_count": 20,
      "outputs": []
    },
    {
      "cell_type": "code",
      "metadata": {
        "id": "oG3tChzd5uBz"
      },
      "source": [
        "df_hate['tweet']=df_hate"
      ],
      "execution_count": 21,
      "outputs": []
    },
    {
      "cell_type": "code",
      "metadata": {
        "id": "5s_hWXI46bbr"
      },
      "source": [
        "df_hate['label']=0"
      ],
      "execution_count": 22,
      "outputs": []
    },
    {
      "cell_type": "code",
      "metadata": {
        "id": "zSCQWYjADrKG"
      },
      "source": [
        "df_hate=df_hate[['tweet','label']]"
      ],
      "execution_count": 23,
      "outputs": []
    },
    {
      "cell_type": "code",
      "metadata": {
        "id": "8zbdFPFbDZLX"
      },
      "source": [
        "df=pd.concat([df_hate,df_offensive,df_normal])"
      ],
      "execution_count": 24,
      "outputs": []
    }
  ]
}