{
  "nbformat": 4,
  "nbformat_minor": 0,
  "metadata": {
    "colab": {
      "name": "scraping_twitteripynb",
      "provenance": [],
      "collapsed_sections": [],
      "mount_file_id": "173UBmsd4icOiw-4fk5U1VuvZWSzL0ZTF",
      "authorship_tag": "ABX9TyNmW7xzXVdrFI/JH9qojF2G",
      "include_colab_link": true
    },
    "kernelspec": {
      "display_name": "Python 3",
      "name": "python3"
    },
    "language_info": {
      "name": "python"
    }
  },
  "cells": [
    {
      "cell_type": "markdown",
      "metadata": {
        "id": "view-in-github",
        "colab_type": "text"
      },
      "source": [
        "<a href=\"https://colab.research.google.com/github/Naomiweinberger/Hate-Speech/blob/main/scraping_twitteripynb.ipynb\" target=\"_parent\"><img src=\"https://colab.research.google.com/assets/colab-badge.svg\" alt=\"Open In Colab\"/></a>"
      ]
    },
    {
      "cell_type": "code",
      "metadata": {
        "colab": {
          "base_uri": "https://localhost:8080/"
        },
        "id": "PbGN-MAjGgF6",
        "outputId": "d9b556c0-b44a-4503-9d4f-05c18adffa5a"
      },
      "source": [
        "! pip install twitter-to-sqlite"
      ],
      "execution_count": null,
      "outputs": [
        {
          "output_type": "stream",
          "name": "stdout",
          "text": [
            "Requirement already satisfied: twitter-to-sqlite in /usr/local/lib/python3.7/dist-packages (0.22)\n",
            "Requirement already satisfied: requests-oauthlib~=1.2.0 in /usr/local/lib/python3.7/dist-packages (from twitter-to-sqlite) (1.2.0)\n",
            "Requirement already satisfied: sqlite-utils>=2.4.2 in /usr/local/lib/python3.7/dist-packages (from twitter-to-sqlite) (3.17.1)\n",
            "Requirement already satisfied: python-dateutil in /usr/local/lib/python3.7/dist-packages (from twitter-to-sqlite) (2.8.2)\n",
            "Requirement already satisfied: oauthlib>=3.0.0 in /usr/local/lib/python3.7/dist-packages (from requests-oauthlib~=1.2.0->twitter-to-sqlite) (3.1.1)\n",
            "Requirement already satisfied: requests>=2.0.0 in /usr/local/lib/python3.7/dist-packages (from requests-oauthlib~=1.2.0->twitter-to-sqlite) (2.23.0)\n",
            "Requirement already satisfied: urllib3!=1.25.0,!=1.25.1,<1.26,>=1.21.1 in /usr/local/lib/python3.7/dist-packages (from requests>=2.0.0->requests-oauthlib~=1.2.0->twitter-to-sqlite) (1.24.3)\n",
            "Requirement already satisfied: certifi>=2017.4.17 in /usr/local/lib/python3.7/dist-packages (from requests>=2.0.0->requests-oauthlib~=1.2.0->twitter-to-sqlite) (2021.5.30)\n",
            "Requirement already satisfied: chardet<4,>=3.0.2 in /usr/local/lib/python3.7/dist-packages (from requests>=2.0.0->requests-oauthlib~=1.2.0->twitter-to-sqlite) (3.0.4)\n",
            "Requirement already satisfied: idna<3,>=2.5 in /usr/local/lib/python3.7/dist-packages (from requests>=2.0.0->requests-oauthlib~=1.2.0->twitter-to-sqlite) (2.10)\n",
            "Requirement already satisfied: dateutils in /usr/local/lib/python3.7/dist-packages (from sqlite-utils>=2.4.2->twitter-to-sqlite) (0.6.12)\n",
            "Requirement already satisfied: tabulate in /usr/local/lib/python3.7/dist-packages (from sqlite-utils>=2.4.2->twitter-to-sqlite) (0.8.9)\n",
            "Requirement already satisfied: sqlite-fts4 in /usr/local/lib/python3.7/dist-packages (from sqlite-utils>=2.4.2->twitter-to-sqlite) (1.0.1)\n",
            "Requirement already satisfied: click-default-group in /usr/local/lib/python3.7/dist-packages (from sqlite-utils>=2.4.2->twitter-to-sqlite) (1.2.2)\n",
            "Requirement already satisfied: click in /usr/local/lib/python3.7/dist-packages (from sqlite-utils>=2.4.2->twitter-to-sqlite) (7.1.2)\n",
            "Requirement already satisfied: pytz in /usr/local/lib/python3.7/dist-packages (from dateutils->sqlite-utils>=2.4.2->twitter-to-sqlite) (2018.9)\n",
            "Requirement already satisfied: six>=1.5 in /usr/local/lib/python3.7/dist-packages (from python-dateutil->twitter-to-sqlite) (1.15.0)\n"
          ]
        }
      ]
    },
    {
      "cell_type": "code",
      "metadata": {
        "id": "RzK1UUDWN2dx"
      },
      "source": [
        ""
      ],
      "execution_count": null,
      "outputs": []
    },
    {
      "cell_type": "code",
      "metadata": {
        "id": "OL9FTCfxJFYl",
        "colab": {
          "base_uri": "https://localhost:8080/",
          "height": 345
        },
        "outputId": "6cf75b33-7636-413a-eb4d-158e617cb663"
      },
      "source": [
        "import tweepy\n",
        "import pandas as pd\n",
        "import numpy as np\n",
        "import os, csv, logging, urllib, urllib3, json,bson, re,string\n",
        "from bson import json_util\n",
        "from datetime import datetime, timedelta\n",
        "from datetime import time\n",
        "import collections ,sys,math, time, datetime\n",
        "import pickle\n",
        "from sklearn.model_selection import train_test_split\n",
        "from config import CONSUMER_TOKEN, CONSUMER_SECRET,access_token,access_token_secret"
      ],
      "execution_count": 1,
      "outputs": [
        {
          "output_type": "error",
          "ename": "ModuleNotFoundError",
          "evalue": "ignored",
          "traceback": [
            "\u001b[0;31m---------------------------------------------------------------------------\u001b[0m",
            "\u001b[0;31mModuleNotFoundError\u001b[0m                       Traceback (most recent call last)",
            "\u001b[0;32m<ipython-input-1-f5883ca1013c>\u001b[0m in \u001b[0;36m<module>\u001b[0;34m()\u001b[0m\n\u001b[1;32m      9\u001b[0m \u001b[0;32mimport\u001b[0m \u001b[0mpickle\u001b[0m\u001b[0;34m\u001b[0m\u001b[0;34m\u001b[0m\u001b[0m\n\u001b[1;32m     10\u001b[0m \u001b[0;32mfrom\u001b[0m \u001b[0msklearn\u001b[0m\u001b[0;34m.\u001b[0m\u001b[0mmodel_selection\u001b[0m \u001b[0;32mimport\u001b[0m \u001b[0mtrain_test_split\u001b[0m\u001b[0;34m\u001b[0m\u001b[0;34m\u001b[0m\u001b[0m\n\u001b[0;32m---> 11\u001b[0;31m \u001b[0;32mfrom\u001b[0m \u001b[0mconfig\u001b[0m \u001b[0;32mimport\u001b[0m \u001b[0mCONSUMER_TOKEN\u001b[0m\u001b[0;34m,\u001b[0m \u001b[0mCONSUMER_SECRET\u001b[0m\u001b[0;34m,\u001b[0m\u001b[0maccess_token\u001b[0m\u001b[0;34m,\u001b[0m\u001b[0maccess_token_secret\u001b[0m\u001b[0;34m\u001b[0m\u001b[0;34m\u001b[0m\u001b[0m\n\u001b[0m",
            "\u001b[0;31mModuleNotFoundError\u001b[0m: No module named 'config'",
            "",
            "\u001b[0;31m---------------------------------------------------------------------------\u001b[0;32m\nNOTE: If your import is failing due to a missing package, you can\nmanually install dependencies using either !pip or !apt.\n\nTo view examples of installing some common dependencies, click the\n\"Open Examples\" button below.\n\u001b[0;31m---------------------------------------------------------------------------\u001b[0m\n"
          ],
          "errorDetails": {
            "actions": [
              {
                "action": "open_url",
                "actionText": "Open Examples",
                "url": "/notebooks/snippets/importing_libraries.ipynb"
              }
            ]
          }
        }
      ]
    },
    {
      "cell_type": "code",
      "metadata": {
        "id": "sLRnCMxeM18Y"
      },
      "source": [
        "auth  = tweepy.OAuthHandler(CONSUMER_TOKEN, \\\n",
        "                            CONSUMER_SECRET)\n",
        "auth.set_access_token(access_token,  \\\n",
        "                      access_token_secret)\n",
        "api = tweepy.API(auth)"
      ],
      "execution_count": null,
      "outputs": []
    },
    {
      "cell_type": "markdown",
      "metadata": {
        "id": "JDOgiDdn9hgw"
      },
      "source": [
        "**normal** **tweets**"
      ]
    },
    {
      "cell_type": "code",
      "metadata": {
        "id": "4kOqwYcyTsYd"
      },
      "source": [
        "tweets_normal = api.search('candy', count=20)\n"
      ],
      "execution_count": null,
      "outputs": []
    },
    {
      "cell_type": "code",
      "metadata": {
        "id": "GG6MCiQBgQwJ"
      },
      "source": [
        "normal_tweet=[]\n",
        "for tweet in tweets_normal:\n",
        "  normal_tweet.append(tweet.text)\n"
      ],
      "execution_count": null,
      "outputs": []
    },
    {
      "cell_type": "code",
      "metadata": {
        "colab": {
          "base_uri": "https://localhost:8080/"
        },
        "id": "d89ZHgqVghF4",
        "outputId": "45d17034-d1b6-4258-dc66-5ec833c9f667"
      },
      "source": [
        "print(normal_tweet)"
      ],
      "execution_count": null,
      "outputs": [
        {
          "output_type": "stream",
          "name": "stdout",
          "text": [
            "['Me &amp; marco toxiccccc😭🚩🚩🚩🚩🚩🚩🚩🚩🚩🚩🚩🚩🚩🚩🚩🚩🚩🚩🚩🚩🚩🚩🚩🚩🚩🚩🚩🚩🚩🚩', 'RT @bigbittybog: socialism is when no good candy on halloween https://t.co/MwbmLveNmk', 'isso aq ficou bonito mesmo to adorando o conceito do cotton candy antes do drama sair https://t.co/y5ObZnhkYV', 'RT @bigbittybog: socialism is when no good candy on halloween https://t.co/MwbmLveNmk', '@jooniestokyo GIVE ME THE CANDY https://t.co/s8bQ4DGHBx', 'RT @bigbittybog: socialism is when no good candy on halloween https://t.co/MwbmLveNmk', '@oshisann_CANDY ！？え、どうしたの？？', 'RT @bigbittybog: socialism is when no good candy on halloween https://t.co/MwbmLveNmk', 'RT @bigbittybog: socialism is when no good candy on halloween https://t.co/MwbmLveNmk', 'RT @DiscussingFilm: The first look at Elizabeth Olsen as Candy Montgomery in HBO Max’s ‘LOVE AND DEATH’.\\n\\nThe limited series follows the tr…', \"@AriadnePicaro There's one for snacks too, they even have popcorn bags and instant noodle packs in there if you nee… https://t.co/7wRNNWaulB\", 'RT @FilmUpdates: First Look at Elizabeth Olsen as Candy Montgomery in HBO Max’s ‘LOVE AND DEATH’. https://t.co/FgIsZvk5jJ', '100% necessary.\\n\\nFestival of the Lost is the Pinnacle of Endgame content.\\n\\nLetting players get too many drops of a… https://t.co/G8wPWhvjoR', 'Even better, next run I got candy. That’s it. No Spectral Pages at all. FFS man, haha. https://t.co/EMyU7rLzvV', 'TWICE 「Candy Pop」 Music Video reach 143M views in YouTube. https://t.co/0VOuICz7i8', \"@MartinAshwood @PrisonPlanet @theneedledrop Heh, it could have been funnier if this video didn't exist, why is Paul… https://t.co/y6jRTLpnUK\", \"@localswampgay I'm not sure if I'll have energy to do much this year. Might just turn off the lights and eat all the candy myself again. 😎\", 'RT @SuneeratThongr1: ขายไม่ได้เลย ไม่ซื้อไม่เป็นช่วยรีทวิตให้ป้าหน่อยคะ รับทำข้าวกล่องพร้อมออกไปแจกแทนลูกค้า ในนามกลุ่มfc ดารา นักร้อง หรือ…', 'Am I bugging when I say that I actually like candy corn?', 'RT @bigbittybog: socialism is when no good candy on halloween https://t.co/MwbmLveNmk']\n"
          ]
        }
      ]
    },
    {
      "cell_type": "code",
      "metadata": {
        "id": "6x-AfDRsg0Sq"
      },
      "source": [
        "df_normal=pd.DataFrame(normal_tweet)"
      ],
      "execution_count": null,
      "outputs": []
    },
    {
      "cell_type": "code",
      "metadata": {
        "id": "VDYXI3xPgCE4"
      },
      "source": [
        "df_normal['tweet']=df_normal\n",
        "df_normal['label']=2\n",
        "df_normal=df_normal[['tweet','label']]"
      ],
      "execution_count": null,
      "outputs": []
    },
    {
      "cell_type": "code",
      "metadata": {
        "colab": {
          "base_uri": "https://localhost:8080/",
          "height": 670
        },
        "id": "KeXJKUkshYJS",
        "outputId": "7ccebcd0-631a-4067-afb4-68ade1cefe4c"
      },
      "source": [
        "df_normal"
      ],
      "execution_count": null,
      "outputs": [
        {
          "output_type": "execute_result",
          "data": {
            "text/html": [
              "<div>\n",
              "<style scoped>\n",
              "    .dataframe tbody tr th:only-of-type {\n",
              "        vertical-align: middle;\n",
              "    }\n",
              "\n",
              "    .dataframe tbody tr th {\n",
              "        vertical-align: top;\n",
              "    }\n",
              "\n",
              "    .dataframe thead th {\n",
              "        text-align: right;\n",
              "    }\n",
              "</style>\n",
              "<table border=\"1\" class=\"dataframe\">\n",
              "  <thead>\n",
              "    <tr style=\"text-align: right;\">\n",
              "      <th></th>\n",
              "      <th>tweet</th>\n",
              "      <th>label</th>\n",
              "    </tr>\n",
              "  </thead>\n",
              "  <tbody>\n",
              "    <tr>\n",
              "      <th>0</th>\n",
              "      <td>Me &amp;amp; marco toxiccccc😭🚩🚩🚩🚩🚩🚩🚩🚩🚩🚩🚩🚩🚩🚩🚩🚩🚩🚩🚩🚩🚩...</td>\n",
              "      <td>2</td>\n",
              "    </tr>\n",
              "    <tr>\n",
              "      <th>1</th>\n",
              "      <td>RT @bigbittybog: socialism is when no good can...</td>\n",
              "      <td>2</td>\n",
              "    </tr>\n",
              "    <tr>\n",
              "      <th>2</th>\n",
              "      <td>isso aq ficou bonito mesmo to adorando o conce...</td>\n",
              "      <td>2</td>\n",
              "    </tr>\n",
              "    <tr>\n",
              "      <th>3</th>\n",
              "      <td>RT @bigbittybog: socialism is when no good can...</td>\n",
              "      <td>2</td>\n",
              "    </tr>\n",
              "    <tr>\n",
              "      <th>4</th>\n",
              "      <td>@jooniestokyo GIVE ME THE CANDY https://t.co/s...</td>\n",
              "      <td>2</td>\n",
              "    </tr>\n",
              "    <tr>\n",
              "      <th>5</th>\n",
              "      <td>RT @bigbittybog: socialism is when no good can...</td>\n",
              "      <td>2</td>\n",
              "    </tr>\n",
              "    <tr>\n",
              "      <th>6</th>\n",
              "      <td>@oshisann_CANDY ！？え、どうしたの？？</td>\n",
              "      <td>2</td>\n",
              "    </tr>\n",
              "    <tr>\n",
              "      <th>7</th>\n",
              "      <td>RT @bigbittybog: socialism is when no good can...</td>\n",
              "      <td>2</td>\n",
              "    </tr>\n",
              "    <tr>\n",
              "      <th>8</th>\n",
              "      <td>RT @bigbittybog: socialism is when no good can...</td>\n",
              "      <td>2</td>\n",
              "    </tr>\n",
              "    <tr>\n",
              "      <th>9</th>\n",
              "      <td>RT @DiscussingFilm: The first look at Elizabet...</td>\n",
              "      <td>2</td>\n",
              "    </tr>\n",
              "    <tr>\n",
              "      <th>10</th>\n",
              "      <td>@AriadnePicaro There's one for snacks too, the...</td>\n",
              "      <td>2</td>\n",
              "    </tr>\n",
              "    <tr>\n",
              "      <th>11</th>\n",
              "      <td>RT @FilmUpdates: First Look at Elizabeth Olsen...</td>\n",
              "      <td>2</td>\n",
              "    </tr>\n",
              "    <tr>\n",
              "      <th>12</th>\n",
              "      <td>100% necessary.\\n\\nFestival of the Lost is the...</td>\n",
              "      <td>2</td>\n",
              "    </tr>\n",
              "    <tr>\n",
              "      <th>13</th>\n",
              "      <td>Even better, next run I got candy. That’s it. ...</td>\n",
              "      <td>2</td>\n",
              "    </tr>\n",
              "    <tr>\n",
              "      <th>14</th>\n",
              "      <td>TWICE 「Candy Pop」 Music Video reach 143M views...</td>\n",
              "      <td>2</td>\n",
              "    </tr>\n",
              "    <tr>\n",
              "      <th>15</th>\n",
              "      <td>@MartinAshwood @PrisonPlanet @theneedledrop He...</td>\n",
              "      <td>2</td>\n",
              "    </tr>\n",
              "    <tr>\n",
              "      <th>16</th>\n",
              "      <td>@localswampgay I'm not sure if I'll have energ...</td>\n",
              "      <td>2</td>\n",
              "    </tr>\n",
              "    <tr>\n",
              "      <th>17</th>\n",
              "      <td>RT @SuneeratThongr1: ขายไม่ได้เลย ไม่ซื้อไม่เป...</td>\n",
              "      <td>2</td>\n",
              "    </tr>\n",
              "    <tr>\n",
              "      <th>18</th>\n",
              "      <td>Am I bugging when I say that I actually like c...</td>\n",
              "      <td>2</td>\n",
              "    </tr>\n",
              "    <tr>\n",
              "      <th>19</th>\n",
              "      <td>RT @bigbittybog: socialism is when no good can...</td>\n",
              "      <td>2</td>\n",
              "    </tr>\n",
              "  </tbody>\n",
              "</table>\n",
              "</div>"
            ],
            "text/plain": [
              "                                                tweet  label\n",
              "0   Me &amp; marco toxiccccc😭🚩🚩🚩🚩🚩🚩🚩🚩🚩🚩🚩🚩🚩🚩🚩🚩🚩🚩🚩🚩🚩...      2\n",
              "1   RT @bigbittybog: socialism is when no good can...      2\n",
              "2   isso aq ficou bonito mesmo to adorando o conce...      2\n",
              "3   RT @bigbittybog: socialism is when no good can...      2\n",
              "4   @jooniestokyo GIVE ME THE CANDY https://t.co/s...      2\n",
              "5   RT @bigbittybog: socialism is when no good can...      2\n",
              "6                         @oshisann_CANDY ！？え、どうしたの？？      2\n",
              "7   RT @bigbittybog: socialism is when no good can...      2\n",
              "8   RT @bigbittybog: socialism is when no good can...      2\n",
              "9   RT @DiscussingFilm: The first look at Elizabet...      2\n",
              "10  @AriadnePicaro There's one for snacks too, the...      2\n",
              "11  RT @FilmUpdates: First Look at Elizabeth Olsen...      2\n",
              "12  100% necessary.\\n\\nFestival of the Lost is the...      2\n",
              "13  Even better, next run I got candy. That’s it. ...      2\n",
              "14  TWICE 「Candy Pop」 Music Video reach 143M views...      2\n",
              "15  @MartinAshwood @PrisonPlanet @theneedledrop He...      2\n",
              "16  @localswampgay I'm not sure if I'll have energ...      2\n",
              "17  RT @SuneeratThongr1: ขายไม่ได้เลย ไม่ซื้อไม่เป...      2\n",
              "18  Am I bugging when I say that I actually like c...      2\n",
              "19  RT @bigbittybog: socialism is when no good can...      2"
            ]
          },
          "metadata": {},
          "execution_count": 10
        }
      ]
    },
    {
      "cell_type": "markdown",
      "metadata": {
        "id": "D_TOKZej-OU3"
      },
      "source": [
        "**offensive**"
      ]
    },
    {
      "cell_type": "code",
      "metadata": {
        "id": "uV421Xo4WOku"
      },
      "source": [
        "tweets_offensive = api.search('fag', count=20)\n",
        "tweets_offensive_2=api.search('skank', count=20)"
      ],
      "execution_count": null,
      "outputs": []
    },
    {
      "cell_type": "code",
      "metadata": {
        "id": "NnGI_EaJ3VjN"
      },
      "source": [
        "offensive_tweet=[]\n",
        "for tweet in tweets_offensive:\n",
        "  offensive_tweet.append(tweet.text)\n",
        "offensive_tweet_2=[]\n",
        "for tweet in tweets_offensive_2:\n",
        "  offensive_tweet_2.append(tweet.text)"
      ],
      "execution_count": null,
      "outputs": []
    },
    {
      "cell_type": "code",
      "metadata": {
        "id": "RConKbOe3QGM"
      },
      "source": [
        "df_offensive_1=pd.DataFrame(offensive_tweet)\n",
        "df_offensive_2=pd.DataFrame(offensive_tweet_2)\n"
      ],
      "execution_count": null,
      "outputs": []
    },
    {
      "cell_type": "code",
      "metadata": {
        "id": "O0mLfjJnBx1h"
      },
      "source": [
        "df_offensive_1['tweet']=df_offensive_1\n",
        "df_offensive_1['label']=1\n",
        "df_offensive_1=df_offensive_1[['tweet','label']]"
      ],
      "execution_count": null,
      "outputs": []
    },
    {
      "cell_type": "code",
      "metadata": {
        "id": "5TyYin0TCNCO"
      },
      "source": [
        "df_offensive_2['tweet']=df_offensive_2\n",
        "df_offensive_2['label']=1\n",
        "df_offensive_2=df_offensive_2[['tweet','label']]"
      ],
      "execution_count": null,
      "outputs": []
    },
    {
      "cell_type": "code",
      "metadata": {
        "id": "Mx1jf5jNCjBy"
      },
      "source": [
        "df_offensive=pd.concat([df_offensive_1,df_offensive_2])"
      ],
      "execution_count": null,
      "outputs": []
    },
    {
      "cell_type": "code",
      "metadata": {
        "colab": {
          "base_uri": "https://localhost:8080/",
          "height": 1000
        },
        "id": "3Hhv4hwRf8uh",
        "outputId": "a84569a3-1310-4be0-bb2e-25ad05b6694e"
      },
      "source": [
        "df_offensive"
      ],
      "execution_count": null,
      "outputs": [
        {
          "output_type": "execute_result",
          "data": {
            "text/html": [
              "<div>\n",
              "<style scoped>\n",
              "    .dataframe tbody tr th:only-of-type {\n",
              "        vertical-align: middle;\n",
              "    }\n",
              "\n",
              "    .dataframe tbody tr th {\n",
              "        vertical-align: top;\n",
              "    }\n",
              "\n",
              "    .dataframe thead th {\n",
              "        text-align: right;\n",
              "    }\n",
              "</style>\n",
              "<table border=\"1\" class=\"dataframe\">\n",
              "  <thead>\n",
              "    <tr style=\"text-align: right;\">\n",
              "      <th></th>\n",
              "      <th>tweet</th>\n",
              "      <th>label</th>\n",
              "    </tr>\n",
              "  </thead>\n",
              "  <tbody>\n",
              "    <tr>\n",
              "      <th>0</th>\n",
              "      <td>@thecoldstat99 @stateofhockey99 Well I’m not a...</td>\n",
              "      <td>1</td>\n",
              "    </tr>\n",
              "    <tr>\n",
              "      <th>1</th>\n",
              "      <td>@BxsicSpace me going back for my 8th fag https...</td>\n",
              "      <td>1</td>\n",
              "    </tr>\n",
              "    <tr>\n",
              "      <th>2</th>\n",
              "      <td>@matuedoff Temos q cair com eles ou vai ficar ...</td>\n",
              "      <td>1</td>\n",
              "    </tr>\n",
              "    <tr>\n",
              "      <th>3</th>\n",
              "      <td>f slur // \\n im not a fag shut the fuck up</td>\n",
              "      <td>1</td>\n",
              "    </tr>\n",
              "    <tr>\n",
              "      <th>4</th>\n",
              "      <td>@_Souzaw1 Puta merda</td>\n",
              "      <td>1</td>\n",
              "    </tr>\n",
              "    <tr>\n",
              "      <th>5</th>\n",
              "      <td>@unsweetteaIiker Bc I’m a fag obsessed w Mitski?</td>\n",
              "      <td>1</td>\n",
              "    </tr>\n",
              "    <tr>\n",
              "      <th>6</th>\n",
              "      <td>@fluxo_splash Aqui em casa tem um pano igual e...</td>\n",
              "      <td>1</td>\n",
              "    </tr>\n",
              "    <tr>\n",
              "      <th>7</th>\n",
              "      <td>RT @tylerthecreator: If You Get Cyber Bullied,...</td>\n",
              "      <td>1</td>\n",
              "    </tr>\n",
              "    <tr>\n",
              "      <th>8</th>\n",
              "      <td>RT @ramonaslick: I am in such a queer bubble t...</td>\n",
              "      <td>1</td>\n",
              "    </tr>\n",
              "    <tr>\n",
              "      <th>9</th>\n",
              "      <td>@mastersize22 @guysbigfeet1 @RTtruealpha @FagF...</td>\n",
              "      <td>1</td>\n",
              "    </tr>\n",
              "    <tr>\n",
              "      <th>10</th>\n",
              "      <td>God I’m such a fag I might just get into music...</td>\n",
              "      <td>1</td>\n",
              "    </tr>\n",
              "    <tr>\n",
              "      <th>11</th>\n",
              "      <td>RT @ramonaslick: I am in such a queer bubble t...</td>\n",
              "      <td>1</td>\n",
              "    </tr>\n",
              "    <tr>\n",
              "      <th>0</th>\n",
              "      <td>RT @thiago_p: Coldplay é o Skank dos gringos.\\...</td>\n",
              "      <td>1</td>\n",
              "    </tr>\n",
              "    <tr>\n",
              "      <th>1</th>\n",
              "      <td>RT @thiago_p: Coldplay é o Skank dos gringos.\\...</td>\n",
              "      <td>1</td>\n",
              "    </tr>\n",
              "    <tr>\n",
              "      <th>2</th>\n",
              "      <td>RT @thiago_p: Coldplay é o Skank dos gringos.\\...</td>\n",
              "      <td>1</td>\n",
              "    </tr>\n",
              "    <tr>\n",
              "      <th>3</th>\n",
              "      <td>RT @thiago_p: Coldplay é o Skank dos gringos.\\...</td>\n",
              "      <td>1</td>\n",
              "    </tr>\n",
              "    <tr>\n",
              "      <th>4</th>\n",
              "      <td>@thiago_p Coldplay nunca irá se comparar a Skank</td>\n",
              "      <td>1</td>\n",
              "    </tr>\n",
              "    <tr>\n",
              "      <th>5</th>\n",
              "      <td>RT @burendoru: E sempre bom lembrar que \\nCold...</td>\n",
              "      <td>1</td>\n",
              "    </tr>\n",
              "    <tr>\n",
              "      <th>6</th>\n",
              "      <td>RT @thiago_p: Coldplay é o Skank dos gringos.\\...</td>\n",
              "      <td>1</td>\n",
              "    </tr>\n",
              "    <tr>\n",
              "      <th>7</th>\n",
              "      <td>pois é skank eu ainda penso nele mas ele já nã...</td>\n",
              "      <td>1</td>\n",
              "    </tr>\n",
              "    <tr>\n",
              "      <th>8</th>\n",
              "      <td>RT @thiago_p: Coldplay é o Skank dos gringos.\\...</td>\n",
              "      <td>1</td>\n",
              "    </tr>\n",
              "    <tr>\n",
              "      <th>9</th>\n",
              "      <td>RT @thiago_p: Coldplay é o Skank dos gringos.\\...</td>\n",
              "      <td>1</td>\n",
              "    </tr>\n",
              "    <tr>\n",
              "      <th>10</th>\n",
              "      <td>RT @thiago_p: Coldplay é o Skank dos gringos.\\...</td>\n",
              "      <td>1</td>\n",
              "    </tr>\n",
              "    <tr>\n",
              "      <th>11</th>\n",
              "      <td>RT @thiago_p: Coldplay é o Skank dos gringos.\\...</td>\n",
              "      <td>1</td>\n",
              "    </tr>\n",
              "    <tr>\n",
              "      <th>12</th>\n",
              "      <td>RT @douglitons: @thiago_p Skank e Coldplay mar...</td>\n",
              "      <td>1</td>\n",
              "    </tr>\n",
              "    <tr>\n",
              "      <th>13</th>\n",
              "      <td>@CriticalThotPhD Is there a good reason why yo...</td>\n",
              "      <td>1</td>\n",
              "    </tr>\n",
              "    <tr>\n",
              "      <th>14</th>\n",
              "      <td>RT @semper_vincit: This happened while the ska...</td>\n",
              "      <td>1</td>\n",
              "    </tr>\n",
              "    <tr>\n",
              "      <th>15</th>\n",
              "      <td>RT @thiago_p: Coldplay é o Skank dos gringos.\\...</td>\n",
              "      <td>1</td>\n",
              "    </tr>\n",
              "    <tr>\n",
              "      <th>16</th>\n",
              "      <td>RT @_borgg: @thiago_p Eu escuto skank por hora...</td>\n",
              "      <td>1</td>\n",
              "    </tr>\n",
              "    <tr>\n",
              "      <th>17</th>\n",
              "      <td>RT @oiseauopera: Respeita o Skank caralho</td>\n",
              "      <td>1</td>\n",
              "    </tr>\n",
              "    <tr>\n",
              "      <th>18</th>\n",
              "      <td>RT @semper_vincit: @Chahuapa @roy_lanek @Gerom...</td>\n",
              "      <td>1</td>\n",
              "    </tr>\n",
              "    <tr>\n",
              "      <th>19</th>\n",
              "      <td>RT @thiago_p: Coldplay é o Skank dos gringos.\\...</td>\n",
              "      <td>1</td>\n",
              "    </tr>\n",
              "  </tbody>\n",
              "</table>\n",
              "</div>"
            ],
            "text/plain": [
              "                                                tweet  label\n",
              "0   @thecoldstat99 @stateofhockey99 Well I’m not a...      1\n",
              "1   @BxsicSpace me going back for my 8th fag https...      1\n",
              "2   @matuedoff Temos q cair com eles ou vai ficar ...      1\n",
              "3          f slur // \\n im not a fag shut the fuck up      1\n",
              "4                                @_Souzaw1 Puta merda      1\n",
              "5    @unsweetteaIiker Bc I’m a fag obsessed w Mitski?      1\n",
              "6   @fluxo_splash Aqui em casa tem um pano igual e...      1\n",
              "7   RT @tylerthecreator: If You Get Cyber Bullied,...      1\n",
              "8   RT @ramonaslick: I am in such a queer bubble t...      1\n",
              "9   @mastersize22 @guysbigfeet1 @RTtruealpha @FagF...      1\n",
              "10  God I’m such a fag I might just get into music...      1\n",
              "11  RT @ramonaslick: I am in such a queer bubble t...      1\n",
              "0   RT @thiago_p: Coldplay é o Skank dos gringos.\\...      1\n",
              "1   RT @thiago_p: Coldplay é o Skank dos gringos.\\...      1\n",
              "2   RT @thiago_p: Coldplay é o Skank dos gringos.\\...      1\n",
              "3   RT @thiago_p: Coldplay é o Skank dos gringos.\\...      1\n",
              "4    @thiago_p Coldplay nunca irá se comparar a Skank      1\n",
              "5   RT @burendoru: E sempre bom lembrar que \\nCold...      1\n",
              "6   RT @thiago_p: Coldplay é o Skank dos gringos.\\...      1\n",
              "7   pois é skank eu ainda penso nele mas ele já nã...      1\n",
              "8   RT @thiago_p: Coldplay é o Skank dos gringos.\\...      1\n",
              "9   RT @thiago_p: Coldplay é o Skank dos gringos.\\...      1\n",
              "10  RT @thiago_p: Coldplay é o Skank dos gringos.\\...      1\n",
              "11  RT @thiago_p: Coldplay é o Skank dos gringos.\\...      1\n",
              "12  RT @douglitons: @thiago_p Skank e Coldplay mar...      1\n",
              "13  @CriticalThotPhD Is there a good reason why yo...      1\n",
              "14  RT @semper_vincit: This happened while the ska...      1\n",
              "15  RT @thiago_p: Coldplay é o Skank dos gringos.\\...      1\n",
              "16  RT @_borgg: @thiago_p Eu escuto skank por hora...      1\n",
              "17          RT @oiseauopera: Respeita o Skank caralho      1\n",
              "18  RT @semper_vincit: @Chahuapa @roy_lanek @Gerom...      1\n",
              "19  RT @thiago_p: Coldplay é o Skank dos gringos.\\...      1"
            ]
          },
          "metadata": {},
          "execution_count": 17
        }
      ]
    },
    {
      "cell_type": "markdown",
      "metadata": {
        "id": "LgPxhmiUDEkZ"
      },
      "source": [
        "**Hate**"
      ]
    },
    {
      "cell_type": "code",
      "metadata": {
        "id": "dH4K1qq7Xh-E"
      },
      "source": [
        "hate_tweets = api.search('hitler', count=20)"
      ],
      "execution_count": null,
      "outputs": []
    },
    {
      "cell_type": "code",
      "metadata": {
        "id": "6QbU6iCnXOC4"
      },
      "source": [
        "hate_tweet=[]\n",
        "for tweet in hate_tweets:\n",
        "  hate_tweet.append(tweet.text)\n"
      ],
      "execution_count": null,
      "outputs": []
    },
    {
      "cell_type": "code",
      "metadata": {
        "colab": {
          "base_uri": "https://localhost:8080/"
        },
        "id": "aX3vn7nfXt7V",
        "outputId": "fb7869c4-64da-4019-ab1d-362c3d39d7cc"
      },
      "source": [
        "print(hate_tweet)"
      ],
      "execution_count": null,
      "outputs": [
        {
          "output_type": "stream",
          "name": "stdout",
          "text": [
            "['RT @TruthAbtChina: The Chinese Communist Party is now copying directly from Hitler\\'s playbook in their diplomacy on Taiwan.\\n\\nThe \"Final Sol…', 'RT @saiyan_prince01: In English Indian PM is not less than hitler \\n\\n#आज_का_रावण_नरेंद्र_मोदी', '@avieu Termine de ver una serie en NETFLIX de Hitler y de verdad que da escalofríos escuchar hablar a @lopezobrador_', 'RT @EWErickson: Reminder: Every time you hear a reporter use the phrase \"the big lie\" to talk about the GOP, they\\'re using a phrase coined…', 'RT @DomingosNoguei7: #ExcumunhãoParaBolsonaro\\nHitler, Mussolini e o Papa, de novo?!\\n@ativistaPT2022 \\n@belinaluma \\n@BolsonaraMaria \\n@ChaviRu…', 'Being racist and homophobic and Hitler for laughs is so played out now….', '@NBCNews What exactly IS the opposing perspective?!?  Hitler’s???', 'RT @adbacchi: Theodor Morell foi o médico pessoal de Hitler. Ficou conhecido pelos seus \"tratamentos não convencionais\". Dentre diversas su…', 'RT @saiyan_prince01: In English Indian PM is not less than hitler \\n\\n#आज_का_रावण_नरेंद्र_मोदी', 'RT @JaskMander: Last Year Panjab and Haryana Farmers burnt Effigies of Modi and many other like him on Dussehra. The PM has many different…', 'Parker talked with Mark while Hitler killed someone in the background', \"RT @slater_jona: @lindyli Here's an opposing View... If Hitler was Aborted\", 'RT @JaskMander: Last Year Panjab and Haryana Farmers burnt Effigies of Modi and many other like him on Dussehra. The PM has many different…', '@FeysPerson @NBCNews The opposing perspective is that Jews may actually be an evil race of people hell bent on the… https://t.co/HQaXwrIRAJ', 'RT @saiyan_prince01: In English Indian PM is not less than hitler \\n\\n#आज_का_रावण_नरेंद्र_मोदी', 'RT @UNWatch: 🇺🇳 The U.N. bars Israeli Ambassador Gilad Erdan from exposing antisemitic incitement by UNRWA teachers, as documented in our r…', 'RT @JaskMander: Last Year Panjab and Haryana Farmers burnt Effigies of Modi and many other like him on Dussehra. The PM has many different…', 'RT @incorrect_CM: Emily: If I had a gun with two bullets and I was in a room with Hitler, Bin Laden and Strauss\\n\\nEmily: I would shoot Strau…', 'RT @_AlejoSanchez: Y la solución es Aristigueta jajajaja estamos en el hueco del culo de Hitler verdaderamente', 'RT @lindyli: Texas admin: “Make sure that if you have a book on the Holocaust, that you have 1 that has an opposing, that has other perspec…']\n"
          ]
        }
      ]
    },
    {
      "cell_type": "code",
      "metadata": {
        "id": "21YKklZXX0_-"
      },
      "source": [
        "df_hate_1=pd.DataFrame(hate_tweet)"
      ],
      "execution_count": null,
      "outputs": []
    },
    {
      "cell_type": "code",
      "metadata": {
        "id": "wug4J-NFZdVn"
      },
      "source": [
        ""
      ],
      "execution_count": null,
      "outputs": []
    },
    {
      "cell_type": "code",
      "metadata": {
        "id": "psne7kKwYAXd"
      },
      "source": [
        "df_hate_1['tweet']=df_hate_1"
      ],
      "execution_count": null,
      "outputs": []
    },
    {
      "cell_type": "code",
      "metadata": {
        "id": "8j7UDHdUYDO_"
      },
      "source": [
        "df_hate_1['label']=0"
      ],
      "execution_count": null,
      "outputs": []
    },
    {
      "cell_type": "code",
      "metadata": {
        "id": "KXFs1Up6fhIm"
      },
      "source": [
        "df_hate_1=df_hate_1[['label','tweet']]"
      ],
      "execution_count": null,
      "outputs": []
    },
    {
      "cell_type": "code",
      "metadata": {
        "colab": {
          "base_uri": "https://localhost:8080/",
          "height": 670
        },
        "id": "oWZSU2DGfsHH",
        "outputId": "54656f9f-61f8-4e29-bb7b-8ea3c60f4855"
      },
      "source": [
        "df_hate_1"
      ],
      "execution_count": null,
      "outputs": [
        {
          "output_type": "execute_result",
          "data": {
            "text/html": [
              "<div>\n",
              "<style scoped>\n",
              "    .dataframe tbody tr th:only-of-type {\n",
              "        vertical-align: middle;\n",
              "    }\n",
              "\n",
              "    .dataframe tbody tr th {\n",
              "        vertical-align: top;\n",
              "    }\n",
              "\n",
              "    .dataframe thead th {\n",
              "        text-align: right;\n",
              "    }\n",
              "</style>\n",
              "<table border=\"1\" class=\"dataframe\">\n",
              "  <thead>\n",
              "    <tr style=\"text-align: right;\">\n",
              "      <th></th>\n",
              "      <th>label</th>\n",
              "      <th>tweet</th>\n",
              "    </tr>\n",
              "  </thead>\n",
              "  <tbody>\n",
              "    <tr>\n",
              "      <th>0</th>\n",
              "      <td>0</td>\n",
              "      <td>RT @TruthAbtChina: The Chinese Communist Party...</td>\n",
              "    </tr>\n",
              "    <tr>\n",
              "      <th>1</th>\n",
              "      <td>0</td>\n",
              "      <td>RT @saiyan_prince01: In English Indian PM is n...</td>\n",
              "    </tr>\n",
              "    <tr>\n",
              "      <th>2</th>\n",
              "      <td>0</td>\n",
              "      <td>@avieu Termine de ver una serie en NETFLIX de ...</td>\n",
              "    </tr>\n",
              "    <tr>\n",
              "      <th>3</th>\n",
              "      <td>0</td>\n",
              "      <td>RT @EWErickson: Reminder: Every time you hear ...</td>\n",
              "    </tr>\n",
              "    <tr>\n",
              "      <th>4</th>\n",
              "      <td>0</td>\n",
              "      <td>RT @DomingosNoguei7: #ExcumunhãoParaBolsonaro\\...</td>\n",
              "    </tr>\n",
              "    <tr>\n",
              "      <th>5</th>\n",
              "      <td>0</td>\n",
              "      <td>Being racist and homophobic and Hitler for lau...</td>\n",
              "    </tr>\n",
              "    <tr>\n",
              "      <th>6</th>\n",
              "      <td>0</td>\n",
              "      <td>@NBCNews What exactly IS the opposing perspect...</td>\n",
              "    </tr>\n",
              "    <tr>\n",
              "      <th>7</th>\n",
              "      <td>0</td>\n",
              "      <td>RT @adbacchi: Theodor Morell foi o médico pess...</td>\n",
              "    </tr>\n",
              "    <tr>\n",
              "      <th>8</th>\n",
              "      <td>0</td>\n",
              "      <td>RT @saiyan_prince01: In English Indian PM is n...</td>\n",
              "    </tr>\n",
              "    <tr>\n",
              "      <th>9</th>\n",
              "      <td>0</td>\n",
              "      <td>RT @JaskMander: Last Year Panjab and Haryana F...</td>\n",
              "    </tr>\n",
              "    <tr>\n",
              "      <th>10</th>\n",
              "      <td>0</td>\n",
              "      <td>Parker talked with Mark while Hitler killed so...</td>\n",
              "    </tr>\n",
              "    <tr>\n",
              "      <th>11</th>\n",
              "      <td>0</td>\n",
              "      <td>RT @slater_jona: @lindyli Here's an opposing V...</td>\n",
              "    </tr>\n",
              "    <tr>\n",
              "      <th>12</th>\n",
              "      <td>0</td>\n",
              "      <td>RT @JaskMander: Last Year Panjab and Haryana F...</td>\n",
              "    </tr>\n",
              "    <tr>\n",
              "      <th>13</th>\n",
              "      <td>0</td>\n",
              "      <td>@FeysPerson @NBCNews The opposing perspective ...</td>\n",
              "    </tr>\n",
              "    <tr>\n",
              "      <th>14</th>\n",
              "      <td>0</td>\n",
              "      <td>RT @saiyan_prince01: In English Indian PM is n...</td>\n",
              "    </tr>\n",
              "    <tr>\n",
              "      <th>15</th>\n",
              "      <td>0</td>\n",
              "      <td>RT @UNWatch: 🇺🇳 The U.N. bars Israeli Ambassad...</td>\n",
              "    </tr>\n",
              "    <tr>\n",
              "      <th>16</th>\n",
              "      <td>0</td>\n",
              "      <td>RT @JaskMander: Last Year Panjab and Haryana F...</td>\n",
              "    </tr>\n",
              "    <tr>\n",
              "      <th>17</th>\n",
              "      <td>0</td>\n",
              "      <td>RT @incorrect_CM: Emily: If I had a gun with t...</td>\n",
              "    </tr>\n",
              "    <tr>\n",
              "      <th>18</th>\n",
              "      <td>0</td>\n",
              "      <td>RT @_AlejoSanchez: Y la solución es Aristiguet...</td>\n",
              "    </tr>\n",
              "    <tr>\n",
              "      <th>19</th>\n",
              "      <td>0</td>\n",
              "      <td>RT @lindyli: Texas admin: “Make sure that if y...</td>\n",
              "    </tr>\n",
              "  </tbody>\n",
              "</table>\n",
              "</div>"
            ],
            "text/plain": [
              "    label                                              tweet\n",
              "0       0  RT @TruthAbtChina: The Chinese Communist Party...\n",
              "1       0  RT @saiyan_prince01: In English Indian PM is n...\n",
              "2       0  @avieu Termine de ver una serie en NETFLIX de ...\n",
              "3       0  RT @EWErickson: Reminder: Every time you hear ...\n",
              "4       0  RT @DomingosNoguei7: #ExcumunhãoParaBolsonaro\\...\n",
              "5       0  Being racist and homophobic and Hitler for lau...\n",
              "6       0  @NBCNews What exactly IS the opposing perspect...\n",
              "7       0  RT @adbacchi: Theodor Morell foi o médico pess...\n",
              "8       0  RT @saiyan_prince01: In English Indian PM is n...\n",
              "9       0  RT @JaskMander: Last Year Panjab and Haryana F...\n",
              "10      0  Parker talked with Mark while Hitler killed so...\n",
              "11      0  RT @slater_jona: @lindyli Here's an opposing V...\n",
              "12      0  RT @JaskMander: Last Year Panjab and Haryana F...\n",
              "13      0  @FeysPerson @NBCNews The opposing perspective ...\n",
              "14      0  RT @saiyan_prince01: In English Indian PM is n...\n",
              "15      0  RT @UNWatch: 🇺🇳 The U.N. bars Israeli Ambassad...\n",
              "16      0  RT @JaskMander: Last Year Panjab and Haryana F...\n",
              "17      0  RT @incorrect_CM: Emily: If I had a gun with t...\n",
              "18      0  RT @_AlejoSanchez: Y la solución es Aristiguet...\n",
              "19      0  RT @lindyli: Texas admin: “Make sure that if y..."
            ]
          },
          "metadata": {},
          "execution_count": 25
        }
      ]
    },
    {
      "cell_type": "code",
      "metadata": {
        "id": "9w6AQSKqAh7H"
      },
      "source": [
        "final_df_1=pd.concat([df_hate_1,df_offensive,df_normal])"
      ],
      "execution_count": null,
      "outputs": []
    },
    {
      "cell_type": "code",
      "metadata": {
        "colab": {
          "base_uri": "https://localhost:8080/",
          "height": 419
        },
        "id": "98NceQmvhl4N",
        "outputId": "7afaf6e1-8791-4615-b87c-2d72ad7b9fba"
      },
      "source": [
        "final_df_1"
      ],
      "execution_count": null,
      "outputs": [
        {
          "output_type": "execute_result",
          "data": {
            "text/html": [
              "<div>\n",
              "<style scoped>\n",
              "    .dataframe tbody tr th:only-of-type {\n",
              "        vertical-align: middle;\n",
              "    }\n",
              "\n",
              "    .dataframe tbody tr th {\n",
              "        vertical-align: top;\n",
              "    }\n",
              "\n",
              "    .dataframe thead th {\n",
              "        text-align: right;\n",
              "    }\n",
              "</style>\n",
              "<table border=\"1\" class=\"dataframe\">\n",
              "  <thead>\n",
              "    <tr style=\"text-align: right;\">\n",
              "      <th></th>\n",
              "      <th>label</th>\n",
              "      <th>tweet</th>\n",
              "    </tr>\n",
              "  </thead>\n",
              "  <tbody>\n",
              "    <tr>\n",
              "      <th>0</th>\n",
              "      <td>0</td>\n",
              "      <td>RT @TruthAbtChina: The Chinese Communist Party...</td>\n",
              "    </tr>\n",
              "    <tr>\n",
              "      <th>1</th>\n",
              "      <td>0</td>\n",
              "      <td>RT @saiyan_prince01: In English Indian PM is n...</td>\n",
              "    </tr>\n",
              "    <tr>\n",
              "      <th>2</th>\n",
              "      <td>0</td>\n",
              "      <td>@avieu Termine de ver una serie en NETFLIX de ...</td>\n",
              "    </tr>\n",
              "    <tr>\n",
              "      <th>3</th>\n",
              "      <td>0</td>\n",
              "      <td>RT @EWErickson: Reminder: Every time you hear ...</td>\n",
              "    </tr>\n",
              "    <tr>\n",
              "      <th>4</th>\n",
              "      <td>0</td>\n",
              "      <td>RT @DomingosNoguei7: #ExcumunhãoParaBolsonaro\\...</td>\n",
              "    </tr>\n",
              "    <tr>\n",
              "      <th>...</th>\n",
              "      <td>...</td>\n",
              "      <td>...</td>\n",
              "    </tr>\n",
              "    <tr>\n",
              "      <th>15</th>\n",
              "      <td>2</td>\n",
              "      <td>@MartinAshwood @PrisonPlanet @theneedledrop He...</td>\n",
              "    </tr>\n",
              "    <tr>\n",
              "      <th>16</th>\n",
              "      <td>2</td>\n",
              "      <td>@localswampgay I'm not sure if I'll have energ...</td>\n",
              "    </tr>\n",
              "    <tr>\n",
              "      <th>17</th>\n",
              "      <td>2</td>\n",
              "      <td>RT @SuneeratThongr1: ขายไม่ได้เลย ไม่ซื้อไม่เป...</td>\n",
              "    </tr>\n",
              "    <tr>\n",
              "      <th>18</th>\n",
              "      <td>2</td>\n",
              "      <td>Am I bugging when I say that I actually like c...</td>\n",
              "    </tr>\n",
              "    <tr>\n",
              "      <th>19</th>\n",
              "      <td>2</td>\n",
              "      <td>RT @bigbittybog: socialism is when no good can...</td>\n",
              "    </tr>\n",
              "  </tbody>\n",
              "</table>\n",
              "<p>72 rows × 2 columns</p>\n",
              "</div>"
            ],
            "text/plain": [
              "    label                                              tweet\n",
              "0       0  RT @TruthAbtChina: The Chinese Communist Party...\n",
              "1       0  RT @saiyan_prince01: In English Indian PM is n...\n",
              "2       0  @avieu Termine de ver una serie en NETFLIX de ...\n",
              "3       0  RT @EWErickson: Reminder: Every time you hear ...\n",
              "4       0  RT @DomingosNoguei7: #ExcumunhãoParaBolsonaro\\...\n",
              "..    ...                                                ...\n",
              "15      2  @MartinAshwood @PrisonPlanet @theneedledrop He...\n",
              "16      2  @localswampgay I'm not sure if I'll have energ...\n",
              "17      2  RT @SuneeratThongr1: ขายไม่ได้เลย ไม่ซื้อไม่เป...\n",
              "18      2  Am I bugging when I say that I actually like c...\n",
              "19      2  RT @bigbittybog: socialism is when no good can...\n",
              "\n",
              "[72 rows x 2 columns]"
            ]
          },
          "metadata": {},
          "execution_count": 29
        }
      ]
    },
    {
      "cell_type": "code",
      "metadata": {
        "id": "RRcaLl8H_3By"
      },
      "source": [
        "final_df_1.to_csv('twitter_2.csv') "
      ],
      "execution_count": null,
      "outputs": []
    },
    {
      "cell_type": "markdown",
      "metadata": {
        "id": "xi1YkBkH__Qt"
      },
      "source": [
        ""
      ]
    },
    {
      "cell_type": "code",
      "metadata": {
        "id": "seTX7reMm7TL"
      },
      "source": [
        "o_tweets = api.search('pussy', count=100)\n"
      ],
      "execution_count": null,
      "outputs": []
    },
    {
      "cell_type": "code",
      "metadata": {
        "id": "gM251d7PnSsd"
      },
      "source": [
        "o_tweet=[]"
      ],
      "execution_count": null,
      "outputs": []
    },
    {
      "cell_type": "code",
      "metadata": {
        "colab": {
          "base_uri": "https://localhost:8080/"
        },
        "id": "hKY4FTFDnTFt",
        "outputId": "17b6bd94-9a96-4a94-dd5c-74c59ce12d62"
      },
      "source": [
        "for tweet in o_tweets:\n",
        "  o_tweet.append(tweet.text)\n"
      ],
      "execution_count": null,
      "outputs": [
        {
          "output_type": "execute_result",
          "data": {
            "text/plain": [
              "['@FrenkieFC @Cristiano Pussy is nowhere near',\n",
              " '@STREETWlSE Basileus was down bad for Auspex pussy fr fr',\n",
              " 'RT @lnbshr: niggas be tryna “Pinkpantheress is fye” they way in to some pussy brother please',\n",
              " 'RT @nthabank: Pussy hit different when you eat it first',\n",
              " 'RT @FineNFilm: More athletes standing behind Kyrie than Kaep. Niggas so pussy it’s not even funny lmfao',\n",
              " '@porn_sex_virgin_pussy_ch\\n-\\n- @girl_boobs_tits\\n-\\n- @girl_boobs_tits\\n-\\n- @girl_boobs_tits 82358356',\n",
              " '@porn_sex__extreme___pussy___big   \\n  - \\n  - @boobs_tits_link   \\n  - \\n  - @boobs_tits_link   \\n  - \\n  - @boobs_tits_link  484519969',\n",
              " 'RT @nthabank: Pussy hit different when you eat it first',\n",
              " '@DinkMagic Wish it was me, bud. I gotta settle for being the guy who is super sneaky good at eating pussy, instead',\n",
              " '@SUPER1SZN start the space again i finally wasnt a pussy for once and you had to go and end it wtf man \\U0001f9cd\\u200d♂️',\n",
              " '@ThomasJAllie So because I don’t offer the option of wiping their pussy juice off my beard, I’m being rude?',\n",
              " 'RT @lnbshr: niggas be tryna “Pinkpantheress is fye” they way in to some pussy brother please',\n",
              " 'i thought a pussy hoe said sum … 😭🤣',\n",
              " '@urrmommmyy i only play that shit w friends bc im a pussy',\n",
              " 'RT @lilyannefukdoll: i just came like an hour ago but my pussy is still throbbing so hard FUCK THIS IM SUCH A WHORE',\n",
              " 'RT @prettyplsdaddy: craving pussy and pupusas',\n",
              " 'RT @nthabank: Pussy hit different when you eat it first',\n",
              " 'Nigga wanna fucck this pussy gotta suck this pusssyy',\n",
              " 'RT @bokutoIuvr: poof pussy like alakazam https://t.co/6ppRglLW2n',\n",
              " '@GetEmOuttaHere Bruh whole story crazy she calling him gay, he like hell naw I used in your pussy stank!! I’m like why you even there !!!!',\n",
              " 'RT @nthabank: Pussy hit different when you eat it first',\n",
              " 'If she hoed you, run yo bag up and try again. If you get some pussy from her, cut her off an fuck her friend',\n",
              " 'RT @y4sslin: i be trying to choose peace but then I be like I’m pussy?',\n",
              " 'RT @hoeglizzy: When you grab her ass you gotta make sure you grab a lil pussy too',\n",
              " 'I agree putting your face in pussy is self care af https://t.co/1tajdpgDKT',\n",
              " '@irlchan @HOLOFLM @g4yrcha Me when i see pussy',\n",
              " 'soy una muñeca, soy un pussy exclusive',\n",
              " 'Her pussy made life so much easier',\n",
              " '@FrenkieFC @Cristiano Pussy is nowhere near',\n",
              " '@STREETWlSE Basileus was down bad for Auspex pussy fr fr',\n",
              " 'RT @lnbshr: niggas be tryna “Pinkpantheress is fye” they way in to some pussy brother please',\n",
              " 'RT @nthabank: Pussy hit different when you eat it first',\n",
              " 'RT @FineNFilm: More athletes standing behind Kyrie than Kaep. Niggas so pussy it’s not even funny lmfao',\n",
              " '@porn_sex_virgin_pussy_ch\\n-\\n- @girl_boobs_tits\\n-\\n- @girl_boobs_tits\\n-\\n- @girl_boobs_tits 82358356',\n",
              " '@porn_sex__extreme___pussy___big   \\n  - \\n  - @boobs_tits_link   \\n  - \\n  - @boobs_tits_link   \\n  - \\n  - @boobs_tits_link  484519969',\n",
              " 'RT @nthabank: Pussy hit different when you eat it first',\n",
              " '@DinkMagic Wish it was me, bud. I gotta settle for being the guy who is super sneaky good at eating pussy, instead',\n",
              " '@SUPER1SZN start the space again i finally wasnt a pussy for once and you had to go and end it wtf man \\U0001f9cd\\u200d♂️',\n",
              " '@ThomasJAllie So because I don’t offer the option of wiping their pussy juice off my beard, I’m being rude?',\n",
              " 'RT @lnbshr: niggas be tryna “Pinkpantheress is fye” they way in to some pussy brother please',\n",
              " 'i thought a pussy hoe said sum … 😭🤣',\n",
              " '@urrmommmyy i only play that shit w friends bc im a pussy',\n",
              " 'RT @lilyannefukdoll: i just came like an hour ago but my pussy is still throbbing so hard FUCK THIS IM SUCH A WHORE',\n",
              " 'RT @prettyplsdaddy: craving pussy and pupusas',\n",
              " 'RT @nthabank: Pussy hit different when you eat it first',\n",
              " 'Nigga wanna fucck this pussy gotta suck this pusssyy',\n",
              " 'RT @bokutoIuvr: poof pussy like alakazam https://t.co/6ppRglLW2n',\n",
              " '@GetEmOuttaHere Bruh whole story crazy she calling him gay, he like hell naw I used in your pussy stank!! I’m like why you even there !!!!',\n",
              " 'RT @nthabank: Pussy hit different when you eat it first',\n",
              " 'If she hoed you, run yo bag up and try again. If you get some pussy from her, cut her off an fuck her friend',\n",
              " 'RT @y4sslin: i be trying to choose peace but then I be like I’m pussy?',\n",
              " 'RT @hoeglizzy: When you grab her ass you gotta make sure you grab a lil pussy too',\n",
              " 'I agree putting your face in pussy is self care af https://t.co/1tajdpgDKT',\n",
              " '@irlchan @HOLOFLM @g4yrcha Me when i see pussy',\n",
              " 'soy una muñeca, soy un pussy exclusive',\n",
              " 'Her pussy made life so much easier',\n",
              " '@FrenkieFC @Cristiano Pussy is nowhere near',\n",
              " '@STREETWlSE Basileus was down bad for Auspex pussy fr fr',\n",
              " 'RT @lnbshr: niggas be tryna “Pinkpantheress is fye” they way in to some pussy brother please',\n",
              " 'RT @nthabank: Pussy hit different when you eat it first',\n",
              " 'RT @FineNFilm: More athletes standing behind Kyrie than Kaep. Niggas so pussy it’s not even funny lmfao',\n",
              " '@porn_sex_virgin_pussy_ch\\n-\\n- @girl_boobs_tits\\n-\\n- @girl_boobs_tits\\n-\\n- @girl_boobs_tits 82358356',\n",
              " '@porn_sex__extreme___pussy___big   \\n  - \\n  - @boobs_tits_link   \\n  - \\n  - @boobs_tits_link   \\n  - \\n  - @boobs_tits_link  484519969',\n",
              " 'RT @nthabank: Pussy hit different when you eat it first',\n",
              " '@DinkMagic Wish it was me, bud. I gotta settle for being the guy who is super sneaky good at eating pussy, instead',\n",
              " '@SUPER1SZN start the space again i finally wasnt a pussy for once and you had to go and end it wtf man \\U0001f9cd\\u200d♂️',\n",
              " '@ThomasJAllie So because I don’t offer the option of wiping their pussy juice off my beard, I’m being rude?',\n",
              " 'RT @lnbshr: niggas be tryna “Pinkpantheress is fye” they way in to some pussy brother please',\n",
              " 'i thought a pussy hoe said sum … 😭🤣',\n",
              " '@urrmommmyy i only play that shit w friends bc im a pussy',\n",
              " 'RT @lilyannefukdoll: i just came like an hour ago but my pussy is still throbbing so hard FUCK THIS IM SUCH A WHORE',\n",
              " 'RT @prettyplsdaddy: craving pussy and pupusas',\n",
              " 'RT @nthabank: Pussy hit different when you eat it first',\n",
              " 'Nigga wanna fucck this pussy gotta suck this pusssyy',\n",
              " 'RT @bokutoIuvr: poof pussy like alakazam https://t.co/6ppRglLW2n',\n",
              " '@GetEmOuttaHere Bruh whole story crazy she calling him gay, he like hell naw I used in your pussy stank!! I’m like why you even there !!!!',\n",
              " 'RT @nthabank: Pussy hit different when you eat it first',\n",
              " 'If she hoed you, run yo bag up and try again. If you get some pussy from her, cut her off an fuck her friend',\n",
              " 'RT @y4sslin: i be trying to choose peace but then I be like I’m pussy?',\n",
              " 'RT @hoeglizzy: When you grab her ass you gotta make sure you grab a lil pussy too',\n",
              " 'I agree putting your face in pussy is self care af https://t.co/1tajdpgDKT',\n",
              " '@irlchan @HOLOFLM @g4yrcha Me when i see pussy',\n",
              " 'soy una muñeca, soy un pussy exclusive',\n",
              " 'Her pussy made life so much easier']"
            ]
          },
          "metadata": {},
          "execution_count": 37
        }
      ]
    },
    {
      "cell_type": "code",
      "metadata": {
        "id": "TQMPun_Wnp50"
      },
      "source": [
        "df_o=pd.DataFrame(o_tweet)"
      ],
      "execution_count": null,
      "outputs": []
    },
    {
      "cell_type": "code",
      "metadata": {
        "id": "HWRlvPCCn2Vb"
      },
      "source": [
        "df_o['tweet']=df_o\n",
        "df_o['label']=1"
      ],
      "execution_count": null,
      "outputs": []
    },
    {
      "cell_type": "code",
      "metadata": {
        "id": "zqDU45LUn_VE"
      },
      "source": [
        "df_o=df_o[['tweet','label']]"
      ],
      "execution_count": null,
      "outputs": []
    },
    {
      "cell_type": "code",
      "metadata": {
        "id": "ivXzHTMnoAGk"
      },
      "source": [
        "h_tweets = api.search('faggot', count=100)"
      ],
      "execution_count": null,
      "outputs": []
    },
    {
      "cell_type": "code",
      "metadata": {
        "id": "os1bg4AXoaFb"
      },
      "source": [
        "h_tweet=[]"
      ],
      "execution_count": null,
      "outputs": []
    },
    {
      "cell_type": "code",
      "metadata": {
        "id": "hn0P29OVoYY3"
      },
      "source": [
        "for tweet in h_tweets:\n",
        "  h_tweet.append(tweet.text)"
      ],
      "execution_count": null,
      "outputs": []
    },
    {
      "cell_type": "code",
      "metadata": {
        "id": "DD95_ZyaoQNc"
      },
      "source": [
        "df_h=pd.DataFrame(h_tweet)\n",
        "df_h['tweet']=df_h\n",
        "df_h['label']=0"
      ],
      "execution_count": null,
      "outputs": []
    },
    {
      "cell_type": "code",
      "metadata": {
        "id": "J8wKaP_Gpzzz"
      },
      "source": [
        "df_h=df_h[['tweet','label']]"
      ],
      "execution_count": null,
      "outputs": []
    },
    {
      "cell_type": "code",
      "metadata": {
        "id": "R0cdDSe2ojz0"
      },
      "source": [
        "n_tweets = api.search('happy', count=100)"
      ],
      "execution_count": null,
      "outputs": []
    },
    {
      "cell_type": "code",
      "metadata": {
        "id": "E5W5L6repIXc"
      },
      "source": [
        "n_tweet=[]"
      ],
      "execution_count": null,
      "outputs": []
    },
    {
      "cell_type": "code",
      "metadata": {
        "id": "REHCjcWfpRkc"
      },
      "source": [
        "for tweet in n_tweets:\n",
        "  n_tweet.append(tweet.text)"
      ],
      "execution_count": null,
      "outputs": []
    },
    {
      "cell_type": "code",
      "metadata": {
        "id": "fedLnIhPpbkN"
      },
      "source": [
        "df_n=pd.DataFrame(n_tweet)"
      ],
      "execution_count": null,
      "outputs": []
    },
    {
      "cell_type": "code",
      "metadata": {
        "id": "oxoksyjhpeFM"
      },
      "source": [
        "df_n['tweet']=df_n\n",
        "df_n['label']=2"
      ],
      "execution_count": null,
      "outputs": []
    },
    {
      "cell_type": "code",
      "metadata": {
        "id": "VtGlwT9Op4Qu"
      },
      "source": [
        "df_n=df_n[['tweet','label']]"
      ],
      "execution_count": null,
      "outputs": []
    },
    {
      "cell_type": "code",
      "metadata": {
        "id": "9iSF50_JqIUN"
      },
      "source": [
        ""
      ],
      "execution_count": null,
      "outputs": []
    },
    {
      "cell_type": "code",
      "metadata": {
        "id": "cbMJdkbXpfNU"
      },
      "source": [
        "df_take2=pd.concat([df_h,df_o,df_n])\n",
        "df_take2.to_csv('twitter_3.csv') "
      ],
      "execution_count": null,
      "outputs": []
    }
  ]
}