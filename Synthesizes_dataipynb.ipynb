version https://git-lfs.github.com/spec/v1
oid sha256:6f788f7f753cc0416eefe6e92392287a116a284c32f203df7849bdf25569abba
size 57011
