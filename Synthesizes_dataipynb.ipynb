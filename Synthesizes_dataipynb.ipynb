version https://git-lfs.github.com/spec/v1
oid sha256:216eb75288832df6f056e83408736896c653dbf1941500ad547f17baec6d9da0
size 136029
